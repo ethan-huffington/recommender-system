{
 "cells": [
  {
   "cell_type": "markdown",
   "id": "ad0b0807-8436-4fbd-b7fd-ae479cfee4f8",
   "metadata": {},
   "source": [
    "<div style=\"background-color:moccasin; color:black; padding:5px; font-size:20px\">\n",
    "Setup"
   ]
  },
  {
   "cell_type": "code",
   "execution_count": 1,
   "id": "83c4c890-743a-48c7-9e39-9a91e52f13fb",
   "metadata": {
    "collapsed": true,
    "jupyter": {
     "outputs_hidden": true
    },
    "scrolled": true
   },
   "outputs": [
    {
     "name": "stdout",
     "output_type": "stream",
     "text": [
      "Collecting hopsworks\n",
      "  Using cached hopsworks-3.4.4-py3-none-any.whl\n",
      "Collecting hsfs<3.5.0,>=3.4.0 (from hsfs[python]<3.5.0,>=3.4.0->hopsworks)\n",
      "  Using cached hsfs-3.4.7-py3-none-any.whl\n",
      "Collecting hsml<3.5.0,>=3.4.0 (from hopsworks)\n",
      "  Using cached hsml-3.4.6-py3-none-any.whl\n",
      "Collecting pyhumps==1.6.1 (from hopsworks)\n",
      "  Using cached pyhumps-1.6.1-py3-none-any.whl.metadata (3.7 kB)\n",
      "Requirement already satisfied: requests in /opt/conda/lib/python3.10/site-packages (from hopsworks) (2.31.0)\n",
      "Collecting furl (from hopsworks)\n",
      "  Using cached furl-2.1.3-py2.py3-none-any.whl.metadata (1.2 kB)\n",
      "Requirement already satisfied: boto3 in /opt/conda/lib/python3.10/site-packages (from hopsworks) (1.28.64)\n",
      "Collecting pyjks (from hopsworks)\n",
      "  Downloading pyjks-20.0.0-py2.py3-none-any.whl.metadata (1.7 kB)\n",
      "Requirement already satisfied: mock in /opt/conda/lib/python3.10/site-packages (from hopsworks) (5.1.0)\n",
      "Requirement already satisfied: tqdm in /opt/conda/lib/python3.10/site-packages (from hopsworks) (4.66.1)\n",
      "Requirement already satisfied: pandas<2.2.0 in /opt/conda/lib/python3.10/site-packages (from hsfs<3.5.0,>=3.4.0->hsfs[python]<3.5.0,>=3.4.0->hopsworks) (2.1.4)\n",
      "Requirement already satisfied: numpy<2 in /opt/conda/lib/python3.10/site-packages (from hsfs<3.5.0,>=3.4.0->hsfs[python]<3.5.0,>=3.4.0->hopsworks) (1.26.3)\n",
      "Collecting avro==1.11.0 (from hsfs<3.5.0,>=3.4.0->hsfs[python]<3.5.0,>=3.4.0->hopsworks)\n",
      "  Using cached avro-1.11.0-py2.py3-none-any.whl\n",
      "Requirement already satisfied: sqlalchemy in /opt/conda/lib/python3.10/site-packages (from hsfs<3.5.0,>=3.4.0->hsfs[python]<3.5.0,>=3.4.0->hopsworks) (1.4.49)\n",
      "Collecting PyMySQL[rsa] (from hsfs<3.5.0,>=3.4.0->hsfs[python]<3.5.0,>=3.4.0->hopsworks)\n",
      "  Using cached PyMySQL-1.1.0-py3-none-any.whl.metadata (4.4 kB)\n",
      "Collecting great-expectations==0.14.13 (from hsfs<3.5.0,>=3.4.0->hsfs[python]<3.5.0,>=3.4.0->hopsworks)\n",
      "  Using cached great_expectations-0.14.13-py3-none-any.whl.metadata (4.7 kB)\n",
      "Collecting markupsafe<2.1.0 (from hsfs<3.5.0,>=3.4.0->hsfs[python]<3.5.0,>=3.4.0->hopsworks)\n",
      "  Using cached MarkupSafe-2.0.1-cp310-cp310-manylinux_2_5_x86_64.manylinux1_x86_64.manylinux_2_12_x86_64.manylinux2010_x86_64.whl.metadata (3.2 kB)\n",
      "Collecting tzlocal (from hsfs<3.5.0,>=3.4.0->hsfs[python]<3.5.0,>=3.4.0->hopsworks)\n",
      "  Using cached tzlocal-5.2-py3-none-any.whl.metadata (7.8 kB)\n",
      "Requirement already satisfied: fsspec in /opt/conda/lib/python3.10/site-packages (from hsfs<3.5.0,>=3.4.0->hsfs[python]<3.5.0,>=3.4.0->hopsworks) (2023.6.0)\n",
      "Collecting altair<5,>=4.0.0 (from great-expectations==0.14.13->hsfs<3.5.0,>=3.4.0->hsfs[python]<3.5.0,>=3.4.0->hopsworks)\n",
      "  Using cached altair-4.2.2-py3-none-any.whl.metadata (13 kB)\n",
      "Requirement already satisfied: Click>=7.1.2 in /opt/conda/lib/python3.10/site-packages (from great-expectations==0.14.13->hsfs<3.5.0,>=3.4.0->hsfs[python]<3.5.0,>=3.4.0->hopsworks) (8.1.7)\n",
      "Requirement already satisfied: colorama>=0.4.3 in /opt/conda/lib/python3.10/site-packages (from great-expectations==0.14.13->hsfs<3.5.0,>=3.4.0->hsfs[python]<3.5.0,>=3.4.0->hopsworks) (0.4.6)\n",
      "Requirement already satisfied: cryptography>=3.2 in /opt/conda/lib/python3.10/site-packages (from great-expectations==0.14.13->hsfs<3.5.0,>=3.4.0->hsfs[python]<3.5.0,>=3.4.0->hopsworks) (42.0.2)\n",
      "Requirement already satisfied: dataclasses in /opt/conda/lib/python3.10/site-packages (from great-expectations==0.14.13->hsfs<3.5.0,>=3.4.0->hsfs[python]<3.5.0,>=3.4.0->hopsworks) (0.8)\n",
      "Requirement already satisfied: importlib-metadata>=1.7.0 in /opt/conda/lib/python3.10/site-packages (from great-expectations==0.14.13->hsfs<3.5.0,>=3.4.0->hsfs[python]<3.5.0,>=3.4.0->hopsworks) (6.10.0)\n",
      "Requirement already satisfied: Ipython>=7.16.3 in /opt/conda/lib/python3.10/site-packages (from great-expectations==0.14.13->hsfs<3.5.0,>=3.4.0->hsfs[python]<3.5.0,>=3.4.0->hopsworks) (8.20.0)\n",
      "Collecting jinja2<3.1.0,>=2.10 (from great-expectations==0.14.13->hsfs<3.5.0,>=3.4.0->hsfs[python]<3.5.0,>=3.4.0->hopsworks)\n",
      "  Using cached Jinja2-3.0.3-py3-none-any.whl.metadata (3.5 kB)\n",
      "Requirement already satisfied: jsonpatch>=1.22 in /opt/conda/lib/python3.10/site-packages (from great-expectations==0.14.13->hsfs<3.5.0,>=3.4.0->hsfs[python]<3.5.0,>=3.4.0->hopsworks) (1.33)\n",
      "Requirement already satisfied: jsonschema>=2.5.1 in /opt/conda/lib/python3.10/site-packages (from great-expectations==0.14.13->hsfs<3.5.0,>=3.4.0->hsfs[python]<3.5.0,>=3.4.0->hopsworks) (4.17.3)\n",
      "Requirement already satisfied: mistune>=0.8.4 in /opt/conda/lib/python3.10/site-packages (from great-expectations==0.14.13->hsfs<3.5.0,>=3.4.0->hsfs[python]<3.5.0,>=3.4.0->hopsworks) (3.0.2)\n",
      "Requirement already satisfied: nbformat>=5.0 in /opt/conda/lib/python3.10/site-packages (from great-expectations==0.14.13->hsfs<3.5.0,>=3.4.0->hsfs[python]<3.5.0,>=3.4.0->hopsworks) (5.9.2)\n",
      "Requirement already satisfied: packaging in /opt/conda/lib/python3.10/site-packages (from great-expectations==0.14.13->hsfs<3.5.0,>=3.4.0->hsfs[python]<3.5.0,>=3.4.0->hopsworks) (23.2)\n",
      "Collecting pyparsing<3,>=2.4 (from great-expectations==0.14.13->hsfs<3.5.0,>=3.4.0->hsfs[python]<3.5.0,>=3.4.0->hopsworks)\n",
      "  Downloading pyparsing-2.4.7-py2.py3-none-any.whl.metadata (3.6 kB)\n",
      "Requirement already satisfied: python-dateutil>=2.8.1 in /opt/conda/lib/python3.10/site-packages (from great-expectations==0.14.13->hsfs<3.5.0,>=3.4.0->hsfs[python]<3.5.0,>=3.4.0->hopsworks) (2.8.2)\n",
      "Requirement already satisfied: pytz>=2021.3 in /opt/conda/lib/python3.10/site-packages (from great-expectations==0.14.13->hsfs<3.5.0,>=3.4.0->hsfs[python]<3.5.0,>=3.4.0->hopsworks) (2023.3)\n",
      "Collecting ruamel.yaml<0.17.18,>=0.16 (from great-expectations==0.14.13->hsfs<3.5.0,>=3.4.0->hsfs[python]<3.5.0,>=3.4.0->hopsworks)\n",
      "  Using cached ruamel.yaml-0.17.17-py3-none-any.whl.metadata (12 kB)\n",
      "Requirement already satisfied: scipy>=0.19.0 in /opt/conda/lib/python3.10/site-packages (from great-expectations==0.14.13->hsfs<3.5.0,>=3.4.0->hsfs[python]<3.5.0,>=3.4.0->hopsworks) (1.11.4)\n",
      "Requirement already satisfied: termcolor>=1.1.0 in /opt/conda/lib/python3.10/site-packages (from great-expectations==0.14.13->hsfs<3.5.0,>=3.4.0->hsfs[python]<3.5.0,>=3.4.0->hopsworks) (2.4.0)\n",
      "Requirement already satisfied: typing-extensions>=3.10.0.0 in /opt/conda/lib/python3.10/site-packages (from great-expectations==0.14.13->hsfs<3.5.0,>=3.4.0->hsfs[python]<3.5.0,>=3.4.0->hopsworks) (4.5.0)\n",
      "Requirement already satisfied: urllib3<1.27,>=1.25.4 in /opt/conda/lib/python3.10/site-packages (from great-expectations==0.14.13->hsfs<3.5.0,>=3.4.0->hsfs[python]<3.5.0,>=3.4.0->hopsworks) (1.26.18)\n",
      "Collecting pyhopshive[thrift] (from hsfs[python]<3.5.0,>=3.4.0->hopsworks)\n",
      "  Using cached PyHopsHive-0.6.4.1.dev0-py3-none-any.whl\n",
      "Requirement already satisfied: pyarrow>=10.0 in /opt/conda/lib/python3.10/site-packages (from hsfs[python]<3.5.0,>=3.4.0->hopsworks) (12.0.1)\n",
      "Collecting confluent-kafka<=2.3.0 (from hsfs[python]<3.5.0,>=3.4.0->hopsworks)\n",
      "  Using cached confluent_kafka-2.3.0-cp310-cp310-manylinux_2_17_x86_64.manylinux2014_x86_64.whl.metadata (2.3 kB)\n",
      "Collecting fastavro<=1.8.2,>=1.4.11 (from hsfs[python]<3.5.0,>=3.4.0->hopsworks)\n",
      "  Using cached fastavro-1.8.2-cp310-cp310-manylinux_2_17_x86_64.manylinux2014_x86_64.whl.metadata (5.5 kB)\n",
      "Requirement already satisfied: charset-normalizer<4,>=2 in /opt/conda/lib/python3.10/site-packages (from requests->hopsworks) (3.3.2)\n",
      "Requirement already satisfied: idna<4,>=2.5 in /opt/conda/lib/python3.10/site-packages (from requests->hopsworks) (3.6)\n",
      "Requirement already satisfied: certifi>=2017.4.17 in /opt/conda/lib/python3.10/site-packages (from requests->hopsworks) (2023.11.17)\n",
      "Requirement already satisfied: botocore<1.32.0,>=1.31.64 in /opt/conda/lib/python3.10/site-packages (from boto3->hopsworks) (1.31.64)\n",
      "Requirement already satisfied: jmespath<2.0.0,>=0.7.1 in /opt/conda/lib/python3.10/site-packages (from boto3->hopsworks) (1.0.1)\n",
      "Requirement already satisfied: s3transfer<0.8.0,>=0.7.0 in /opt/conda/lib/python3.10/site-packages (from boto3->hopsworks) (0.7.0)\n",
      "Requirement already satisfied: six>=1.8.0 in /opt/conda/lib/python3.10/site-packages (from furl->hopsworks) (1.16.0)\n",
      "Collecting orderedmultidict>=1.0.1 (from furl->hopsworks)\n",
      "  Using cached orderedmultidict-1.0.1-py2.py3-none-any.whl (11 kB)\n",
      "Collecting javaobj-py3 (from pyjks->hopsworks)\n",
      "  Using cached javaobj_py3-0.4.3-py2.py3-none-any.whl.metadata (17 kB)\n",
      "Requirement already satisfied: pyasn1>=0.3.5 in /opt/conda/lib/python3.10/site-packages (from pyjks->hopsworks) (0.5.1)\n",
      "Requirement already satisfied: pyasn1-modules in /opt/conda/lib/python3.10/site-packages (from pyjks->hopsworks) (0.3.0)\n",
      "Collecting pycryptodomex (from pyjks->hopsworks)\n",
      "  Using cached pycryptodomex-3.20.0-cp35-abi3-manylinux_2_17_x86_64.manylinux2014_x86_64.whl.metadata (3.4 kB)\n",
      "Collecting twofish (from pyjks->hopsworks)\n",
      "  Using cached twofish-0.3.0-cp310-cp310-linux_x86_64.whl\n",
      "Requirement already satisfied: tzdata>=2022.1 in /opt/conda/lib/python3.10/site-packages (from pandas<2.2.0->hsfs<3.5.0,>=3.4.0->hsfs[python]<3.5.0,>=3.4.0->hopsworks) (2023.4)\n",
      "Requirement already satisfied: future in /opt/conda/lib/python3.10/site-packages (from pyhopshive[thrift]; extra == \"python\"->hsfs[python]<3.5.0,>=3.4.0->hopsworks) (0.18.3)\n",
      "Requirement already satisfied: thrift>=0.10.0 in /opt/conda/lib/python3.10/site-packages (from pyhopshive[thrift]; extra == \"python\"->hsfs[python]<3.5.0,>=3.4.0->hopsworks) (0.19.0)\n",
      "Requirement already satisfied: greenlet!=0.4.17 in /opt/conda/lib/python3.10/site-packages (from sqlalchemy->hsfs<3.5.0,>=3.4.0->hsfs[python]<3.5.0,>=3.4.0->hopsworks) (3.0.1)\n",
      "Requirement already satisfied: entrypoints in /opt/conda/lib/python3.10/site-packages (from altair<5,>=4.0.0->great-expectations==0.14.13->hsfs<3.5.0,>=3.4.0->hsfs[python]<3.5.0,>=3.4.0->hopsworks) (0.4)\n",
      "Requirement already satisfied: toolz in /opt/conda/lib/python3.10/site-packages (from altair<5,>=4.0.0->great-expectations==0.14.13->hsfs<3.5.0,>=3.4.0->hsfs[python]<3.5.0,>=3.4.0->hopsworks) (0.12.1)\n",
      "Requirement already satisfied: cffi>=1.12 in /opt/conda/lib/python3.10/site-packages (from cryptography>=3.2->great-expectations==0.14.13->hsfs<3.5.0,>=3.4.0->hsfs[python]<3.5.0,>=3.4.0->hopsworks) (1.16.0)\n",
      "Requirement already satisfied: zipp>=0.5 in /opt/conda/lib/python3.10/site-packages (from importlib-metadata>=1.7.0->great-expectations==0.14.13->hsfs<3.5.0,>=3.4.0->hsfs[python]<3.5.0,>=3.4.0->hopsworks) (3.17.0)\n",
      "Requirement already satisfied: decorator in /opt/conda/lib/python3.10/site-packages (from Ipython>=7.16.3->great-expectations==0.14.13->hsfs<3.5.0,>=3.4.0->hsfs[python]<3.5.0,>=3.4.0->hopsworks) (5.1.1)\n",
      "Requirement already satisfied: jedi>=0.16 in /opt/conda/lib/python3.10/site-packages (from Ipython>=7.16.3->great-expectations==0.14.13->hsfs<3.5.0,>=3.4.0->hsfs[python]<3.5.0,>=3.4.0->hopsworks) (0.19.1)\n",
      "Requirement already satisfied: matplotlib-inline in /opt/conda/lib/python3.10/site-packages (from Ipython>=7.16.3->great-expectations==0.14.13->hsfs<3.5.0,>=3.4.0->hsfs[python]<3.5.0,>=3.4.0->hopsworks) (0.1.6)\n",
      "Requirement already satisfied: prompt-toolkit<3.1.0,>=3.0.41 in /opt/conda/lib/python3.10/site-packages (from Ipython>=7.16.3->great-expectations==0.14.13->hsfs<3.5.0,>=3.4.0->hsfs[python]<3.5.0,>=3.4.0->hopsworks) (3.0.42)\n",
      "Requirement already satisfied: pygments>=2.4.0 in /opt/conda/lib/python3.10/site-packages (from Ipython>=7.16.3->great-expectations==0.14.13->hsfs<3.5.0,>=3.4.0->hsfs[python]<3.5.0,>=3.4.0->hopsworks) (2.17.2)\n",
      "Requirement already satisfied: stack-data in /opt/conda/lib/python3.10/site-packages (from Ipython>=7.16.3->great-expectations==0.14.13->hsfs<3.5.0,>=3.4.0->hsfs[python]<3.5.0,>=3.4.0->hopsworks) (0.6.2)\n",
      "Requirement already satisfied: traitlets>=5 in /opt/conda/lib/python3.10/site-packages (from Ipython>=7.16.3->great-expectations==0.14.13->hsfs<3.5.0,>=3.4.0->hsfs[python]<3.5.0,>=3.4.0->hopsworks) (5.14.1)\n",
      "Requirement already satisfied: exceptiongroup in /opt/conda/lib/python3.10/site-packages (from Ipython>=7.16.3->great-expectations==0.14.13->hsfs<3.5.0,>=3.4.0->hsfs[python]<3.5.0,>=3.4.0->hopsworks) (1.2.0)\n",
      "Requirement already satisfied: pexpect>4.3 in /opt/conda/lib/python3.10/site-packages (from Ipython>=7.16.3->great-expectations==0.14.13->hsfs<3.5.0,>=3.4.0->hsfs[python]<3.5.0,>=3.4.0->hopsworks) (4.9.0)\n",
      "Requirement already satisfied: jsonpointer>=1.9 in /opt/conda/lib/python3.10/site-packages (from jsonpatch>=1.22->great-expectations==0.14.13->hsfs<3.5.0,>=3.4.0->hsfs[python]<3.5.0,>=3.4.0->hopsworks) (2.4)\n",
      "Requirement already satisfied: attrs>=17.4.0 in /opt/conda/lib/python3.10/site-packages (from jsonschema>=2.5.1->great-expectations==0.14.13->hsfs<3.5.0,>=3.4.0->hsfs[python]<3.5.0,>=3.4.0->hopsworks) (23.2.0)\n",
      "Requirement already satisfied: pyrsistent!=0.17.0,!=0.17.1,!=0.17.2,>=0.14.0 in /opt/conda/lib/python3.10/site-packages (from jsonschema>=2.5.1->great-expectations==0.14.13->hsfs<3.5.0,>=3.4.0->hsfs[python]<3.5.0,>=3.4.0->hopsworks) (0.20.0)\n",
      "Requirement already satisfied: fastjsonschema in /opt/conda/lib/python3.10/site-packages (from nbformat>=5.0->great-expectations==0.14.13->hsfs<3.5.0,>=3.4.0->hsfs[python]<3.5.0,>=3.4.0->hopsworks) (2.19.1)\n",
      "Requirement already satisfied: jupyter-core in /opt/conda/lib/python3.10/site-packages (from nbformat>=5.0->great-expectations==0.14.13->hsfs<3.5.0,>=3.4.0->hsfs[python]<3.5.0,>=3.4.0->hopsworks) (5.7.1)\n",
      "Requirement already satisfied: pycparser in /opt/conda/lib/python3.10/site-packages (from cffi>=1.12->cryptography>=3.2->great-expectations==0.14.13->hsfs<3.5.0,>=3.4.0->hsfs[python]<3.5.0,>=3.4.0->hopsworks) (2.21)\n",
      "Requirement already satisfied: parso<0.9.0,>=0.8.3 in /opt/conda/lib/python3.10/site-packages (from jedi>=0.16->Ipython>=7.16.3->great-expectations==0.14.13->hsfs<3.5.0,>=3.4.0->hsfs[python]<3.5.0,>=3.4.0->hopsworks) (0.8.3)\n",
      "Requirement already satisfied: ptyprocess>=0.5 in /opt/conda/lib/python3.10/site-packages (from pexpect>4.3->Ipython>=7.16.3->great-expectations==0.14.13->hsfs<3.5.0,>=3.4.0->hsfs[python]<3.5.0,>=3.4.0->hopsworks) (0.7.0)\n",
      "Requirement already satisfied: wcwidth in /opt/conda/lib/python3.10/site-packages (from prompt-toolkit<3.1.0,>=3.0.41->Ipython>=7.16.3->great-expectations==0.14.13->hsfs<3.5.0,>=3.4.0->hsfs[python]<3.5.0,>=3.4.0->hopsworks) (0.2.13)\n",
      "Requirement already satisfied: platformdirs>=2.5 in /opt/conda/lib/python3.10/site-packages (from jupyter-core->nbformat>=5.0->great-expectations==0.14.13->hsfs<3.5.0,>=3.4.0->hsfs[python]<3.5.0,>=3.4.0->hopsworks) (4.2.0)\n",
      "Requirement already satisfied: executing>=1.2.0 in /opt/conda/lib/python3.10/site-packages (from stack-data->Ipython>=7.16.3->great-expectations==0.14.13->hsfs<3.5.0,>=3.4.0->hsfs[python]<3.5.0,>=3.4.0->hopsworks) (2.0.1)\n",
      "Requirement already satisfied: asttokens>=2.1.0 in /opt/conda/lib/python3.10/site-packages (from stack-data->Ipython>=7.16.3->great-expectations==0.14.13->hsfs<3.5.0,>=3.4.0->hsfs[python]<3.5.0,>=3.4.0->hopsworks) (2.4.1)\n",
      "Requirement already satisfied: pure-eval in /opt/conda/lib/python3.10/site-packages (from stack-data->Ipython>=7.16.3->great-expectations==0.14.13->hsfs<3.5.0,>=3.4.0->hsfs[python]<3.5.0,>=3.4.0->hopsworks) (0.2.2)\n",
      "Using cached pyhumps-1.6.1-py3-none-any.whl (5.0 kB)\n",
      "Using cached great_expectations-0.14.13-py3-none-any.whl (5.0 MB)\n",
      "Using cached furl-2.1.3-py2.py3-none-any.whl (20 kB)\n",
      "Using cached pyjks-20.0.0-py2.py3-none-any.whl (45 kB)\n",
      "Using cached confluent_kafka-2.3.0-cp310-cp310-manylinux_2_17_x86_64.manylinux2014_x86_64.whl (4.0 MB)\n",
      "Using cached fastavro-1.8.2-cp310-cp310-manylinux_2_17_x86_64.manylinux2014_x86_64.whl (2.7 MB)\n",
      "Using cached MarkupSafe-2.0.1-cp310-cp310-manylinux_2_5_x86_64.manylinux1_x86_64.manylinux_2_12_x86_64.manylinux2010_x86_64.whl (30 kB)\n",
      "Using cached tzlocal-5.2-py3-none-any.whl (17 kB)\n",
      "Using cached javaobj_py3-0.4.3-py2.py3-none-any.whl (57 kB)\n",
      "Using cached pycryptodomex-3.20.0-cp35-abi3-manylinux_2_17_x86_64.manylinux2014_x86_64.whl (2.1 MB)\n",
      "Using cached altair-4.2.2-py3-none-any.whl (813 kB)\n",
      "Using cached Jinja2-3.0.3-py3-none-any.whl (133 kB)\n",
      "Using cached pyparsing-2.4.7-py2.py3-none-any.whl (67 kB)\n",
      "Using cached ruamel.yaml-0.17.17-py3-none-any.whl (109 kB)\n",
      "Using cached PyMySQL-1.1.0-py3-none-any.whl (44 kB)\n",
      "Installing collected packages: twofish, pyhumps, javaobj-py3, confluent-kafka, tzlocal, ruamel.yaml, pyparsing, PyMySQL, pycryptodomex, orderedmultidict, markupsafe, fastavro, avro, pyjks, jinja2, furl, pyhopshive, altair, great-expectations, hsml, hsfs, hopsworks\n",
      "  Attempting uninstall: ruamel.yaml\n",
      "    Found existing installation: ruamel.yaml 0.18.5\n",
      "    Uninstalling ruamel.yaml-0.18.5:\n",
      "      Successfully uninstalled ruamel.yaml-0.18.5\n",
      "  Attempting uninstall: pyparsing\n",
      "    Found existing installation: pyparsing 3.1.1\n",
      "    Uninstalling pyparsing-3.1.1:\n",
      "      Successfully uninstalled pyparsing-3.1.1\n",
      "  Attempting uninstall: markupsafe\n",
      "    Found existing installation: MarkupSafe 2.1.4\n",
      "    Uninstalling MarkupSafe-2.1.4:\n",
      "      Successfully uninstalled MarkupSafe-2.1.4\n",
      "  Attempting uninstall: jinja2\n",
      "    Found existing installation: Jinja2 3.1.3\n",
      "    Uninstalling Jinja2-3.1.3:\n",
      "      Successfully uninstalled Jinja2-3.1.3\n",
      "  Attempting uninstall: altair\n",
      "    Found existing installation: altair 5.2.0\n",
      "    Uninstalling altair-5.2.0:\n",
      "      Successfully uninstalled altair-5.2.0\n",
      "\u001b[31mERROR: pip's dependency resolver does not currently take into account all the packages that are installed. This behaviour is the source of the following dependency conflicts.\n",
      "flask 3.0.1 requires Jinja2>=3.1.2, but you have jinja2 3.0.3 which is incompatible.\n",
      "sparkmagic 0.21.0 requires pandas<2.0.0,>=0.17.1, but you have pandas 2.1.4 which is incompatible.\n",
      "werkzeug 3.0.1 requires MarkupSafe>=2.1.1, but you have markupsafe 2.0.1 which is incompatible.\u001b[0m\u001b[31m\n",
      "\u001b[0mSuccessfully installed PyMySQL-1.1.0 altair-4.2.2 avro-1.11.0 confluent-kafka-2.3.0 fastavro-1.8.2 furl-2.1.3 great-expectations-0.14.13 hopsworks-3.4.4 hsfs-3.4.7 hsml-3.4.6 javaobj-py3-0.4.3 jinja2-3.0.3 markupsafe-2.0.1 orderedmultidict-1.0.1 pycryptodomex-3.20.0 pyhopshive-0.6.4.1.dev0 pyhumps-1.6.1 pyjks-20.0.0 pyparsing-2.4.7 ruamel.yaml-0.17.17 twofish-0.3.0 tzlocal-5.2\n"
     ]
    }
   ],
   "source": [
    "!pip install hopsworks"
   ]
  },
  {
   "cell_type": "markdown",
   "id": "9571ede5-3dd8-4cb9-b6db-d954cb9148f4",
   "metadata": {},
   "source": [
    "<div style=\"background-color:teal; color:white; padding:0px; font-size:20px\">\n",
    "Imports"
   ]
  },
  {
   "cell_type": "code",
   "execution_count": 2,
   "id": "c521a6b7-7118-493d-a35b-c7c4332724b1",
   "metadata": {},
   "outputs": [],
   "source": [
    "import os"
   ]
  },
  {
   "cell_type": "markdown",
   "id": "ab57dc02-4d1a-4380-b604-4f37240b387e",
   "metadata": {},
   "source": [
    "<div style=\"background-color:moccasin; color:black; padding:5px; font-size:20px\">\n",
    "Hopsworks Feature Store Connection"
   ]
  },
  {
   "cell_type": "code",
   "execution_count": 3,
   "id": "cdbb16d9-7c49-4089-a6a7-81fcd3dc851a",
   "metadata": {},
   "outputs": [
    {
     "name": "stdout",
     "output_type": "stream",
     "text": [
      "Connected. Call `.close()` to terminate connection gracefully.\n",
      "\n",
      "Logged in to project, explore it here https://c.app.hopsworks.ai:443/p/475285\n",
      "Connected. Call `.close()` to terminate connection gracefully.\n"
     ]
    }
   ],
   "source": [
    "import hopsworks\n",
    "\n",
    "project = hopsworks.login()\n",
    "\n",
    "fs = project.get_feature_store()"
   ]
  },
  {
   "cell_type": "code",
   "execution_count": 4,
   "id": "cd6c0e72-0152-4d48-af7b-8f5ba6abf70f",
   "metadata": {},
   "outputs": [
    {
     "name": "stdout",
     "output_type": "stream",
     "text": [
      "Connected. Call `.close()` to terminate connection gracefully.\n"
     ]
    }
   ],
   "source": [
    "# Connect to Hopsworks Model Registry\n",
    "mr = project.get_model_registry()\n",
    "\n",
    "dataset_api = project.get_dataset_api()"
   ]
  },
  {
   "cell_type": "markdown",
   "id": "e75c5742-3d5d-4f44-8895-1ba1b6570277",
   "metadata": {},
   "source": [
    "<div style=\"background-color:moccasin; color:black; padding:5px; font-size:20px\">\n",
    "Ranking Transformer & Model Definition"
   ]
  },
  {
   "cell_type": "code",
   "execution_count": 5,
   "id": "b695f773-5391-4241-a5cb-02fc3aff8300",
   "metadata": {},
   "outputs": [
    {
     "data": {
      "text/plain": [
       "Model(name: 'ranking_model', version: 1)"
      ]
     },
     "execution_count": 5,
     "metadata": {},
     "output_type": "execute_result"
    }
   ],
   "source": [
    "ranking_model = mr.get_best_model(\n",
    "    name=\"ranking_model\", \n",
    "    metric=\"fscore\", \n",
    "    direction=\"max\",\n",
    ")\n",
    "ranking_model"
   ]
  },
  {
   "cell_type": "markdown",
   "id": "8c7a37db-1a1a-4892-b0fb-a408ea69ddf2",
   "metadata": {},
   "source": [
    "<div style=\"background-color: darkgreen ; color:white; padding:0px; font-size:15px\">\n",
    "Transformer Definition"
   ]
  },
  {
   "cell_type": "code",
   "execution_count": 5,
   "id": "077618d7-634e-446c-b365-f6adc1656a4c",
   "metadata": {},
   "outputs": [
    {
     "name": "stdout",
     "output_type": "stream",
     "text": [
      "Overwriting ranking_transformer.py\n"
     ]
    }
   ],
   "source": [
    "%%writefile scripts/ranking_transformer.py\n",
    "\n",
    "# PINECONE SETUP\n",
    "# - - - - - - - - - - - - - - - - - - \n",
    "import subprocess\n",
    "import sys\n",
    "\n",
    "# Use subprocess to run the pip install command\n",
    "subprocess.check_call([sys.executable, \"-m\", \"pip\", \"install\", \"pinecone-client\"])\n",
    "\n",
    "import pinecone\n",
    "from pinecone import Pinecone\n",
    "\n",
    "# IMPORTS\n",
    "# - - - - - - - - - - - - - - - - - - \n",
    "\n",
    "import os\n",
    "import pandas as pd\n",
    "\n",
    "import hopsworks\n",
    "from opensearchpy import OpenSearch\n",
    "\n",
    "import logging\n",
    "\n",
    "class Transformer(object):\n",
    "    \n",
    "    def __init__(self):\n",
    "        \n",
    "        # Connect to Hopsworks\n",
    "        project = hopsworks.connection().get_project()\n",
    "        self.fs = project.get_feature_store()\n",
    "\n",
    "        # Connect to Pinecone\n",
    "        self.pc = Pinecone(api_key='83447319-a1d1-446b-bfbb-9fbce3071957')\n",
    "        \n",
    "        # Establish the 'articles' feature view\n",
    "        self.articles_fv = self.fs.get_feature_view(\n",
    "            name=\"articles\", \n",
    "            version=1,\n",
    "        )\n",
    "        \n",
    "        # Get list of feature names for articles\n",
    "        self.articles_features = [feat.name for feat in self.articles_fv.schema]\n",
    "        \n",
    "        # Establish the 'customers' feature view\n",
    "        self.customer_fv = self.fs.get_feature_view(\n",
    "            name=\"customers\", \n",
    "            version=1,\n",
    "        )\n",
    "\n",
    "        # Establish the 'candidate_embeddings' feature view\n",
    "        self.pc_index = self.pc.Index(\"recsys-project\")\n",
    "\n",
    "        # Retrieve ranking model\n",
    "        mr = project.get_model_registry()\n",
    "        model = mr.get_model(\n",
    "            name=\"ranking_model\", \n",
    "            version=1,\n",
    "        )\n",
    "        \n",
    "        # Extract input schema from the model\n",
    "        input_schema = model.model_schema[\"input_schema\"][\"columnar_schema\"]\n",
    "        \n",
    "        # Get the names of features expected by the ranking model\n",
    "        self.ranking_model_feature_names = [feat[\"name\"] for feat in input_schema]\n",
    "\n",
    "    def preprocess(self, inputs):\n",
    "        # Extract the input instance\n",
    "        inputs = inputs[\"instances\"][0]\n",
    "        \n",
    "        # Extract customer_id from inputs\n",
    "        customer_id = inputs[\"customer_id\"]\n",
    "\n",
    "        # Retrieve the 'candidate_embeddings' feature view\n",
    "        neighbors = self.pc_index.query(\n",
    "            vector=inputs[\"query_emb\"],\n",
    "            top_k=100,\n",
    "            include_values=True)\n",
    "\n",
    "        # Extract item_ids from returned object\n",
    "        neighbors = [match['id'] for match in neighbors['matches']]\n",
    "\n",
    "        # BUILD ARTICLE DATA INPUTS\n",
    "        # - - - - - - - - - - - - - - - - - - - - - - - - - -  \n",
    "        # Filter Out previously purchased candidates\n",
    "        # Enrich remaining with Article data\n",
    "        \n",
    "        # Get IDs of items already bought by the customer\n",
    "        already_bought_items_ids = self.fs.sql(\n",
    "            f\"SELECT article_id from transactions_1 WHERE customer_id = '{customer_id}'\"\n",
    "        ).values.reshape(-1).tolist()\n",
    "\n",
    "        # Filter candidate items to exclude those already bought by the customer\n",
    "        item_id_list = [\n",
    "            str(item_id) \n",
    "            for item_id \n",
    "            in neighbors \n",
    "            if str(item_id) \n",
    "            not in already_bought_items_ids\n",
    "        ]\n",
    "        # Create df from filtered list\n",
    "        item_id_df = pd.DataFrame({\"article_id\" : item_id_list})\n",
    "        \n",
    "        # Retrieve Article data for candidate items\n",
    "        articles_data = [\n",
    "            self.articles_fv.get_feature_vector({\"article_id\": item_id}) \n",
    "            for item_id \n",
    "            in item_id_list\n",
    "        ]\n",
    "\n",
    "        articles_df = pd.DataFrame(\n",
    "            data=articles_data, \n",
    "            columns=self.articles_features,\n",
    "        )\n",
    "        \n",
    "        # Join candidate items with their features\n",
    "        ranking_model_inputs = item_id_df.merge(\n",
    "            articles_df, \n",
    "            on=\"article_id\", \n",
    "            how=\"inner\",\n",
    "        )        \n",
    "\n",
    "        # ADD CUSTOMER DATA\n",
    "        # - - - - - - - - - - - - - - - - - - - - - \n",
    "        \n",
    "        # Add customer features to ranking_model_inputs\n",
    "        customer_features = self.customer_fv.get_feature_vector(\n",
    "            {\"customer_id\": customer_id}, \n",
    "            return_type=\"pandas\",\n",
    "        )\n",
    "        ranking_model_inputs[\"age\"] = customer_features.age.values[0]   \n",
    "        ranking_model_inputs[\"month_sin\"] = inputs[\"month_sin\"]\n",
    "        ranking_model_inputs[\"month_cos\"] = inputs[\"month_cos\"]\n",
    "\n",
    "        # Select only the features required by the ranking model\n",
    "        ranking_model_inputs = ranking_model_inputs[self.ranking_model_feature_names]\n",
    "                \n",
    "        return { \n",
    "            \"inputs\" : [{\"ranking_features\": ranking_model_inputs.values.tolist(), \"article_ids\": item_id_list}]\n",
    "        }\n",
    "        \n",
    "    # A simple postprocess method that just returns the model's output\n",
    "    def postprocess(self, outputs):\n",
    "        return outputs"
   ]
  },
  {
   "cell_type": "code",
   "execution_count": 6,
   "id": "17b0c18f-af75-40c2-87ea-8363b81c25ff",
   "metadata": {},
   "outputs": [
    {
     "data": {
      "application/vnd.jupyter.widget-view+json": {
       "model_id": "8176804b63554bb199ee3d72c179d567",
       "version_major": 2,
       "version_minor": 0
      },
      "text/plain": [
       "Uploading: 0.000%|          | 0/5404 elapsed<00:00 remaining<?"
      ]
     },
     "metadata": {},
     "output_type": "display_data"
    },
    {
     "name": "stdout",
     "output_type": "stream",
     "text": [
      "/Projects/RecSys_Project/Resources/ranking_transformer.py\n"
     ]
    }
   ],
   "source": [
    "# Copy transformer file into Hopsworks File System \n",
    "uploaded_file_path = dataset_api.upload(\n",
    "    \"ranking_transformer.py\",    # File name to be uploaded\n",
    "    \"Resources\",                 # Destination directory in Hopsworks File System \n",
    "    overwrite=True,              # Overwrite the file if it already exists\n",
    ") \n",
    "\n",
    "# Construct the path to the uploaded transformer script\n",
    "transformer_script_path = os.path.join(\n",
    "    \"/Projects\",                 # Root directory for projects in Hopsworks\n",
    "    project.name,                # Name of the current project\n",
    "    uploaded_file_path,          # Path to the uploaded file within the project\n",
    ")\n",
    "print(transformer_script_path)"
   ]
  },
  {
   "cell_type": "markdown",
   "id": "79ef18f3-1d30-4844-8962-b1d3336d487a",
   "metadata": {},
   "source": [
    "<div style=\"background-color: darkgreen ; color:white; padding:0px; font-size:15px\">\n",
    "Ranking Predictor Definition"
   ]
  },
  {
   "cell_type": "code",
   "execution_count": 50,
   "id": "34f52863-d094-4724-b192-41b7d8b6f8a3",
   "metadata": {},
   "outputs": [
    {
     "name": "stdout",
     "output_type": "stream",
     "text": [
      "Overwriting ranking_predictor.py\n"
     ]
    }
   ],
   "source": [
    "%%writefile scripts/ranking_predictor.py\n",
    "\n",
    "import os\n",
    "import joblib\n",
    "import numpy as np\n",
    "\n",
    "import logging\n",
    "\n",
    "class Predict(object):\n",
    "    \n",
    "    def __init__(self):\n",
    "        # Instantiate preloaded model through env. path\n",
    "        self.model = joblib.load(os.environ[\"ARTIFACT_FILES_PATH\"] + \"/ranking_model.pkl\")\n",
    "\n",
    "    def predict(self, inputs):\n",
    "        # Extract ranking features and article IDs from the inputs\n",
    "        features = inputs[0].pop(\"ranking_features\")\n",
    "        article_ids = inputs[0].pop(\"article_ids\")\n",
    "        \n",
    "        # Log the extracted features\n",
    "        logging.info(\"predict -> \" + str(features))\n",
    "\n",
    "        # Predict probabilities for the positive class\n",
    "        scores = self.model.predict_proba(features).tolist()\n",
    "        \n",
    "        # Get scores of positive class\n",
    "        scores = np.asarray(scores)[:,1].tolist() \n",
    "\n",
    "        # Return the predicted scores along with the corresponding article IDs\n",
    "        return {\n",
    "            \"scores\": scores, \n",
    "            \"article_ids\": article_ids,\n",
    "        }"
   ]
  },
  {
   "cell_type": "code",
   "execution_count": 51,
   "id": "c9ff952f-d28d-4e63-85aa-e3c940e1b315",
   "metadata": {},
   "outputs": [
    {
     "data": {
      "application/vnd.jupyter.widget-view+json": {
       "model_id": "18bbd68db9ac4ec6b0fe36790fbfc13f",
       "version_major": 2,
       "version_minor": 0
      },
      "text/plain": [
       "Uploading: 0.000%|          | 0/1056 elapsed<00:00 remaining<?"
      ]
     },
     "metadata": {},
     "output_type": "display_data"
    }
   ],
   "source": [
    "# Upload predictor file to Hopsworks\n",
    "uploaded_file_path = dataset_api.upload(\n",
    "    \"ranking_predictor.py\", \n",
    "    \"Resources\", \n",
    "    overwrite=True,\n",
    ")\n",
    "\n",
    "# Construct the path to the uploaded script\n",
    "predictor_script_path = os.path.join(\n",
    "    \"/Projects\", \n",
    "    project.name, \n",
    "    uploaded_file_path,\n",
    ")"
   ]
  },
  {
   "cell_type": "markdown",
   "id": "71d8cd35-7c22-434f-9482-73b7cdcee4ac",
   "metadata": {},
   "source": [
    "<div style=\"background-color:teal; color:white; padding:0px; font-size:15px\">\n",
    "Deploy Ranking Transformer & Predictor"
   ]
  },
  {
   "cell_type": "code",
   "execution_count": 52,
   "id": "47931a3b-4454-48d3-92bb-bd132a8ff253",
   "metadata": {},
   "outputs": [
    {
     "name": "stdout",
     "output_type": "stream",
     "text": [
      "Deployment created, explore it at https://c.app.hopsworks.ai:443/p/475285/deployments/211971\n",
      "Before making predictions, start the deployment by using `.start()`\n"
     ]
    }
   ],
   "source": [
    "from hsml.transformer import Transformer\n",
    "\n",
    "ranking_deployment_name = \"rankingdeployment\"\n",
    "\n",
    "# Define transformer\n",
    "ranking_transformer=Transformer(\n",
    "    script_file=transformer_script_path, \n",
    "    resources={\"num_instances\": 0},\n",
    ")\n",
    "\n",
    "# Deploy ranking model\n",
    "ranking_deployment = ranking_model.deploy(\n",
    "    name=ranking_deployment_name,\n",
    "    description=\"Deployment that search for item candidates and scores them based on customer metadata\",\n",
    "    script_file=predictor_script_path,\n",
    "    resources={\"num_instances\": 0},\n",
    "    transformer=ranking_transformer,\n",
    ")"
   ]
  },
  {
   "cell_type": "code",
   "execution_count": 53,
   "id": "e78942a0-f661-447b-9806-4780551cc2fe",
   "metadata": {},
   "outputs": [
    {
     "data": {
      "application/vnd.jupyter.widget-view+json": {
       "model_id": "70fcfdec82504dd391593b66d947b551",
       "version_major": 2,
       "version_minor": 0
      },
      "text/plain": [
       "  0%|          | 0/6 [00:00<?, ?it/s]"
      ]
     },
     "metadata": {},
     "output_type": "display_data"
    },
    {
     "name": "stdout",
     "output_type": "stream",
     "text": [
      "Start making predictions by using `.predict()`\n"
     ]
    }
   ],
   "source": [
    "# Start the deployment\n",
    "ranking_deployment.start()"
   ]
  },
  {
   "cell_type": "code",
   "execution_count": null,
   "id": "e137eb74-a503-4a4c-b6b2-7447f1c8e2e8",
   "metadata": {},
   "outputs": [],
   "source": [
    "# Check logs in case of failure\n",
    "# ranking_deployment.get_logs(component=\"predictor\", tail=200)"
   ]
  },
  {
   "cell_type": "markdown",
   "id": "266fe94a-0d44-4fc3-be38-6c5755b2c2e6",
   "metadata": {},
   "source": [
    "<div style=\"background-color:teal; color:white; padding:0px; font-size:15px\">\n",
    "Test Input"
   ]
  },
  {
   "cell_type": "code",
   "execution_count": 54,
   "id": "95dbbe3f-949e-4409-84d8-81bc77909c11",
   "metadata": {},
   "outputs": [],
   "source": [
    "# Define a test input example\n",
    "test_ranking_input = {\"instances\": [{\"customer_id\": \"641e6f3ef3a2d537140aaa0a06055ae328a0dddf2c2c0dd6e60eb0563c7cbba0\",\n",
    "    \"month_sin\": 1.2246467991473532e-16,\n",
    "    \"query_emb\": [0.214135289,\n",
    "     0.571055949,\n",
    "     0.330709577,\n",
    "     -0.225899458,\n",
    "     -0.308674961,\n",
    "     -0.0115124583,\n",
    "     0.0730511621,\n",
    "     -0.495835781,\n",
    "     0.625569344,\n",
    "     -0.0438038409,\n",
    "     0.263472944,\n",
    "     -0.58485353,\n",
    "     -0.307070434,\n",
    "     0.0414443575,\n",
    "     -0.321789205,\n",
    "     0.966559],\n",
    "    \"month_cos\": -1.0}]}\n",
    "\n",
    "# Test ranking deployment\n",
    "ranked_candidates = ranking_deployment.predict(test_ranking_input)"
   ]
  },
  {
   "cell_type": "code",
   "execution_count": 56,
   "id": "dd19ef99-e891-4695-ad31-ec6c60fc6704",
   "metadata": {
    "collapsed": true,
    "jupyter": {
     "outputs_hidden": true
    }
   },
   "outputs": [
    {
     "name": "stdout",
     "output_type": "stream",
     "text": [
      "100\n"
     ]
    },
    {
     "data": {
      "text/plain": [
       "[0.7430244211692006,\n",
       " 0.7585596262407897,\n",
       " 0.6861102701865665,\n",
       " 0.6455397102284,\n",
       " 0.699930794440468,\n",
       " 0.7130005673651948,\n",
       " 0.7601510040212085,\n",
       " 0.5539483210251976,\n",
       " 0.7965213583317088,\n",
       " 0.7331866512756948,\n",
       " 0.1317626649365221,\n",
       " 0.7585596262407897,\n",
       " 0.6914248604130043,\n",
       " 0.8200589437024415,\n",
       " 0.7039788194004061,\n",
       " 0.8688150609668962,\n",
       " 0.7453963163379268,\n",
       " 0.37384192492142393,\n",
       " 0.48851115644954474,\n",
       " 0.6393241343209795,\n",
       " 0.699930794440468,\n",
       " 0.740882735032415,\n",
       " 0.7662364701556239,\n",
       " 0.48018742725347224,\n",
       " 0.8082301506408861,\n",
       " 0.07972623701178268,\n",
       " 0.7965213583317088,\n",
       " 0.8086197542617813,\n",
       " 0.8716521751272145,\n",
       " 0.8132439697229588,\n",
       " 0.6664842052627522,\n",
       " 0.6145544189758932,\n",
       " 0.7791381593522888,\n",
       " 0.12047450744624971,\n",
       " 0.7895187755856431,\n",
       " 0.7148938628854001,\n",
       " 0.7675905446370843,\n",
       " 0.6495325600334888,\n",
       " 0.8716521751272145,\n",
       " 0.8122650444828086,\n",
       " 0.6785211715004464,\n",
       " 0.8785795693948232,\n",
       " 0.7147594316631354,\n",
       " 0.7662364701556239,\n",
       " 0.8352648209651341,\n",
       " 0.6311623789578753,\n",
       " 0.5659960808467102,\n",
       " 0.7563575541041507,\n",
       " 0.7662364701556239,\n",
       " 0.6212095903110408,\n",
       " 0.7792328238966776,\n",
       " 0.4181789519961443,\n",
       " 0.826844320363663,\n",
       " 0.699930794440468,\n",
       " 0.5919926038866536,\n",
       " 0.8150995621839647,\n",
       " 0.5617705993901366,\n",
       " 0.699930794440468,\n",
       " 0.7662364701556239,\n",
       " 0.5112250477234525,\n",
       " 0.7039788194004061,\n",
       " 0.724962116330738,\n",
       " 0.7801349654686425,\n",
       " 0.5959101153064904,\n",
       " 0.7792328238966776,\n",
       " 0.8082301506408861,\n",
       " 0.7689435339804941,\n",
       " 0.6637864953573707,\n",
       " 0.7130005673651948,\n",
       " 0.5748047924743522,\n",
       " 0.10822016314282461,\n",
       " 0.8841314902622203,\n",
       " 0.4214411931407537,\n",
       " 0.572546662556737,\n",
       " 0.699930794440468,\n",
       " 0.5637886856613639,\n",
       " 0.11122481876660412,\n",
       " 0.5463792683912718,\n",
       " 0.4140645430172801,\n",
       " 0.4884557379116956,\n",
       " 0.47540811313403525,\n",
       " 0.8785795693948232,\n",
       " 0.411819065645855,\n",
       " 0.9169050097415913,\n",
       " 0.7792328238966776,\n",
       " 0.6672061871859867,\n",
       " 0.6320750099505077,\n",
       " 0.6406606729516526,\n",
       " 0.807849476013315,\n",
       " 0.20480092432212255,\n",
       " 0.819713188975821,\n",
       " 0.6851567817500954,\n",
       " 0.8086197542617813,\n",
       " 0.7898862525061452,\n",
       " 0.5299777401726243,\n",
       " 0.5436505348645415,\n",
       " 0.7178802924528326,\n",
       " 0.5951812306671579,\n",
       " 0.737345226144406,\n",
       " 0.5600658261697282]"
      ]
     },
     "execution_count": 56,
     "metadata": {},
     "output_type": "execute_result"
    }
   ],
   "source": [
    "print(len(ranked_candidates['predictions']['scores']))\n",
    "ranked_candidates['predictions']['scores']"
   ]
  },
  {
   "cell_type": "code",
   "execution_count": 25,
   "id": "ec04ea13-a77c-4398-a0ca-3248571755bb",
   "metadata": {
    "collapsed": true,
    "jupyter": {
     "outputs_hidden": true
    }
   },
   "outputs": [
    {
     "name": "stdout",
     "output_type": "stream",
     "text": [
      "Explore all the logs and filters in the Kibana logs at https://c.app.hopsworks.ai:443/p/475285/deployments/212993\n",
      "\n",
      "Instance name: rankingdeployment2-transformer-default-00001-deployment-8cgmdq8\n",
      "2024-02-28 22:37:59.752 7 root INFO [<module>():180] Loading serving script\n",
      "Collecting pinecone-client\n",
      "  Downloading pinecone_client-3.1.0-py3-none-any.whl (210 kB)\n",
      "     ━━━━━━━━━━━━━━━━━━━━━━━━━━━━━━━━━━━━━━━ 211.0/211.0 kB 5.0 MB/s eta 0:00:00\n",
      "Requirement already satisfied: typing-extensions>=3.7.4 in /srv/hops/anaconda/envs/theenv/lib/python3.10/site-packages (from pinecone-client) (4.8.0)\n",
      "Requirement already satisfied: certifi>=2019.11.17 in /srv/hops/anaconda/envs/theenv/lib/python3.10/site-packages (from pinecone-client) (2023.7.22)\n",
      "Requirement already satisfied: urllib3>=1.26.0 in /srv/hops/anaconda/envs/theenv/lib/python3.10/site-packages (from pinecone-client) (1.26.16)\n",
      "Requirement already satisfied: tqdm>=4.64.1 in /srv/hops/anaconda/envs/theenv/lib/python3.10/site-packages (from pinecone-client) (4.64.1)\n",
      "Installing collected packages: pinecone-client\n",
      "Successfully installed pinecone-client-3.1.0\n",
      "WARNING: Running pip as the 'root' user can result in broken permissions and conflicting behaviour with the system package manager. It is recommended to use a virtual environment instead: https://pip.pypa.io/warnings/venv\n",
      "WARNING: log4j.properties is not found. HADOOP_CONF_DIR may be incomplete.\n",
      "2024-02-28 22:38:06.915 7 root INFO [__init__():117] Initializing transformer for deployment: rankingdeployment2\n",
      "Connected. Call `.close()` to terminate connection gracefully.\n",
      "2024-02-28 22:38:09.200 7 root INFO [<module>():196] Starting KServe server\n",
      "2024-02-28 22:38:09.201 7 root INFO [register_model():187] Registering model: rankingdeployment2\n",
      "2024-02-28 22:38:09.201 7 root INFO [start():129] Setting max asyncio worker threads as 12\n",
      "2024-02-28 22:38:09.202 7 root INFO [serve():139] Starting uvicorn with 1 workers\n",
      "2024-02-28 22:38:09.226 7 uvicorn.error INFO [serve():84] Started server process [7]\n",
      "2024-02-28 22:38:09.226 7 uvicorn.error INFO [startup():45] Waiting for application startup.\n",
      "2024-02-28 22:38:09.228 7 root INFO [start():62] Starting gRPC server on [::]:8081\n",
      "2024-02-28 22:38:09.229 7 uvicorn.error INFO [startup():59] Application startup complete.\n",
      "DeprecationWarning: ssl.PROTOCOL_TLS is deprecated\n",
      "VersionWarning: No training dataset version was provided to initialise serving. Defaulting to version 1.\n",
      "VersionWarning: No training dataset version was provided to initialise serving. Defaulting to version 1.\n",
      "2024-02-28 22:38:38.284 7 root INFO [__call__():128] requestId: 7f514d20-e777-4a62-bdf2-702e2ecd4bc9, preprocess_ms: 7231.838226318, explain_ms: 0, predict_ms: 44.195175171, postprocess_ms: 0.005960464\n",
      "2024-02-28 22:38:38.285 7 root INFO [timing():48] kserve.io.kserve.protocol.rest.v1_endpoints.predict 7.277665138244629, ['http_status:200', 'http_method:POST', 'time:wall']\n",
      "2024-02-28 22:38:38.285 7 root INFO [timing():48] kserve.io.kserve.protocol.rest.v1_endpoints.predict 0.17199900000000046, ['http_status:200', 'http_method:POST', 'time:cpu']\n",
      "\n",
      "\n"
     ]
    }
   ],
   "source": [
    "# Check logs in case of failure\n",
    "# ranking_deployment.get_logs(component=\"transformer\",tail=200)"
   ]
  },
  {
   "cell_type": "markdown",
   "id": "3f2d0426-cb24-474a-8f28-b07061a0936d",
   "metadata": {},
   "source": [
    "<div style=\"background-color:moccasin; color:black; padding:5px; font-size:20px\">\n",
    "Query Model"
   ]
  },
  {
   "cell_type": "code",
   "execution_count": 36,
   "id": "91952c5d-048e-4868-b406-57a1dacb9007",
   "metadata": {},
   "outputs": [],
   "source": [
    "# Retrieve the 'query_model' from the Model Registry\n",
    "query_model = mr.get_model(\n",
    "    name=\"query_model\",\n",
    "    version=1,\n",
    ")"
   ]
  },
  {
   "cell_type": "markdown",
   "id": "deef83f3-b584-483a-bc78-92bfc65a5165",
   "metadata": {},
   "source": [
    "<div style=\"background-color: darkgreen ; color:white; padding:0px; font-size:15px\">\n",
    "Query Transformer Definition"
   ]
  },
  {
   "cell_type": "code",
   "execution_count": 37,
   "id": "6286d248-b341-4d0a-a54e-dc59c6bc3ead",
   "metadata": {},
   "outputs": [
    {
     "name": "stdout",
     "output_type": "stream",
     "text": [
      "Writing querymodel_transformer.py\n"
     ]
    }
   ],
   "source": [
    "%%writefile scripts/querymodel_transformer.py\n",
    "\n",
    "import os\n",
    "import numpy as np\n",
    "import pandas as pd\n",
    "from datetime import datetime\n",
    "\n",
    "import hopsworks\n",
    "\n",
    "import logging\n",
    "\n",
    "class Transformer(object):\n",
    "    \n",
    "    def __init__(self):            \n",
    "        # Connect to the Hopsworks\n",
    "        project = hopsworks.connection().get_project()\n",
    "        ms = project.get_model_serving()\n",
    "    \n",
    "        # Retrieve the 'customers' feature view\n",
    "        fs = project.get_feature_store()\n",
    "        self.customer_fv = fs.get_feature_view(\n",
    "            name=\"customers\", \n",
    "            version=1,\n",
    "        )\n",
    "        # Retrieve the ranking deployment \n",
    "        self.ranking_server = ms.get_deployment(\"rankingdeployment\")\n",
    "\n",
    "    def preprocess(self, inputs):\n",
    "        # Check if the input data contains a key named \"instances\"\n",
    "        # and extract the actual data if present\n",
    "        inputs = inputs[\"instances\"] if \"instances\" in inputs else inputs\n",
    "        \n",
    "        # Extract customer_id and transaction_date from the inputs\n",
    "        customer_id = inputs[\"customer_id\"]\n",
    "        transaction_date = inputs[\"transaction_date\"]\n",
    "        \n",
    "        # Extract month from the transaction_date\n",
    "        month_of_purchase = datetime.fromisoformat(inputs.pop(\"transaction_date\"))\n",
    "        \n",
    "        # Get customer features\n",
    "        customer_features = self.customer_fv.get_feature_vector(\n",
    "            {\"customer_id\": customer_id}, \n",
    "            return_type=\"pandas\",\n",
    "        )\n",
    "        \n",
    "        # Enrich inputs with customer age\n",
    "        inputs[\"age\"] = customer_features.age.values[0]   \n",
    "        \n",
    "        # Calculate the sine and cosine of the month_of_purchase\n",
    "        month_of_purchase = datetime.strptime(transaction_date, \"%Y-%m-%dT%H:%M:%S.%f\").month\n",
    "        \n",
    "        # Calculate a coefficient for adjusting the periodicity of the month\n",
    "        coef = np.random.uniform(0, 2 * np.pi) / 12\n",
    "        \n",
    "        # Calculate the sine and cosine components for the month_of_purchase\n",
    "        inputs[\"month_sin\"] = float(np.sin(month_of_purchase * coef)) \n",
    "        inputs[\"month_cos\"] = float(np.cos(month_of_purchase * coef))\n",
    "                \n",
    "        return {\n",
    "            \"instances\" : [inputs]\n",
    "        }\n",
    "\n",
    "    def postprocess(self, outputs):\n",
    "        # Return ordered ranking predictions        \n",
    "        return {\n",
    "            \"predictions\": self.ranking_server.predict({ \"instances\": outputs[\"predictions\"]}),\n",
    "        }"
   ]
  },
  {
   "cell_type": "code",
   "execution_count": 38,
   "id": "e611165a-a4d2-4e91-8031-b289f4657bd1",
   "metadata": {},
   "outputs": [
    {
     "data": {
      "application/vnd.jupyter.widget-view+json": {
       "model_id": "998d322f4bd94c0da2530f7a7508bc04",
       "version_major": 2,
       "version_minor": 0
      },
      "text/plain": [
       "Uploading: 0.000%|          | 0/2301 elapsed<00:00 remaining<?"
      ]
     },
     "metadata": {},
     "output_type": "display_data"
    }
   ],
   "source": [
    "# Copy transformer file into Hopsworks File System\n",
    "uploaded_file_path = dataset_api.upload(\n",
    "    \"querymodel_transformer.py\", \n",
    "    \"Models\", \n",
    "    overwrite=True,\n",
    ")\n",
    "\n",
    "# Construct the path to the uploaded script\n",
    "transformer_script_path = os.path.join(\n",
    "    \"/Projects\", \n",
    "    project.name, \n",
    "    uploaded_file_path,\n",
    ")"
   ]
  },
  {
   "cell_type": "code",
   "execution_count": 40,
   "id": "13a83a8d-2d09-4963-9bfc-b8c0fb97756e",
   "metadata": {},
   "outputs": [
    {
     "name": "stdout",
     "output_type": "stream",
     "text": [
      "Deployment created, explore it at https://c.app.hopsworks.ai:443/p/475285/deployments/212994\n",
      "Before making predictions, start the deployment by using `.start()`\n"
     ]
    }
   ],
   "source": [
    "from hsml.transformer import Transformer\n",
    "\n",
    "query_model_deployment_name = \"querydeployment\"\n",
    "\n",
    "# Define transformer\n",
    "query_model_transformer=Transformer(\n",
    "    script_file=transformer_script_path, \n",
    "    resources={\"num_instances\": 0},\n",
    ")\n",
    "\n",
    "# Deploy the query model\n",
    "query_model_deployment = query_model.deploy(\n",
    "    name=query_model_deployment_name,\n",
    "    description=\"Deployment that generates query embeddings from customer and item features using the query model\",\n",
    "    resources={\"num_instances\": 0},\n",
    "    transformer=query_model_transformer,\n",
    ")"
   ]
  },
  {
   "cell_type": "markdown",
   "id": "26d2672c-dce9-4636-9dd3-fcba06a2f89b",
   "metadata": {},
   "source": [
    "<div style=\"background-color:moccasin; color:black; padding:5px; font-size:20px\">\n",
    "Run Registered Deployment"
   ]
  },
  {
   "cell_type": "code",
   "execution_count": 41,
   "id": "7946ea66-a425-4674-93da-c5191eab1b57",
   "metadata": {},
   "outputs": [
    {
     "data": {
      "application/vnd.jupyter.widget-view+json": {
       "model_id": "3a748630ed9a43c2aabda819f13b3dbd",
       "version_major": 2,
       "version_minor": 0
      },
      "text/plain": [
       "  0%|          | 0/6 [00:00<?, ?it/s]"
      ]
     },
     "metadata": {},
     "output_type": "display_data"
    },
    {
     "name": "stdout",
     "output_type": "stream",
     "text": [
      "Start making predictions by using `.predict()`\n"
     ]
    }
   ],
   "source": [
    "# Start the deployment\n",
    "query_model_deployment.start()"
   ]
  },
  {
   "cell_type": "code",
   "execution_count": 57,
   "id": "14166cc5-145a-43c0-b17a-ea4de27beb14",
   "metadata": {},
   "outputs": [
    {
     "data": {
      "text/plain": [
       "PredictorState(status: 'Running')"
      ]
     },
     "execution_count": 57,
     "metadata": {},
     "output_type": "execute_result"
    }
   ],
   "source": [
    "query_model_deployment.get_state()"
   ]
  },
  {
   "cell_type": "code",
   "execution_count": null,
   "id": "288d7dc8-911e-494b-9588-6247e78e677f",
   "metadata": {},
   "outputs": [],
   "source": [
    "# Check logs in case of failure\n",
    "# query_model_deployment.get_logs(component=\"transformer\", tail=20)"
   ]
  },
  {
   "cell_type": "markdown",
   "id": "6aac3585-3a64-43d9-918d-eeef9fc7bd8e",
   "metadata": {},
   "source": [
    "<div style=\"background-color:teal; color:white; padding:0px; font-size:15px\">\n",
    "Test Input"
   ]
  },
  {
   "cell_type": "code",
   "execution_count": 58,
   "id": "640e348b-0723-4589-b015-b6262aca9b93",
   "metadata": {},
   "outputs": [],
   "source": [
    "# Define a test input example\n",
    "data = {\"instances\": {\"customer_id\": \"641e6f3ef3a2d537140aaa0a06055ae328a0dddf2c2c0dd6e60eb0563c7cbba0\", \"transaction_date\": \"2022-11-15T12:16:25.330916\"}}\n",
    "\n",
    "# Test the deployment\n",
    "ranked_candidates = query_model_deployment.predict(data)"
   ]
  },
  {
   "cell_type": "code",
   "execution_count": 46,
   "id": "a5ac451f-f890-4a4f-8d18-0de2468b8848",
   "metadata": {
    "collapsed": true,
    "jupyter": {
     "outputs_hidden": true
    }
   },
   "outputs": [
    {
     "name": "stdout",
     "output_type": "stream",
     "text": [
      "Explore all the logs and filters in the Kibana logs at https://c.app.hopsworks.ai:443/p/475285/deployments/212994\n",
      "\n",
      "Instance name: querydeployment-transformer-default-00001-deployment-756bfmpr7s\n",
      "2024-02-28 22:47:49.850 7 root INFO [<module>():180] Loading serving script\n",
      "WARNING: log4j.properties is not found. HADOOP_CONF_DIR may be incomplete.\n",
      "2024-02-28 22:47:52.548 7 root INFO [__init__():117] Initializing transformer for deployment: querydeployment\n",
      "Connected. Call `.close()` to terminate connection gracefully.\n",
      "2024-02-28 22:47:54.252 7 root INFO [<module>():196] Starting KServe server\n",
      "2024-02-28 22:47:54.252 7 root INFO [register_model():187] Registering model: querydeployment\n",
      "2024-02-28 22:47:54.252 7 root INFO [start():129] Setting max asyncio worker threads as 12\n",
      "2024-02-28 22:47:54.253 7 root INFO [serve():139] Starting uvicorn with 1 workers\n",
      "2024-02-28 22:47:54.277 7 uvicorn.error INFO [serve():84] Started server process [7]\n",
      "2024-02-28 22:47:54.278 7 uvicorn.error INFO [startup():45] Waiting for application startup.\n",
      "2024-02-28 22:47:54.280 7 root INFO [start():62] Starting gRPC server on [::]:8081\n",
      "2024-02-28 22:47:54.280 7 uvicorn.error INFO [startup():59] Application startup complete.\n",
      "VersionWarning: No training dataset version was provided to initialise serving. Defaulting to version 1.\n",
      "2024-02-28 22:48:01.034 7 root INFO [timing():48] kserve.io.kserve.protocol.rest.v1_endpoints.predict 6.752368927001953, ['http_status:500', 'http_method:POST', 'time:wall']\n",
      "2024-02-28 22:48:01.034 7 root INFO [timing():48] kserve.io.kserve.protocol.rest.v1_endpoints.predict 0.051070999999999867, ['http_status:500', 'http_method:POST', 'time:cpu']\n",
      "2024-02-28 22:48:01.034 7 uvicorn.error ERROR [run_asgi():376] Exception in ASGI application\n",
      "Traceback (most recent call last):\n",
      "  File \"/srv/hops/anaconda/envs/theenv/lib/python3.10/site-packages/hsml/engine/serving_engine.py\", line 185, in predict\n",
      "    return self._serving_api.send_inference_request(\n",
      "  File \"/srv/hops/anaconda/envs/theenv/lib/python3.10/site-packages/hsml/core/serving_api.py\", line 231, in send_inference_request\n",
      "    return _client._send_request(\n",
      "  File \"/srv/hops/anaconda/envs/theenv/lib/python3.10/site-packages/hsml/decorators.py\", line 35, in if_connected\n",
      "    return fn(inst, *args, **kwargs)\n",
      "  File \"/srv/hops/anaconda/envs/theenv/lib/python3.10/site-packages/hsml/client/base.py\", line 108, in _send_request\n",
      "    raise exceptions.RestAPIError(url, response)\n",
      "hsml.client.exceptions.RestAPIError: Metadata operation error: (url: http://172.16.2.186:32080/v1/models/rankingdeployment:predict). Server response: \n",
      "HTTP code: 404, HTTP reason: Not Found, body: b''\n",
      "\n",
      "During handling of the above exception, another exception occurred:\n",
      "\n",
      "Traceback (most recent call last):\n",
      "  File \"/serving/transformer/../kserve-component-server.py\", line 62, in wrapper\n",
      "    return func(*args, **kwargs)\n",
      "  File \"/serving/transformer/../kserve-component-server.py\", line 135, in postprocess\n",
      "    return self._component.postprocess(outputs)\n",
      "  File \"/mnt/transformers/transformer-querymodel_transformer.py\", line 65, in postprocess\n",
      "    \"predictions\": self.ranking_server.predict({ \"instances\": outputs[\"predictions\"]}),\n",
      "  File \"/srv/hops/anaconda/envs/theenv/lib/python3.10/site-packages/hsml/deployment.py\", line 196, in predict\n",
      "    return self._serving_engine.predict(self, data, inputs)\n",
      "  File \"/srv/hops/anaconda/envs/theenv/lib/python3.10/site-packages/hsml/engine/serving_engine.py\", line 194, in predict\n",
      "    raise ModelServingException(\n",
      "hsml.client.exceptions.ModelServingException: Deployment not created or running. If it is already created, start it by using `.start()` or check its status with .get_state()\n",
      "\n",
      "The above exception was the direct cause of the following exception:\n",
      "\n",
      "Traceback (most recent call last):\n",
      "  File \"/srv/hops/anaconda/envs/theenv/lib/python3.10/site-packages/uvicorn/protocols/http/h11_impl.py\", line 373, in run_asgi\n",
      "    result = await app(self.scope, self.receive, self.send)\n",
      "  File \"/srv/hops/anaconda/envs/theenv/lib/python3.10/site-packages/uvicorn/middleware/proxy_headers.py\", line 75, in __call__\n",
      "    return await self.app(scope, receive, send)\n",
      "  File \"/srv/hops/anaconda/envs/theenv/lib/python3.10/site-packages/fastapi/applications.py\", line 270, in __call__\n",
      "    await super().__call__(scope, receive, send)\n",
      "  File \"/srv/hops/anaconda/envs/theenv/lib/python3.10/site-packages/starlette/applications.py\", line 124, in __call__\n",
      "    await self.middleware_stack(scope, receive, send)\n",
      "  File \"/srv/hops/anaconda/envs/theenv/lib/python3.10/site-packages/starlette/middleware/errors.py\", line 184, in __call__\n",
      "    raise exc\n",
      "  File \"/srv/hops/anaconda/envs/theenv/lib/python3.10/site-packages/starlette/middleware/errors.py\", line 162, in __call__\n",
      "    await self.app(scope, receive, _send)\n",
      "  File \"/srv/hops/anaconda/envs/theenv/lib/python3.10/site-packages/timing_asgi/middleware.py\", line 70, in __call__\n",
      "    await self.app(scope, receive, send_wrapper)\n",
      "  File \"/srv/hops/anaconda/envs/theenv/lib/python3.10/site-packages/starlette/middleware/exceptions.py\", line 79, in __call__\n",
      "    raise exc\n",
      "  File \"/srv/hops/anaconda/envs/theenv/lib/python3.10/site-packages/starlette/middleware/exceptions.py\", line 68, in __call__\n",
      "    await self.app(scope, receive, sender)\n",
      "  File \"/srv/hops/anaconda/envs/theenv/lib/python3.10/site-packages/fastapi/middleware/asyncexitstack.py\", line 21, in __call__\n",
      "    raise e\n",
      "  File \"/srv/hops/anaconda/envs/theenv/lib/python3.10/site-packages/fastapi/middleware/asyncexitstack.py\", line 18, in __call__\n",
      "    await self.app(scope, receive, send)\n",
      "  File \"/srv/hops/anaconda/envs/theenv/lib/python3.10/site-packages/starlette/routing.py\", line 706, in __call__\n",
      "    await route.handle(scope, receive, send)\n",
      "  File \"/srv/hops/anaconda/envs/theenv/lib/python3.10/site-packages/starlette/routing.py\", line 276, in handle\n",
      "    await self.app(scope, receive, send)\n",
      "  File \"/srv/hops/anaconda/envs/theenv/lib/python3.10/site-packages/starlette/routing.py\", line 66, in app\n",
      "    response = await func(request)\n",
      "  File \"/srv/hops/anaconda/envs/theenv/lib/python3.10/site-packages/fastapi/routing.py\", line 235, in app\n",
      "    raw_response = await run_endpoint_function(\n",
      "  File \"/srv/hops/anaconda/envs/theenv/lib/python3.10/site-packages/fastapi/routing.py\", line 161, in run_endpoint_function\n",
      "    return await dependant.call(**values)\n",
      "  File \"/srv/hops/anaconda/envs/theenv/lib/python3.10/site-packages/kserve/protocol/rest/v1_endpoints.py\", line 69, in predict\n",
      "    response, response_headers = await self.dataplane.infer(model_name=model_name, body=body, headers=headers)\n",
      "  File \"/srv/hops/anaconda/envs/theenv/lib/python3.10/site-packages/kserve/protocol/dataplane.py\", line 276, in infer\n",
      "    response = await model(body, headers=headers)\n",
      "  File \"/srv/hops/anaconda/envs/theenv/lib/python3.10/site-packages/kserve/model.py\", line 124, in __call__\n",
      "    response = self.postprocess(response, headers)\n",
      "  File \"/serving/transformer/../kserve-component-server.py\", line 64, in wrapper\n",
      "    parse_exception(err)\n",
      "  File \"/serving/transformer/../kserve-component-server.py\", line 54, in parse_exception\n",
      "    raise tornado.web.HTTPError(\n",
      "tornado.web.HTTPError: HTTP 500: Deployment not created or running. If it is already created, start it by using `.start()` or check its status with .get_state()\n",
      "\n",
      "\n"
     ]
    }
   ],
   "source": [
    "# Check logs in case of failure\n",
    "# query_model_deployment.get_logs(component=\"transformer\",tail=200)"
   ]
  },
  {
   "cell_type": "code",
   "execution_count": 59,
   "id": "96898e76-b855-4d91-9af2-ae4f5817f097",
   "metadata": {
    "scrolled": true
   },
   "outputs": [
    {
     "data": {
      "text/plain": [
       "{'predictions': {'predictions': {'scores': [0.23599776567707298,\n",
       "    0.19932391500208757,\n",
       "    0.5942909856232121,\n",
       "    0.23599776567707298,\n",
       "    0.23987238926958487,\n",
       "    0.2364033224912844,\n",
       "    0.20707352284616973,\n",
       "    0.2366265728914199,\n",
       "    0.20225402051433128,\n",
       "    0.5655834042601063,\n",
       "    0.26274826372743915,\n",
       "    0.38158253989696667,\n",
       "    0.403598433212939,\n",
       "    0.23599776567707298,\n",
       "    0.33799600895184473,\n",
       "    0.22853893786044238,\n",
       "    0.2435052652018657,\n",
       "    0.6589744285442811,\n",
       "    0.30261287712302587,\n",
       "    0.30564657570210196,\n",
       "    0.45809089362495237,\n",
       "    0.24674364979348845,\n",
       "    0.49932652478589273,\n",
       "    0.203628937594705,\n",
       "    0.20436548906506452,\n",
       "    0.19779895434749692,\n",
       "    0.6176950253223634,\n",
       "    0.30153787619906763,\n",
       "    0.23153043265445283,\n",
       "    0.30261287712302587,\n",
       "    0.2597973345593323,\n",
       "    0.2220562931959128,\n",
       "    0.27632656576659503,\n",
       "    0.3849930121081394,\n",
       "    0.7063842671822252,\n",
       "    0.1282713555390683,\n",
       "    0.26353636169276234,\n",
       "    0.2977738624990898,\n",
       "    0.6407987819605172,\n",
       "    0.5992212527122524,\n",
       "    0.3365351948566086,\n",
       "    0.291806493162796,\n",
       "    0.321748175169837,\n",
       "    0.31467317149649726,\n",
       "    0.203628937594705,\n",
       "    0.432457271463062,\n",
       "    0.30261287712302587,\n",
       "    0.20881358904190755,\n",
       "    0.49932652478589273,\n",
       "    0.5150855064245546,\n",
       "    0.3159237797895845,\n",
       "    0.5100436385334773,\n",
       "    0.34527078474218786,\n",
       "    0.23153043265445283,\n",
       "    0.30261287712302587,\n",
       "    0.6441879877322247,\n",
       "    0.22853893786044238,\n",
       "    0.32136712151264435,\n",
       "    0.20707352284616973,\n",
       "    0.35822686380945284,\n",
       "    0.6571545859289087,\n",
       "    0.30261287712302587,\n",
       "    0.6407987819605172,\n",
       "    0.3303474529885549,\n",
       "    0.5100646677783458,\n",
       "    0.9392621788930279,\n",
       "    0.2597973345593323,\n",
       "    0.21853962141734246,\n",
       "    0.20553677590048328,\n",
       "    0.6407987819605172,\n",
       "    0.7630046867044167,\n",
       "    0.49648497072643055,\n",
       "    0.25718355243409013,\n",
       "    0.23929199605572152,\n",
       "    0.7410812171267783,\n",
       "    0.6571545859289087,\n",
       "    0.20336653626347645,\n",
       "    0.2863762507700157,\n",
       "    0.3031870277633863,\n",
       "    0.21513592047896266,\n",
       "    0.2220562931959128,\n",
       "    0.19262779737955488,\n",
       "    0.5655834042601063,\n",
       "    0.30261287712302587,\n",
       "    0.629646733362667,\n",
       "    0.9511334658142397,\n",
       "    0.23599776567707298,\n",
       "    0.8289746486603911,\n",
       "    0.6269959577072641,\n",
       "    0.27632656576659503,\n",
       "    0.22818340559652192,\n",
       "    0.17873089254736405,\n",
       "    0.1910966351854255,\n",
       "    0.2977738624990898,\n",
       "    0.26274826372743915,\n",
       "    0.20436548906506452,\n",
       "    0.30261287712302587,\n",
       "    0.18933399261762557,\n",
       "    0.1568280522194089,\n",
       "    0.203628937594705],\n",
       "   'article_ids': ['394522003',\n",
       "    '574761001',\n",
       "    '501616048',\n",
       "    '408104012',\n",
       "    '501616002',\n",
       "    '501722020',\n",
       "    '392938032',\n",
       "    '624724001',\n",
       "    '544054005',\n",
       "    '501616008',\n",
       "    '659140001',\n",
       "    '491913022',\n",
       "    '551989027',\n",
       "    '443078004',\n",
       "    '466595024',\n",
       "    '666508001',\n",
       "    '392938036',\n",
       "    '501616001',\n",
       "    '501722004',\n",
       "    '567805003',\n",
       "    '501616085',\n",
       "    '646259002',\n",
       "    '395127011',\n",
       "    '656677001',\n",
       "    '557908013',\n",
       "    '466987019',\n",
       "    '501616020',\n",
       "    '466987027',\n",
       "    '466987020',\n",
       "    '519516001',\n",
       "    '568458001',\n",
       "    '631109003',\n",
       "    '466987024',\n",
       "    '552086003',\n",
       "    '501616006',\n",
       "    '585108002',\n",
       "    '559764005',\n",
       "    '501722005',\n",
       "    '392938001',\n",
       "    '501616028',\n",
       "    '617426004',\n",
       "    '495725005',\n",
       "    '466595019',\n",
       "    '395127031',\n",
       "    '685162001',\n",
       "    '636722002',\n",
       "    '650539001',\n",
       "    '203595034',\n",
       "    '392938035',\n",
       "    '501616011',\n",
       "    '495725006',\n",
       "    '501616074',\n",
       "    '615307003',\n",
       "    '678487002',\n",
       "    '584298001',\n",
       "    '301656013',\n",
       "    '443078003',\n",
       "    '416157034',\n",
       "    '584298015',\n",
       "    '673133005',\n",
       "    '501616009',\n",
       "    '607224001',\n",
       "    '501616007',\n",
       "    '520424003',\n",
       "    '395127012',\n",
       "    '399136004',\n",
       "    '408104016',\n",
       "    '547735004',\n",
       "    '597421001',\n",
       "    '395127001',\n",
       "    '399087011',\n",
       "    '395127028',\n",
       "    '634013006',\n",
       "    '690115002',\n",
       "    '399087014',\n",
       "    '395127006',\n",
       "    '392938024',\n",
       "    '634013022',\n",
       "    '656749001',\n",
       "    '557908005',\n",
       "    '666508003',\n",
       "    '654339001',\n",
       "    '600229002',\n",
       "    '560030013',\n",
       "    '400285011',\n",
       "    '399087001',\n",
       "    '519516002',\n",
       "    '400246011',\n",
       "    '501616012',\n",
       "    '626385002',\n",
       "    '573601002',\n",
       "    '665532002',\n",
       "    '636482001',\n",
       "    '568458003',\n",
       "    '604295001',\n",
       "    '600229003',\n",
       "    '583209003',\n",
       "    '283236027',\n",
       "    '670049001',\n",
       "    '555809001']}}}"
      ]
     },
     "execution_count": 59,
     "metadata": {},
     "output_type": "execute_result"
    }
   ],
   "source": [
    "ranked_candidates"
   ]
  },
  {
   "cell_type": "markdown",
   "id": "b9897f31-d3f9-461d-b97d-4a64a88c06b0",
   "metadata": {},
   "source": [
    "<div style=\"background-color:moccasin; color:black; padding:5px; font-size:20px\">\n",
    "Stop Deployment"
   ]
  },
  {
   "cell_type": "code",
   "execution_count": 60,
   "id": "923b2667-3dd5-4f18-b4c2-f857dd158552",
   "metadata": {
    "collapsed": true,
    "jupyter": {
     "outputs_hidden": true
    }
   },
   "outputs": [
    {
     "data": {
      "application/vnd.jupyter.widget-view+json": {
       "model_id": "c6a063e1b0134d7d910fcba38471d3a6",
       "version_major": 2,
       "version_minor": 0
      },
      "text/plain": [
       "  0%|          | 0/4 [00:00<?, ?it/s]"
      ]
     },
     "metadata": {},
     "output_type": "display_data"
    },
    {
     "data": {
      "application/vnd.jupyter.widget-view+json": {
       "model_id": "6f1167c9418b48879b401b4dd8c719b3",
       "version_major": 2,
       "version_minor": 0
      },
      "text/plain": [
       "  0%|          | 0/3 [00:00<?, ?it/s]"
      ]
     },
     "metadata": {},
     "output_type": "display_data"
    }
   ],
   "source": [
    "# Stop the ranking model deployment\n",
    "ranking_deployment.stop()\n",
    "\n",
    "# Stop the query model deployment\n",
    "query_model_deployment.stop()"
   ]
  }
 ],
 "metadata": {
  "kernelspec": {
   "display_name": "Python 3 (ipykernel)",
   "language": "python",
   "name": "python3"
  },
  "language_info": {
   "codemirror_mode": {
    "name": "ipython",
    "version": 3
   },
   "file_extension": ".py",
   "mimetype": "text/x-python",
   "name": "python",
   "nbconvert_exporter": "python",
   "pygments_lexer": "ipython3",
   "version": "3.10.13"
  }
 },
 "nbformat": 4,
 "nbformat_minor": 5
}
