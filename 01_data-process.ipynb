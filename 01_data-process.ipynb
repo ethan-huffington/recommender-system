{
 "cells": [
  {
   "cell_type": "markdown",
   "id": "e9f95e4f-ac6d-4b9f-a6ad-2ec11b756742",
   "metadata": {},
   "source": [
    "<div style=\"background-color:moccasin; color:black; padding:5px; font-size:20px\">\n",
    "Setup"
   ]
  },
  {
   "cell_type": "markdown",
   "id": "96c1dfd1-bf17-4fe3-8be5-3611f6aaab86",
   "metadata": {},
   "source": [
    "<div style=\"background-color:teal; color:white; padding:5px; font-size:20px\">\n",
    "Installs"
   ]
  },
  {
   "cell_type": "code",
   "execution_count": 1,
   "id": "905da0c9-9a0a-4dfb-a6c3-1a637032f181",
   "metadata": {
    "collapsed": true,
    "jupyter": {
     "outputs_hidden": true
    },
    "scrolled": true
   },
   "outputs": [
    {
     "name": "stdout",
     "output_type": "stream",
     "text": [
      "Collecting hopsworks\n",
      "  Using cached hopsworks-3.4.4-py3-none-any.whl\n",
      "Collecting hsfs<3.5.0,>=3.4.0 (from hsfs[python]<3.5.0,>=3.4.0->hopsworks)\n",
      "  Using cached hsfs-3.4.7-py3-none-any.whl\n",
      "Collecting hsml<3.5.0,>=3.4.0 (from hopsworks)\n",
      "  Using cached hsml-3.4.6-py3-none-any.whl\n",
      "Collecting pyhumps==1.6.1 (from hopsworks)\n",
      "  Using cached pyhumps-1.6.1-py3-none-any.whl (5.0 kB)\n",
      "Requirement already satisfied: requests in /opt/conda/lib/python3.10/site-packages (from hopsworks) (2.31.0)\n",
      "Collecting furl (from hopsworks)\n",
      "  Using cached furl-2.1.3-py2.py3-none-any.whl (20 kB)\n",
      "Requirement already satisfied: boto3 in /opt/conda/lib/python3.10/site-packages (from hopsworks) (1.28.64)\n",
      "Collecting pyjks (from hopsworks)\n",
      "  Using cached pyjks-20.0.0-py2.py3-none-any.whl (45 kB)\n",
      "Requirement already satisfied: mock in /opt/conda/lib/python3.10/site-packages (from hopsworks) (5.1.0)\n",
      "Requirement already satisfied: tqdm in /opt/conda/lib/python3.10/site-packages (from hopsworks) (4.66.1)\n",
      "Requirement already satisfied: pandas<2.2.0 in /opt/conda/lib/python3.10/site-packages (from hsfs<3.5.0,>=3.4.0->hsfs[python]<3.5.0,>=3.4.0->hopsworks) (2.1.4)\n",
      "Requirement already satisfied: numpy<2 in /opt/conda/lib/python3.10/site-packages (from hsfs<3.5.0,>=3.4.0->hsfs[python]<3.5.0,>=3.4.0->hopsworks) (1.26.3)\n",
      "Collecting avro==1.11.0 (from hsfs<3.5.0,>=3.4.0->hsfs[python]<3.5.0,>=3.4.0->hopsworks)\n",
      "  Using cached avro-1.11.0-py2.py3-none-any.whl\n",
      "Requirement already satisfied: sqlalchemy in /opt/conda/lib/python3.10/site-packages (from hsfs<3.5.0,>=3.4.0->hsfs[python]<3.5.0,>=3.4.0->hopsworks) (1.4.49)\n",
      "Collecting PyMySQL[rsa] (from hsfs<3.5.0,>=3.4.0->hsfs[python]<3.5.0,>=3.4.0->hopsworks)\n",
      "  Using cached PyMySQL-1.1.0-py3-none-any.whl.metadata (4.4 kB)\n",
      "Collecting great-expectations==0.14.13 (from hsfs<3.5.0,>=3.4.0->hsfs[python]<3.5.0,>=3.4.0->hopsworks)\n",
      "  Using cached great_expectations-0.14.13-py3-none-any.whl (5.0 MB)\n",
      "Collecting markupsafe<2.1.0 (from hsfs<3.5.0,>=3.4.0->hsfs[python]<3.5.0,>=3.4.0->hopsworks)\n",
      "  Using cached MarkupSafe-2.0.1-cp310-cp310-manylinux_2_5_x86_64.manylinux1_x86_64.manylinux_2_12_x86_64.manylinux2010_x86_64.whl (30 kB)\n",
      "Collecting tzlocal (from hsfs<3.5.0,>=3.4.0->hsfs[python]<3.5.0,>=3.4.0->hopsworks)\n",
      "  Using cached tzlocal-5.2-py3-none-any.whl.metadata (7.8 kB)\n",
      "Requirement already satisfied: fsspec in /opt/conda/lib/python3.10/site-packages (from hsfs<3.5.0,>=3.4.0->hsfs[python]<3.5.0,>=3.4.0->hopsworks) (2023.6.0)\n",
      "Collecting altair<5,>=4.0.0 (from great-expectations==0.14.13->hsfs<3.5.0,>=3.4.0->hsfs[python]<3.5.0,>=3.4.0->hopsworks)\n",
      "  Using cached altair-4.2.2-py3-none-any.whl.metadata (13 kB)\n",
      "Requirement already satisfied: Click>=7.1.2 in /opt/conda/lib/python3.10/site-packages (from great-expectations==0.14.13->hsfs<3.5.0,>=3.4.0->hsfs[python]<3.5.0,>=3.4.0->hopsworks) (8.1.7)\n",
      "Requirement already satisfied: colorama>=0.4.3 in /opt/conda/lib/python3.10/site-packages (from great-expectations==0.14.13->hsfs<3.5.0,>=3.4.0->hsfs[python]<3.5.0,>=3.4.0->hopsworks) (0.4.6)\n",
      "Requirement already satisfied: cryptography>=3.2 in /opt/conda/lib/python3.10/site-packages (from great-expectations==0.14.13->hsfs<3.5.0,>=3.4.0->hsfs[python]<3.5.0,>=3.4.0->hopsworks) (42.0.2)\n",
      "Requirement already satisfied: dataclasses in /opt/conda/lib/python3.10/site-packages (from great-expectations==0.14.13->hsfs<3.5.0,>=3.4.0->hsfs[python]<3.5.0,>=3.4.0->hopsworks) (0.8)\n",
      "Requirement already satisfied: importlib-metadata>=1.7.0 in /opt/conda/lib/python3.10/site-packages (from great-expectations==0.14.13->hsfs<3.5.0,>=3.4.0->hsfs[python]<3.5.0,>=3.4.0->hopsworks) (6.10.0)\n",
      "Requirement already satisfied: Ipython>=7.16.3 in /opt/conda/lib/python3.10/site-packages (from great-expectations==0.14.13->hsfs<3.5.0,>=3.4.0->hsfs[python]<3.5.0,>=3.4.0->hopsworks) (8.20.0)\n",
      "Collecting jinja2<3.1.0,>=2.10 (from great-expectations==0.14.13->hsfs<3.5.0,>=3.4.0->hsfs[python]<3.5.0,>=3.4.0->hopsworks)\n",
      "  Using cached Jinja2-3.0.3-py3-none-any.whl (133 kB)\n",
      "Requirement already satisfied: jsonpatch>=1.22 in /opt/conda/lib/python3.10/site-packages (from great-expectations==0.14.13->hsfs<3.5.0,>=3.4.0->hsfs[python]<3.5.0,>=3.4.0->hopsworks) (1.33)\n",
      "Requirement already satisfied: jsonschema>=2.5.1 in /opt/conda/lib/python3.10/site-packages (from great-expectations==0.14.13->hsfs<3.5.0,>=3.4.0->hsfs[python]<3.5.0,>=3.4.0->hopsworks) (4.17.3)\n",
      "Requirement already satisfied: mistune>=0.8.4 in /opt/conda/lib/python3.10/site-packages (from great-expectations==0.14.13->hsfs<3.5.0,>=3.4.0->hsfs[python]<3.5.0,>=3.4.0->hopsworks) (3.0.2)\n",
      "Requirement already satisfied: nbformat>=5.0 in /opt/conda/lib/python3.10/site-packages (from great-expectations==0.14.13->hsfs<3.5.0,>=3.4.0->hsfs[python]<3.5.0,>=3.4.0->hopsworks) (5.9.2)\n",
      "Requirement already satisfied: packaging in /opt/conda/lib/python3.10/site-packages (from great-expectations==0.14.13->hsfs<3.5.0,>=3.4.0->hsfs[python]<3.5.0,>=3.4.0->hopsworks) (23.2)\n",
      "Collecting pyparsing<3,>=2.4 (from great-expectations==0.14.13->hsfs<3.5.0,>=3.4.0->hsfs[python]<3.5.0,>=3.4.0->hopsworks)\n",
      "  Using cached pyparsing-2.4.7-py2.py3-none-any.whl (67 kB)\n",
      "Requirement already satisfied: python-dateutil>=2.8.1 in /opt/conda/lib/python3.10/site-packages (from great-expectations==0.14.13->hsfs<3.5.0,>=3.4.0->hsfs[python]<3.5.0,>=3.4.0->hopsworks) (2.8.2)\n",
      "Requirement already satisfied: pytz>=2021.3 in /opt/conda/lib/python3.10/site-packages (from great-expectations==0.14.13->hsfs<3.5.0,>=3.4.0->hsfs[python]<3.5.0,>=3.4.0->hopsworks) (2023.3)\n",
      "Collecting ruamel.yaml<0.17.18,>=0.16 (from great-expectations==0.14.13->hsfs<3.5.0,>=3.4.0->hsfs[python]<3.5.0,>=3.4.0->hopsworks)\n",
      "  Using cached ruamel.yaml-0.17.17-py3-none-any.whl (109 kB)\n",
      "Requirement already satisfied: scipy>=0.19.0 in /opt/conda/lib/python3.10/site-packages (from great-expectations==0.14.13->hsfs<3.5.0,>=3.4.0->hsfs[python]<3.5.0,>=3.4.0->hopsworks) (1.11.4)\n",
      "Requirement already satisfied: termcolor>=1.1.0 in /opt/conda/lib/python3.10/site-packages (from great-expectations==0.14.13->hsfs<3.5.0,>=3.4.0->hsfs[python]<3.5.0,>=3.4.0->hopsworks) (2.4.0)\n",
      "Requirement already satisfied: typing-extensions>=3.10.0.0 in /opt/conda/lib/python3.10/site-packages (from great-expectations==0.14.13->hsfs<3.5.0,>=3.4.0->hsfs[python]<3.5.0,>=3.4.0->hopsworks) (4.5.0)\n",
      "Requirement already satisfied: urllib3<1.27,>=1.25.4 in /opt/conda/lib/python3.10/site-packages (from great-expectations==0.14.13->hsfs<3.5.0,>=3.4.0->hsfs[python]<3.5.0,>=3.4.0->hopsworks) (1.26.18)\n",
      "Collecting pyhopshive[thrift] (from hsfs[python]<3.5.0,>=3.4.0->hopsworks)\n",
      "  Using cached PyHopsHive-0.6.4.1.dev0-py3-none-any.whl\n",
      "Requirement already satisfied: pyarrow>=10.0 in /opt/conda/lib/python3.10/site-packages (from hsfs[python]<3.5.0,>=3.4.0->hopsworks) (12.0.1)\n",
      "Collecting confluent-kafka<=2.3.0 (from hsfs[python]<3.5.0,>=3.4.0->hopsworks)\n",
      "  Using cached confluent_kafka-2.3.0-cp310-cp310-manylinux_2_17_x86_64.manylinux2014_x86_64.whl.metadata (2.3 kB)\n",
      "Collecting fastavro<=1.8.2,>=1.4.11 (from hsfs[python]<3.5.0,>=3.4.0->hopsworks)\n",
      "  Using cached fastavro-1.8.2-cp310-cp310-manylinux_2_17_x86_64.manylinux2014_x86_64.whl.metadata (5.5 kB)\n",
      "Requirement already satisfied: charset-normalizer<4,>=2 in /opt/conda/lib/python3.10/site-packages (from requests->hopsworks) (3.3.2)\n",
      "Requirement already satisfied: idna<4,>=2.5 in /opt/conda/lib/python3.10/site-packages (from requests->hopsworks) (3.6)\n",
      "Requirement already satisfied: certifi>=2017.4.17 in /opt/conda/lib/python3.10/site-packages (from requests->hopsworks) (2023.11.17)\n",
      "Requirement already satisfied: botocore<1.32.0,>=1.31.64 in /opt/conda/lib/python3.10/site-packages (from boto3->hopsworks) (1.31.64)\n",
      "Requirement already satisfied: jmespath<2.0.0,>=0.7.1 in /opt/conda/lib/python3.10/site-packages (from boto3->hopsworks) (1.0.1)\n",
      "Requirement already satisfied: s3transfer<0.8.0,>=0.7.0 in /opt/conda/lib/python3.10/site-packages (from boto3->hopsworks) (0.7.0)\n",
      "Requirement already satisfied: six>=1.8.0 in /opt/conda/lib/python3.10/site-packages (from furl->hopsworks) (1.16.0)\n",
      "Collecting orderedmultidict>=1.0.1 (from furl->hopsworks)\n",
      "  Using cached orderedmultidict-1.0.1-py2.py3-none-any.whl (11 kB)\n",
      "Collecting javaobj-py3 (from pyjks->hopsworks)\n",
      "  Using cached javaobj_py3-0.4.3-py2.py3-none-any.whl (57 kB)\n",
      "Requirement already satisfied: pyasn1>=0.3.5 in /opt/conda/lib/python3.10/site-packages (from pyjks->hopsworks) (0.5.1)\n",
      "Requirement already satisfied: pyasn1-modules in /opt/conda/lib/python3.10/site-packages (from pyjks->hopsworks) (0.3.0)\n",
      "Collecting pycryptodomex (from pyjks->hopsworks)\n",
      "  Using cached pycryptodomex-3.20.0-cp35-abi3-manylinux_2_17_x86_64.manylinux2014_x86_64.whl.metadata (3.4 kB)\n",
      "Collecting twofish (from pyjks->hopsworks)\n",
      "  Using cached twofish-0.3.0-cp310-cp310-linux_x86_64.whl\n",
      "Requirement already satisfied: tzdata>=2022.1 in /opt/conda/lib/python3.10/site-packages (from pandas<2.2.0->hsfs<3.5.0,>=3.4.0->hsfs[python]<3.5.0,>=3.4.0->hopsworks) (2023.4)\n",
      "Requirement already satisfied: future in /opt/conda/lib/python3.10/site-packages (from pyhopshive[thrift]; extra == \"python\"->hsfs[python]<3.5.0,>=3.4.0->hopsworks) (0.18.3)\n",
      "Requirement already satisfied: thrift>=0.10.0 in /opt/conda/lib/python3.10/site-packages (from pyhopshive[thrift]; extra == \"python\"->hsfs[python]<3.5.0,>=3.4.0->hopsworks) (0.19.0)\n",
      "Requirement already satisfied: greenlet!=0.4.17 in /opt/conda/lib/python3.10/site-packages (from sqlalchemy->hsfs<3.5.0,>=3.4.0->hsfs[python]<3.5.0,>=3.4.0->hopsworks) (3.0.1)\n",
      "Requirement already satisfied: entrypoints in /opt/conda/lib/python3.10/site-packages (from altair<5,>=4.0.0->great-expectations==0.14.13->hsfs<3.5.0,>=3.4.0->hsfs[python]<3.5.0,>=3.4.0->hopsworks) (0.4)\n",
      "Requirement already satisfied: toolz in /opt/conda/lib/python3.10/site-packages (from altair<5,>=4.0.0->great-expectations==0.14.13->hsfs<3.5.0,>=3.4.0->hsfs[python]<3.5.0,>=3.4.0->hopsworks) (0.12.1)\n",
      "Requirement already satisfied: cffi>=1.12 in /opt/conda/lib/python3.10/site-packages (from cryptography>=3.2->great-expectations==0.14.13->hsfs<3.5.0,>=3.4.0->hsfs[python]<3.5.0,>=3.4.0->hopsworks) (1.16.0)\n",
      "Requirement already satisfied: zipp>=0.5 in /opt/conda/lib/python3.10/site-packages (from importlib-metadata>=1.7.0->great-expectations==0.14.13->hsfs<3.5.0,>=3.4.0->hsfs[python]<3.5.0,>=3.4.0->hopsworks) (3.17.0)\n",
      "Requirement already satisfied: decorator in /opt/conda/lib/python3.10/site-packages (from Ipython>=7.16.3->great-expectations==0.14.13->hsfs<3.5.0,>=3.4.0->hsfs[python]<3.5.0,>=3.4.0->hopsworks) (5.1.1)\n",
      "Requirement already satisfied: jedi>=0.16 in /opt/conda/lib/python3.10/site-packages (from Ipython>=7.16.3->great-expectations==0.14.13->hsfs<3.5.0,>=3.4.0->hsfs[python]<3.5.0,>=3.4.0->hopsworks) (0.19.1)\n",
      "Requirement already satisfied: matplotlib-inline in /opt/conda/lib/python3.10/site-packages (from Ipython>=7.16.3->great-expectations==0.14.13->hsfs<3.5.0,>=3.4.0->hsfs[python]<3.5.0,>=3.4.0->hopsworks) (0.1.6)\n",
      "Requirement already satisfied: prompt-toolkit<3.1.0,>=3.0.41 in /opt/conda/lib/python3.10/site-packages (from Ipython>=7.16.3->great-expectations==0.14.13->hsfs<3.5.0,>=3.4.0->hsfs[python]<3.5.0,>=3.4.0->hopsworks) (3.0.42)\n",
      "Requirement already satisfied: pygments>=2.4.0 in /opt/conda/lib/python3.10/site-packages (from Ipython>=7.16.3->great-expectations==0.14.13->hsfs<3.5.0,>=3.4.0->hsfs[python]<3.5.0,>=3.4.0->hopsworks) (2.17.2)\n",
      "Requirement already satisfied: stack-data in /opt/conda/lib/python3.10/site-packages (from Ipython>=7.16.3->great-expectations==0.14.13->hsfs<3.5.0,>=3.4.0->hsfs[python]<3.5.0,>=3.4.0->hopsworks) (0.6.2)\n",
      "Requirement already satisfied: traitlets>=5 in /opt/conda/lib/python3.10/site-packages (from Ipython>=7.16.3->great-expectations==0.14.13->hsfs<3.5.0,>=3.4.0->hsfs[python]<3.5.0,>=3.4.0->hopsworks) (5.14.1)\n",
      "Requirement already satisfied: exceptiongroup in /opt/conda/lib/python3.10/site-packages (from Ipython>=7.16.3->great-expectations==0.14.13->hsfs<3.5.0,>=3.4.0->hsfs[python]<3.5.0,>=3.4.0->hopsworks) (1.2.0)\n",
      "Requirement already satisfied: pexpect>4.3 in /opt/conda/lib/python3.10/site-packages (from Ipython>=7.16.3->great-expectations==0.14.13->hsfs<3.5.0,>=3.4.0->hsfs[python]<3.5.0,>=3.4.0->hopsworks) (4.9.0)\n",
      "Requirement already satisfied: jsonpointer>=1.9 in /opt/conda/lib/python3.10/site-packages (from jsonpatch>=1.22->great-expectations==0.14.13->hsfs<3.5.0,>=3.4.0->hsfs[python]<3.5.0,>=3.4.0->hopsworks) (2.4)\n",
      "Requirement already satisfied: attrs>=17.4.0 in /opt/conda/lib/python3.10/site-packages (from jsonschema>=2.5.1->great-expectations==0.14.13->hsfs<3.5.0,>=3.4.0->hsfs[python]<3.5.0,>=3.4.0->hopsworks) (23.2.0)\n",
      "Requirement already satisfied: pyrsistent!=0.17.0,!=0.17.1,!=0.17.2,>=0.14.0 in /opt/conda/lib/python3.10/site-packages (from jsonschema>=2.5.1->great-expectations==0.14.13->hsfs<3.5.0,>=3.4.0->hsfs[python]<3.5.0,>=3.4.0->hopsworks) (0.20.0)\n",
      "Requirement already satisfied: fastjsonschema in /opt/conda/lib/python3.10/site-packages (from nbformat>=5.0->great-expectations==0.14.13->hsfs<3.5.0,>=3.4.0->hsfs[python]<3.5.0,>=3.4.0->hopsworks) (2.19.1)\n",
      "Requirement already satisfied: jupyter-core in /opt/conda/lib/python3.10/site-packages (from nbformat>=5.0->great-expectations==0.14.13->hsfs<3.5.0,>=3.4.0->hsfs[python]<3.5.0,>=3.4.0->hopsworks) (5.7.1)\n",
      "Requirement already satisfied: pycparser in /opt/conda/lib/python3.10/site-packages (from cffi>=1.12->cryptography>=3.2->great-expectations==0.14.13->hsfs<3.5.0,>=3.4.0->hsfs[python]<3.5.0,>=3.4.0->hopsworks) (2.21)\n",
      "Requirement already satisfied: parso<0.9.0,>=0.8.3 in /opt/conda/lib/python3.10/site-packages (from jedi>=0.16->Ipython>=7.16.3->great-expectations==0.14.13->hsfs<3.5.0,>=3.4.0->hsfs[python]<3.5.0,>=3.4.0->hopsworks) (0.8.3)\n",
      "Requirement already satisfied: ptyprocess>=0.5 in /opt/conda/lib/python3.10/site-packages (from pexpect>4.3->Ipython>=7.16.3->great-expectations==0.14.13->hsfs<3.5.0,>=3.4.0->hsfs[python]<3.5.0,>=3.4.0->hopsworks) (0.7.0)\n",
      "Requirement already satisfied: wcwidth in /opt/conda/lib/python3.10/site-packages (from prompt-toolkit<3.1.0,>=3.0.41->Ipython>=7.16.3->great-expectations==0.14.13->hsfs<3.5.0,>=3.4.0->hsfs[python]<3.5.0,>=3.4.0->hopsworks) (0.2.13)\n",
      "Requirement already satisfied: platformdirs>=2.5 in /opt/conda/lib/python3.10/site-packages (from jupyter-core->nbformat>=5.0->great-expectations==0.14.13->hsfs<3.5.0,>=3.4.0->hsfs[python]<3.5.0,>=3.4.0->hopsworks) (4.2.0)\n",
      "Requirement already satisfied: executing>=1.2.0 in /opt/conda/lib/python3.10/site-packages (from stack-data->Ipython>=7.16.3->great-expectations==0.14.13->hsfs<3.5.0,>=3.4.0->hsfs[python]<3.5.0,>=3.4.0->hopsworks) (2.0.1)\n",
      "Requirement already satisfied: asttokens>=2.1.0 in /opt/conda/lib/python3.10/site-packages (from stack-data->Ipython>=7.16.3->great-expectations==0.14.13->hsfs<3.5.0,>=3.4.0->hsfs[python]<3.5.0,>=3.4.0->hopsworks) (2.4.1)\n",
      "Requirement already satisfied: pure-eval in /opt/conda/lib/python3.10/site-packages (from stack-data->Ipython>=7.16.3->great-expectations==0.14.13->hsfs<3.5.0,>=3.4.0->hsfs[python]<3.5.0,>=3.4.0->hopsworks) (0.2.2)\n",
      "Using cached confluent_kafka-2.3.0-cp310-cp310-manylinux_2_17_x86_64.manylinux2014_x86_64.whl (4.0 MB)\n",
      "Using cached fastavro-1.8.2-cp310-cp310-manylinux_2_17_x86_64.manylinux2014_x86_64.whl (2.7 MB)\n",
      "Using cached tzlocal-5.2-py3-none-any.whl (17 kB)\n",
      "Using cached pycryptodomex-3.20.0-cp35-abi3-manylinux_2_17_x86_64.manylinux2014_x86_64.whl (2.1 MB)\n",
      "Using cached altair-4.2.2-py3-none-any.whl (813 kB)\n",
      "Using cached PyMySQL-1.1.0-py3-none-any.whl (44 kB)\n",
      "Installing collected packages: twofish, pyhumps, javaobj-py3, confluent-kafka, tzlocal, ruamel.yaml, pyparsing, PyMySQL, pycryptodomex, orderedmultidict, markupsafe, fastavro, avro, pyjks, jinja2, furl, pyhopshive, altair, great-expectations, hsml, hsfs, hopsworks\n",
      "  Attempting uninstall: ruamel.yaml\n",
      "    Found existing installation: ruamel.yaml 0.18.5\n",
      "    Uninstalling ruamel.yaml-0.18.5:\n",
      "      Successfully uninstalled ruamel.yaml-0.18.5\n",
      "  Attempting uninstall: pyparsing\n",
      "    Found existing installation: pyparsing 3.1.1\n",
      "    Uninstalling pyparsing-3.1.1:\n",
      "      Successfully uninstalled pyparsing-3.1.1\n",
      "  Attempting uninstall: markupsafe\n",
      "    Found existing installation: MarkupSafe 2.1.4\n",
      "    Uninstalling MarkupSafe-2.1.4:\n",
      "      Successfully uninstalled MarkupSafe-2.1.4\n",
      "  Attempting uninstall: jinja2\n",
      "    Found existing installation: Jinja2 3.1.3\n",
      "    Uninstalling Jinja2-3.1.3:\n",
      "      Successfully uninstalled Jinja2-3.1.3\n",
      "  Attempting uninstall: altair\n",
      "    Found existing installation: altair 5.2.0\n",
      "    Uninstalling altair-5.2.0:\n",
      "      Successfully uninstalled altair-5.2.0\n",
      "\u001b[31mERROR: pip's dependency resolver does not currently take into account all the packages that are installed. This behaviour is the source of the following dependency conflicts.\n",
      "flask 3.0.1 requires Jinja2>=3.1.2, but you have jinja2 3.0.3 which is incompatible.\n",
      "sparkmagic 0.21.0 requires pandas<2.0.0,>=0.17.1, but you have pandas 2.1.4 which is incompatible.\n",
      "werkzeug 3.0.1 requires MarkupSafe>=2.1.1, but you have markupsafe 2.0.1 which is incompatible.\u001b[0m\u001b[31m\n",
      "\u001b[0mSuccessfully installed PyMySQL-1.1.0 altair-4.2.2 avro-1.11.0 confluent-kafka-2.3.0 fastavro-1.8.2 furl-2.1.3 great-expectations-0.14.13 hopsworks-3.4.4 hsfs-3.4.7 hsml-3.4.6 javaobj-py3-0.4.3 jinja2-3.0.3 markupsafe-2.0.1 orderedmultidict-1.0.1 pycryptodomex-3.20.0 pyhopshive-0.6.4.1.dev0 pyhumps-1.6.1 pyjks-20.0.0 pyparsing-2.4.7 ruamel.yaml-0.17.17 twofish-0.3.0 tzlocal-5.2\n"
     ]
    }
   ],
   "source": [
    "!pip install hopsworks"
   ]
  },
  {
   "cell_type": "markdown",
   "id": "bf85fc7c-ff6b-4875-96c4-199e2a74de32",
   "metadata": {},
   "source": [
    "<div style=\"background-color:teal; color:white; padding:5px; font-size:20px\">\n",
    "Imports"
   ]
  },
  {
   "cell_type": "code",
   "execution_count": 2,
   "id": "dae92f94-0742-427b-8f7f-10a28dbbe2ba",
   "metadata": {},
   "outputs": [],
   "source": [
    "import pandas as pd\n",
    "import numpy as np\n",
    "\n",
    "import importlib\n",
    "import sys\n",
    "sys.path.append('./scripts')\n",
    "\n",
    "import feat_engineer_helpers"
   ]
  },
  {
   "cell_type": "markdown",
   "id": "8686a542-d726-4c98-ac49-8aea0170f237",
   "metadata": {},
   "source": [
    "<div style=\"background-color:moccasin; color:black; padding:5px; font-size:20px\">\n",
    "Hopsworks Feature Store Connection"
   ]
  },
  {
   "cell_type": "code",
   "execution_count": 3,
   "id": "a1072e06-1e97-414b-9bba-f0fe9aee2787",
   "metadata": {},
   "outputs": [],
   "source": [
    "import boto3\n",
    "\n",
    "# Initialize a client for Systems Manager\n",
    "ssm = boto3.client('ssm', region_name='us-east-1')\n",
    "\n",
    "parameter_name = 'hopsworks-api-key'\n",
    "\n",
    "# Fetch the parameter\n",
    "response = ssm.get_parameter(Name=parameter_name, WithDecryption=True)\n",
    "\n",
    "# Extract the parameter value (API key in this case)\n",
    "hopsworks_api_key = response['Parameter']['Value']"
   ]
  },
  {
   "cell_type": "code",
   "execution_count": 4,
   "id": "ee58f4e9-9aea-41ec-bed1-29a32f9765d6",
   "metadata": {},
   "outputs": [
    {
     "name": "stdout",
     "output_type": "stream",
     "text": [
      "Connected. Call `.close()` to terminate connection gracefully.\n",
      "\n",
      "Logged in to project, explore it here https://c.app.hopsworks.ai:443/p/475285\n",
      "Connected. Call `.close()` to terminate connection gracefully.\n"
     ]
    }
   ],
   "source": [
    "import hopsworks\n",
    "\n",
    "project = hopsworks.login()\n",
    "\n",
    "fs = project.get_feature_store()"
   ]
  },
  {
   "cell_type": "markdown",
   "id": "6592502e-a07e-470b-ad4d-d9fca829cc2c",
   "metadata": {},
   "source": [
    "<div style=\"background-color:moccasin; color:black; padding:5px; font-size:20px\">\n",
    "Data Download & Feature Engineering"
   ]
  },
  {
   "cell_type": "markdown",
   "id": "3e7352f8-294b-409c-909c-4891a9cc907b",
   "metadata": {},
   "source": [
    "<div style=\"background-color: darkgreen ; color:white; padding:0px; font-size:15px\">\n",
    "Articles"
   ]
  },
  {
   "cell_type": "code",
   "execution_count": null,
   "id": "75c33516-c4e8-42f7-9b01-0d9acea6cfbb",
   "metadata": {},
   "outputs": [],
   "source": [
    "articles_df = pd.read_parquet('https://repo.hops.works/dev/jdowling/articles.parquet')\n",
    "print(articles_df.shape)\n",
    "articles_df.head(3)"
   ]
  },
  {
   "cell_type": "code",
   "execution_count": null,
   "id": "1cbb4ee1-b2a2-4fe7-97c9-08708d38c3fd",
   "metadata": {},
   "outputs": [],
   "source": [
    "# Check for NaNs\n",
    "articles_df.isna().sum()[articles_df.isna().sum() > 0]"
   ]
  },
  {
   "cell_type": "code",
   "execution_count": null,
   "id": "894a23dc-a7b6-438a-99fb-bf0bd6c23a37",
   "metadata": {},
   "outputs": [],
   "source": [
    "from feat_engineer_helpers import prepare_articles\n",
    "\n",
    "articles_df = prepare_articles(articles_df)\n",
    "articles_df.head(3)"
   ]
  },
  {
   "cell_type": "markdown",
   "id": "963c7852-f3de-483b-b6a1-b1b15f5d95cc",
   "metadata": {},
   "source": [
    "<div style=\"background-color: darkgreen ; color:white; padding:0px; font-size:15px\">\n",
    "Customers"
   ]
  },
  {
   "cell_type": "code",
   "execution_count": null,
   "id": "ce9b644c-01d8-4299-8832-68dd2768566c",
   "metadata": {},
   "outputs": [],
   "source": [
    "customers_df = pd.read_parquet('https://repo.hops.works/dev/jdowling/customers.parquet')\n",
    "print(customers_df.shape)\n",
    "customers_df.head(3)"
   ]
  },
  {
   "cell_type": "code",
   "execution_count": null,
   "id": "18090843-f412-4aec-95e2-4a797304fbf1",
   "metadata": {},
   "outputs": [],
   "source": [
    "# Check for NaNs\n",
    "customers_df.isna().sum()[customers_df.isna().sum() > 0]"
   ]
  },
  {
   "cell_type": "code",
   "execution_count": null,
   "id": "4a0a1749-362f-4ad0-979c-ba34613c0adf",
   "metadata": {},
   "outputs": [],
   "source": [
    "from feat_engineer_helpers import prepare_customers\n",
    "\n",
    "customers_df = prepare_customers(customers_df)\n",
    "print(len(customers_df))\n",
    "customers_df.head(3)"
   ]
  },
  {
   "cell_type": "markdown",
   "id": "b608d3d6-a1ee-44da-8c48-35774735cf45",
   "metadata": {},
   "source": [
    "<div style=\"background-color: darkgreen ; color:white; padding:0px; font-size:15px\">\n",
    "Transactions"
   ]
  },
  {
   "cell_type": "code",
   "execution_count": null,
   "id": "4dce7d2e-7ea8-434c-b267-dbd6433d18a3",
   "metadata": {},
   "outputs": [],
   "source": [
    "trans_df = pd.read_parquet('https://repo.hops.works/dev/jdowling/transactions_train.parquet')[:600000]\n",
    "print(trans_df.shape)\n",
    "trans_df.head(3)"
   ]
  },
  {
   "cell_type": "code",
   "execution_count": null,
   "id": "9a1ab9e9-6f59-4de3-b63c-09c6cd55c294",
   "metadata": {},
   "outputs": [],
   "source": [
    "# Check for NaNs\n",
    "trans_df.isna().sum()[trans_df.isna().sum() > 0]"
   ]
  },
  {
   "cell_type": "code",
   "execution_count": null,
   "id": "8cf39bd8-d17d-42f5-aa51-61bf58199688",
   "metadata": {},
   "outputs": [],
   "source": [
    "from feat_engineer_helpers import prepare_transactions\n",
    "\n",
    "trans_df = prepare_transactions(trans_df)\n",
    "print(f\"There are {len(trans_df):,} transactions in total.\")\n",
    "trans_df.head(3)"
   ]
  },
  {
   "cell_type": "markdown",
   "id": "440ee73f-a398-49c7-9623-f2c257f35fea",
   "metadata": {},
   "source": [
    "<div style=\"background-color:moccasin; color:black; padding:5px; font-size:20px\">\n",
    "Create Feature Groups (Hopsworks)"
   ]
  },
  {
   "cell_type": "markdown",
   "id": "c13416f4-0e00-4b73-b8f4-c60d4d348bcd",
   "metadata": {},
   "source": [
    "<div style=\"background-color: darkgreen ; color:white; padding:0px; font-size:15px\">\n",
    "Items"
   ]
  },
  {
   "cell_type": "code",
   "execution_count": null,
   "id": "cb470681-110e-4bbb-96fa-69bcef4e06f3",
   "metadata": {},
   "outputs": [],
   "source": [
    "# Define Feature Group\n",
    "articles_fg = fs.get_or_create_feature_group(\n",
    "    name=\"articles\",\n",
    "    description=\"Fashion items data including type of item, visual description and category\",\n",
    "    version=1,\n",
    "    primary_key=[\"article_id\"],\n",
    "    online_enabled=True\n",
    ")\n",
    "# Load Data\n",
    "articles_fg.insert(articles_df)"
   ]
  },
  {
   "cell_type": "code",
   "execution_count": null,
   "id": "4058e515-4c93-47f4-a332-656df4449940",
   "metadata": {},
   "outputs": [],
   "source": [
    "# Add Feature Descriptions\n",
    "feature_descriptions = [\n",
    "    {\"name\": \"article_id\", \"description\": \"Identifier for the article.\"},\n",
    "    {\"name\": \"product_code\", \"description\": \"Code associated with the product.\"},\n",
    "    {\"name\": \"prod_name\", \"description\": \"Name of the product.\"},\n",
    "    {\"name\": \"product_type_no\", \"description\": \"Number associated with the product type.\"},\n",
    "    {\"name\": \"product_type_name\", \"description\": \"Name of the product type.\"},\n",
    "    {\"name\": \"product_group_name\", \"description\": \"Name of the product group.\"},\n",
    "    {\"name\": \"graphical_appearance_no\", \"description\": \"Number associated with graphical appearance.\"},\n",
    "    {\"name\": \"graphical_appearance_name\", \"description\": \"Name of the graphical appearance.\"},\n",
    "    {\"name\": \"colour_group_code\", \"description\": \"Code associated with the colour group.\"},\n",
    "    {\"name\": \"colour_group_name\", \"description\": \"Name of the colour group.\"},\n",
    "    {\"name\": \"perceived_colour_value_id\", \"description\": \"ID associated with perceived colour value.\"},\n",
    "    {\"name\": \"perceived_colour_value_name\", \"description\": \"Name of the perceived colour value.\"},\n",
    "    {\"name\": \"perceived_colour_master_id\", \"description\": \"ID associated with perceived colour master.\"},\n",
    "    {\"name\": \"perceived_colour_master_name\", \"description\": \"Name of the perceived colour master.\"},\n",
    "    {\"name\": \"department_no\", \"description\": \"Number associated with the department.\"},\n",
    "    {\"name\": \"department_name\", \"description\": \"Name of the department.\"},\n",
    "    {\"name\": \"index_code\", \"description\": \"Code associated with the index.\"},\n",
    "    {\"name\": \"index_name\", \"description\": \"Name of the index.\"},\n",
    "    {\"name\": \"index_group_no\", \"description\": \"Number associated with the index group.\"},\n",
    "    {\"name\": \"index_group_name\", \"description\": \"Name of the index group.\"},\n",
    "    {\"name\": \"section_no\", \"description\": \"Number associated with the section.\"},\n",
    "    {\"name\": \"section_name\", \"description\": \"Name of the section.\"},\n",
    "    {\"name\": \"garment_group_no\", \"description\": \"Number associated with the garment group.\"},\n",
    "    {\"name\": \"garment_group_name\", \"description\": \"Name of the garment group.\"},\n",
    "    {\"name\": \"prod_name_length\", \"description\": \"Length of the product name.\"},\n",
    "]\n",
    "\n",
    "for desc in feature_descriptions: \n",
    "    articles_fg.update_feature_description(desc[\"name\"], desc[\"description\"])"
   ]
  },
  {
   "cell_type": "markdown",
   "id": "5337976a-08f7-40d9-a105-94599cf00be8",
   "metadata": {},
   "source": [
    "<div style=\"background-color: darkgreen ; color:white; padding:0px; font-size:15px\">\n",
    "Customers"
   ]
  },
  {
   "cell_type": "code",
   "execution_count": null,
   "id": "121ceab7-4837-467e-bdff-77588ce7f8d7",
   "metadata": {},
   "outputs": [],
   "source": [
    "# Define Feature Group\n",
    "customers_fg = fs.get_or_create_feature_group(\n",
    "    name=\"customers\",\n",
    "    description=\"Customers data including age and postal code\",\n",
    "    version=1,\n",
    "    primary_key=[\"customer_id\"],\n",
    "    online_enabled=True,  # Low latency access to data\n",
    ")\n",
    "# Load Data\n",
    "customers_fg.insert(customers_df)"
   ]
  },
  {
   "cell_type": "code",
   "execution_count": null,
   "id": "d0654ee6-515a-4221-ad5b-ba6c9ee50a49",
   "metadata": {},
   "outputs": [],
   "source": [
    "# Add Feature Descriptions\n",
    "feature_descriptions = [\n",
    "    {\"name\": \"customer_id\", \"description\": \"Unique identifier for each customer.\"},\n",
    "    {\"name\": \"club_member_status\", \"description\": \"Membership status of the customer in the club.\"},\n",
    "    {\"name\": \"age\", \"description\": \"Age of the customer.\"},\n",
    "    {\"name\": \"postal_code\", \"description\": \"Postal code associated with the customer's address.\"},\n",
    "    {\"name\": \"age_group\", \"description\": \"Categorized age group of the customer.\"},\n",
    "]\n",
    "\n",
    "for desc in feature_descriptions:\n",
    "    customers_fg.update_feature_description(desc[\"name\"], desc[\"description\"])"
   ]
  },
  {
   "cell_type": "markdown",
   "id": "d187a592-4b21-4296-b112-dbf4a73f9c0d",
   "metadata": {},
   "source": [
    "<div style=\"background-color: darkgreen ; color:white; padding:0px; font-size:15px\">\n",
    "Transactions"
   ]
  },
  {
   "cell_type": "code",
   "execution_count": null,
   "id": "fbc02c35-fadf-4fcf-b42a-fcc0022a1c95",
   "metadata": {},
   "outputs": [],
   "source": [
    "trans_fg = fs.get_or_create_feature_group(\n",
    "    name=\"transactions\",\n",
    "    version=1,\n",
    "    description=\"Transactions data including customer, item, price, sales channel and transaction date\",\n",
    "    primary_key=[\"customer_id\", \"article_id\"],\n",
    "    online_enabled=True,\n",
    "    event_time=\"t_dat\",\n",
    ")\n",
    "trans_fg.insert(\n",
    "    trans_df,\n",
    "    write_options={\"wait_for_job\": True},\n",
    ")"
   ]
  },
  {
   "cell_type": "code",
   "execution_count": null,
   "id": "d7ea0d56-5910-4e0b-b2df-cf3af8d6a88e",
   "metadata": {},
   "outputs": [],
   "source": [
    "feature_descriptions = [\n",
    "    {\"name\": \"t_dat\", \"description\": \"Timestamp of the data record.\"},\n",
    "    {\"name\": \"customer_id\", \"description\": \"Unique identifier for each customer.\"},\n",
    "    {\"name\": \"article_id\", \"description\": \"Identifier for the purchased article.\"},\n",
    "    {\"name\": \"price\", \"description\": \"Price of the purchased article.\"},\n",
    "    {\"name\": \"sales_channel_id\", \"description\": \"Identifier for the sales channel.\"},\n",
    "    {\"name\": \"year\", \"description\": \"Year of the transaction.\"},\n",
    "    {\"name\": \"month\", \"description\": \"Month of the transaction.\"},\n",
    "    {\"name\": \"day\", \"description\": \"Day of the transaction.\"},\n",
    "    {\"name\": \"day_of_week\", \"description\": \"Day of the week of the transaction.\"},\n",
    "    {\"name\": \"month_sin\", \"description\": \"Sine of the month used for seasonal patterns.\"},\n",
    "    {\"name\": \"month_cos\", \"description\": \"Cosine of the month used for seasonal patterns.\"},\n",
    "]\n",
    "\n",
    "for desc in feature_descriptions:\n",
    "    trans_fg.update_feature_description(desc[\"name\"], desc[\"description\"])"
   ]
  },
  {
   "cell_type": "markdown",
   "id": "06868720-dbc7-45d5-9396-3ef216652b3c",
   "metadata": {},
   "source": [
    "<div style=\"background-color:moccasin; color:black; padding:5px; font-size:20px\">\n",
    "Create Rankings"
   ]
  },
  {
   "cell_type": "code",
   "execution_count": 5,
   "id": "a34cfb04-0e75-47aa-8a88-3bb0234ba5e0",
   "metadata": {},
   "outputs": [],
   "source": [
    "# Load Feature Groups From Hopsworks\n",
    "trans_fg = fs.get_feature_group(name=\"transactions\",version=1,)\n",
    "customers_fg = fs.get_feature_group(name=\"customers\",version=1,)\n",
    "articles_fg = fs.get_feature_group(name=\"articles\",version=1,)"
   ]
  },
  {
   "cell_type": "code",
   "execution_count": 6,
   "id": "0e604513-2451-4567-b697-54d4a8f011e7",
   "metadata": {},
   "outputs": [],
   "source": [
    "def compute_ranking_dataset(trans_fg, articles_fg, customers_fg):\n",
    "\n",
    "    # DATASET JOINS & FILTERING\n",
    "    # - - - - - - - - - - - - - - - - - - - - - - - - - - - - - - - - - - - \n",
    "    # Joined-Dataset Creation & Relevant Feature Filtering\n",
    "    \n",
    "    # Define the features used in the query\n",
    "    query_features = [\"customer_id\", \"age\", \"month_sin\", \"month_cos\", \"article_id\"]\n",
    "    \n",
    "    # Perform the necessary joins to create the feature set\n",
    "    fg_query = trans_fg.select([\"month_sin\", \"month_cos\"]).join(articles_fg.select_all(), on=[\"article_id\"]).join(customers_fg.select([\"customer_id\", \"age\"]))\n",
    "    df = fg_query.read()\n",
    "    df = df[query_features]\n",
    "\n",
    "    # NEG SAMPLE GENERATION\n",
    "    # - - - - - - - - - - - - - - - - - - - - - - - - - - - - - - - - - - -\n",
    "    # Creates negative samples by randomly sampling from 3 sets:\n",
    "    # article_id, customer_id & age-monthsin-monthcos feature chunks\n",
    "\n",
    "    # Copy the positive pairs for ranking\n",
    "    positive_pairs = df.copy()\n",
    "    \n",
    "    # Define the number of negative pairs to generate\n",
    "    n_neg = len(positive_pairs) * 10\n",
    "\n",
    "    # Create new id_list by sampling from unique list of positive samples\n",
    "    negative_pairs = positive_pairs[\"article_id\"].drop_duplicates().sample(n_neg, replace=True, random_state=2).to_frame()\n",
    "\n",
    "    # Add customer_id to negative_pairs\n",
    "    negative_pairs[\"customer_id\"] = positive_pairs[\"customer_id\"].sample(n_neg, replace=True, random_state=3).to_numpy()\n",
    "\n",
    "    # Add other features to negative_pairs\n",
    "    negative_pairs[[\"age\", \"month_sin\", \"month_cos\"]] = positive_pairs[[\"age\", \"month_sin\", \"month_cos\"]].sample(n_neg, replace=True, random_state=4).to_numpy()\n",
    "    \n",
    "    # Add labels to positive and negative pairs\n",
    "    positive_pairs[\"label\"] = 1\n",
    "    negative_pairs[\"label\"] = 0\n",
    "    \n",
    "    # FINISHING TOUCHES\n",
    "    # - - - - - - - - - - - - - - - - - - - - - - - - - - - - - - - - - - -\n",
    "    \n",
    "    # Concatenate positive and negative pairs\n",
    "    ranking_df = pd.concat([positive_pairs, negative_pairs], ignore_index=True)\n",
    "\n",
    "    # Keep unique article_id from item features\n",
    "    item_df = articles_fg.read()\n",
    "    item_df.drop_duplicates(subset=\"article_id\", inplace=True)\n",
    "    \n",
    "    # Keep only the necessary columns from item features\n",
    "    item_df = item_df[[\"article_id\", \"product_type_name\", \"product_group_name\", \"graphical_appearance_name\", \"colour_group_name\", \"perceived_colour_value_name\", \n",
    "                       \"perceived_colour_master_name\", \"department_name\", \"index_name\", \"index_group_name\", \"section_name\", \"garment_group_name\"]]\n",
    "    \n",
    "    # Merge with item features\n",
    "    ranking_df = ranking_df.merge(item_df, on=\"article_id\")\n",
    "    \n",
    "    return ranking_df"
   ]
  },
  {
   "cell_type": "code",
   "execution_count": 7,
   "id": "84a85c8b-f50e-4405-8fc7-eb0ee42cfd69",
   "metadata": {},
   "outputs": [
    {
     "name": "stdout",
     "output_type": "stream",
     "text": [
      "Finished: Reading data from Hopsworks, using ArrowFlight (214.56s) \n",
      "df len:542409\n",
      "pos_pairs len:542409\n",
      "neg_pairs len:5424090\n",
      "Finished: Reading data from Hopsworks, using ArrowFlight (9.47s) \n",
      "item_df len:105542\n",
      "item_df cols:Index(['article_id', 'product_type_name', 'product_group_name',\n",
      "       'graphical_appearance_name', 'colour_group_name',\n",
      "       'perceived_colour_value_name', 'perceived_colour_master_name',\n",
      "       'department_name', 'index_name', 'index_group_name', 'section_name',\n",
      "       'garment_group_name'],\n",
      "      dtype='object')\n",
      "ranking_df cols:Index(['customer_id', 'age', 'month_sin', 'month_cos', 'article_id', 'label'], dtype='object')\n",
      "ranking_df len:5966499\n",
      "ranking_df unique:[1 0]\n"
     ]
    }
   ],
   "source": [
    "ranking_df = compute_ranking_dataset(\n",
    "    trans_fg, \n",
    "    articles_fg, \n",
    "    customers_fg,\n",
    ")"
   ]
  },
  {
   "cell_type": "code",
   "execution_count": 12,
   "id": "886a48a7-18e0-4ca9-a524-7f025bf216c8",
   "metadata": {},
   "outputs": [
    {
     "data": {
      "text/html": [
       "<div>\n",
       "<style scoped>\n",
       "    .dataframe tbody tr th:only-of-type {\n",
       "        vertical-align: middle;\n",
       "    }\n",
       "\n",
       "    .dataframe tbody tr th {\n",
       "        vertical-align: top;\n",
       "    }\n",
       "\n",
       "    .dataframe thead th {\n",
       "        text-align: right;\n",
       "    }\n",
       "</style>\n",
       "<table border=\"1\" class=\"dataframe\">\n",
       "  <thead>\n",
       "    <tr style=\"text-align: right;\">\n",
       "      <th></th>\n",
       "      <th>customer_id</th>\n",
       "      <th>age</th>\n",
       "      <th>month_sin</th>\n",
       "      <th>month_cos</th>\n",
       "      <th>article_id</th>\n",
       "      <th>label</th>\n",
       "      <th>product_type_name</th>\n",
       "      <th>product_group_name</th>\n",
       "      <th>graphical_appearance_name</th>\n",
       "      <th>colour_group_name</th>\n",
       "      <th>perceived_colour_value_name</th>\n",
       "      <th>perceived_colour_master_name</th>\n",
       "      <th>department_name</th>\n",
       "      <th>index_name</th>\n",
       "      <th>index_group_name</th>\n",
       "      <th>section_name</th>\n",
       "      <th>garment_group_name</th>\n",
       "    </tr>\n",
       "  </thead>\n",
       "  <tbody>\n",
       "    <tr>\n",
       "      <th>0</th>\n",
       "      <td>e2eb4cae50256f162513c51f2ac209dcaed12dab7cf168...</td>\n",
       "      <td>36.0</td>\n",
       "      <td>-1.0</td>\n",
       "      <td>-1.836970e-16</td>\n",
       "      <td>618839003</td>\n",
       "      <td>1</td>\n",
       "      <td>Sweater</td>\n",
       "      <td>Garment Upper body</td>\n",
       "      <td>Stripe</td>\n",
       "      <td>Dark Blue</td>\n",
       "      <td>Bright</td>\n",
       "      <td>Blue</td>\n",
       "      <td>Baby Girl Knitwear</td>\n",
       "      <td>Baby Sizes 50-98</td>\n",
       "      <td>Baby/Children</td>\n",
       "      <td>Baby Girl</td>\n",
       "      <td>Knitwear</td>\n",
       "    </tr>\n",
       "    <tr>\n",
       "      <th>1</th>\n",
       "      <td>977955d53827da368f4b903124bac0c2a72596c7191538...</td>\n",
       "      <td>25.0</td>\n",
       "      <td>-1.0</td>\n",
       "      <td>-1.836970e-16</td>\n",
       "      <td>618839003</td>\n",
       "      <td>1</td>\n",
       "      <td>Sweater</td>\n",
       "      <td>Garment Upper body</td>\n",
       "      <td>Stripe</td>\n",
       "      <td>Dark Blue</td>\n",
       "      <td>Bright</td>\n",
       "      <td>Blue</td>\n",
       "      <td>Baby Girl Knitwear</td>\n",
       "      <td>Baby Sizes 50-98</td>\n",
       "      <td>Baby/Children</td>\n",
       "      <td>Baby Girl</td>\n",
       "      <td>Knitwear</td>\n",
       "    </tr>\n",
       "    <tr>\n",
       "      <th>2</th>\n",
       "      <td>530cc2dd646023036d8c6ac15bc3ea7a519fafafdb7935...</td>\n",
       "      <td>37.0</td>\n",
       "      <td>-1.0</td>\n",
       "      <td>-1.836970e-16</td>\n",
       "      <td>618839003</td>\n",
       "      <td>1</td>\n",
       "      <td>Sweater</td>\n",
       "      <td>Garment Upper body</td>\n",
       "      <td>Stripe</td>\n",
       "      <td>Dark Blue</td>\n",
       "      <td>Bright</td>\n",
       "      <td>Blue</td>\n",
       "      <td>Baby Girl Knitwear</td>\n",
       "      <td>Baby Sizes 50-98</td>\n",
       "      <td>Baby/Children</td>\n",
       "      <td>Baby Girl</td>\n",
       "      <td>Knitwear</td>\n",
       "    </tr>\n",
       "    <tr>\n",
       "      <th>3</th>\n",
       "      <td>04a4edbfccba7339ce2eec1d67b08397614e35d2676daa...</td>\n",
       "      <td>33.0</td>\n",
       "      <td>-1.0</td>\n",
       "      <td>-1.836970e-16</td>\n",
       "      <td>618839003</td>\n",
       "      <td>1</td>\n",
       "      <td>Sweater</td>\n",
       "      <td>Garment Upper body</td>\n",
       "      <td>Stripe</td>\n",
       "      <td>Dark Blue</td>\n",
       "      <td>Bright</td>\n",
       "      <td>Blue</td>\n",
       "      <td>Baby Girl Knitwear</td>\n",
       "      <td>Baby Sizes 50-98</td>\n",
       "      <td>Baby/Children</td>\n",
       "      <td>Baby Girl</td>\n",
       "      <td>Knitwear</td>\n",
       "    </tr>\n",
       "    <tr>\n",
       "      <th>4</th>\n",
       "      <td>332a319e053d492852344637fd5f5debafc07e7faaa15e...</td>\n",
       "      <td>36.0</td>\n",
       "      <td>-1.0</td>\n",
       "      <td>-1.836970e-16</td>\n",
       "      <td>618839003</td>\n",
       "      <td>1</td>\n",
       "      <td>Sweater</td>\n",
       "      <td>Garment Upper body</td>\n",
       "      <td>Stripe</td>\n",
       "      <td>Dark Blue</td>\n",
       "      <td>Bright</td>\n",
       "      <td>Blue</td>\n",
       "      <td>Baby Girl Knitwear</td>\n",
       "      <td>Baby Sizes 50-98</td>\n",
       "      <td>Baby/Children</td>\n",
       "      <td>Baby Girl</td>\n",
       "      <td>Knitwear</td>\n",
       "    </tr>\n",
       "  </tbody>\n",
       "</table>\n",
       "</div>"
      ],
      "text/plain": [
       "                                         customer_id   age  month_sin  \\\n",
       "0  e2eb4cae50256f162513c51f2ac209dcaed12dab7cf168...  36.0       -1.0   \n",
       "1  977955d53827da368f4b903124bac0c2a72596c7191538...  25.0       -1.0   \n",
       "2  530cc2dd646023036d8c6ac15bc3ea7a519fafafdb7935...  37.0       -1.0   \n",
       "3  04a4edbfccba7339ce2eec1d67b08397614e35d2676daa...  33.0       -1.0   \n",
       "4  332a319e053d492852344637fd5f5debafc07e7faaa15e...  36.0       -1.0   \n",
       "\n",
       "      month_cos article_id  label product_type_name  product_group_name  \\\n",
       "0 -1.836970e-16  618839003      1           Sweater  Garment Upper body   \n",
       "1 -1.836970e-16  618839003      1           Sweater  Garment Upper body   \n",
       "2 -1.836970e-16  618839003      1           Sweater  Garment Upper body   \n",
       "3 -1.836970e-16  618839003      1           Sweater  Garment Upper body   \n",
       "4 -1.836970e-16  618839003      1           Sweater  Garment Upper body   \n",
       "\n",
       "  graphical_appearance_name colour_group_name perceived_colour_value_name  \\\n",
       "0                    Stripe         Dark Blue                      Bright   \n",
       "1                    Stripe         Dark Blue                      Bright   \n",
       "2                    Stripe         Dark Blue                      Bright   \n",
       "3                    Stripe         Dark Blue                      Bright   \n",
       "4                    Stripe         Dark Blue                      Bright   \n",
       "\n",
       "  perceived_colour_master_name     department_name        index_name  \\\n",
       "0                         Blue  Baby Girl Knitwear  Baby Sizes 50-98   \n",
       "1                         Blue  Baby Girl Knitwear  Baby Sizes 50-98   \n",
       "2                         Blue  Baby Girl Knitwear  Baby Sizes 50-98   \n",
       "3                         Blue  Baby Girl Knitwear  Baby Sizes 50-98   \n",
       "4                         Blue  Baby Girl Knitwear  Baby Sizes 50-98   \n",
       "\n",
       "  index_group_name section_name garment_group_name  \n",
       "0    Baby/Children    Baby Girl           Knitwear  \n",
       "1    Baby/Children    Baby Girl           Knitwear  \n",
       "2    Baby/Children    Baby Girl           Knitwear  \n",
       "3    Baby/Children    Baby Girl           Knitwear  \n",
       "4    Baby/Children    Baby Girl           Knitwear  "
      ]
     },
     "execution_count": 12,
     "metadata": {},
     "output_type": "execute_result"
    }
   ],
   "source": [
    "ranking_df.head()"
   ]
  },
  {
   "cell_type": "markdown",
   "id": "3ced438f-69c8-4561-bb3e-16bd608feedd",
   "metadata": {},
   "source": [
    "<div style=\"background-color: darkgreen ; color:white; padding:0px; font-size:15px\">\n",
    "Add Rankings Feature Group"
   ]
  },
  {
   "cell_type": "code",
   "execution_count": 13,
   "id": "f8fc06d6-b8f5-42b4-baff-304dc0920ff8",
   "metadata": {},
   "outputs": [
    {
     "data": {
      "application/vnd.jupyter.widget-view+json": {
       "model_id": "3dcb2db952e046ffa400a5b53d519323",
       "version_major": 2,
       "version_minor": 0
      },
      "text/plain": [
       "Uploading Dataframe: 0.00% |          | Rows 0/5966499 | Elapsed Time: 00:00 | Remaining Time: ?"
      ]
     },
     "metadata": {},
     "output_type": "display_data"
    },
    {
     "name": "stdout",
     "output_type": "stream",
     "text": [
      "Launching job: ranking_2_offline_fg_materialization\n",
      "Job started successfully, you can follow the progress at \n",
      "https://c.app.hopsworks.ai/p/475285/jobs/named/ranking_2_offline_fg_materialization/executions\n"
     ]
    },
    {
     "data": {
      "text/plain": [
       "(<hsfs.core.job.Job at 0x7f0112b26c50>, None)"
      ]
     },
     "execution_count": 13,
     "metadata": {},
     "output_type": "execute_result"
    }
   ],
   "source": [
    "rank_fg = fs.get_or_create_feature_group(\n",
    "    name=\"ranking\",\n",
    "    version=2,\n",
    "    description=\"Derived feature group for ranking\",\n",
    "    primary_key=[\"customer_id\", \"article_id\"], \n",
    "    parents=[articles_fg, customers_fg, trans_fg],\n",
    ")\n",
    "rank_fg.insert(ranking_df)"
   ]
  },
  {
   "cell_type": "code",
   "execution_count": 14,
   "id": "f27087bc-3762-4c03-a0fc-4f0564d90a94",
   "metadata": {},
   "outputs": [],
   "source": [
    "feature_descriptions = [\n",
    "    {\"name\": \"customer_id\", \"description\": \"Unique identifier for each customer.\"},\n",
    "    {\"name\": \"article_id\", \"description\": \"Identifier for the purchased article.\"},\n",
    "    {\"name\": \"age\", \"description\": \"Age of the customer.\"},\n",
    "    {\"name\": \"month_sin\", \"description\": \"Sine of the month used for seasonal patterns.\"},\n",
    "    {\"name\": \"month_cos\", \"description\": \"Cosine of the month used for seasonal patterns.\"},\n",
    "    {\"name\": \"product_type_name\", \"description\": \"Name of the product type.\"},\n",
    "    {\"name\": \"product_group_name\", \"description\": \"Name of the product group.\"},\n",
    "    {\"name\": \"graphical_appearance_name\", \"description\": \"Name of the graphical appearance.\"},\n",
    "    {\"name\": \"colour_group_name\", \"description\": \"Name of the colour group.\"},\n",
    "    {\"name\": \"perceived_colour_value_name\", \"description\": \"Name of the perceived colour value.\"},\n",
    "    {\"name\": \"perceived_colour_master_name\", \"description\": \"Name of the perceived colour master.\"},\n",
    "    {\"name\": \"department_name\", \"description\": \"Name of the department.\"},\n",
    "    {\"name\": \"index_name\", \"description\": \"Name of the index.\"},\n",
    "    {\"name\": \"index_group_name\", \"description\": \"Name of the index group.\"},\n",
    "    {\"name\": \"section_name\", \"description\": \"Name of the section.\"},\n",
    "    {\"name\": \"garment_group_name\", \"description\": \"Name of the garment group.\"},\n",
    "    {\"name\": \"label\", \"description\": \"Label indicating whether the article was purchased (1) or not (0).\"},\n",
    "]\n",
    "\n",
    "for desc in feature_descriptions: \n",
    "    rank_fg.update_feature_description(desc[\"name\"], desc[\"description\"])"
   ]
  }
 ],
 "metadata": {
  "kernelspec": {
   "display_name": "Python 3 (ipykernel)",
   "language": "python",
   "name": "python3"
  },
  "language_info": {
   "codemirror_mode": {
    "name": "ipython",
    "version": 3
   },
   "file_extension": ".py",
   "mimetype": "text/x-python",
   "name": "python",
   "nbconvert_exporter": "python",
   "pygments_lexer": "ipython3",
   "version": "3.10.13"
  }
 },
 "nbformat": 4,
 "nbformat_minor": 5
}
