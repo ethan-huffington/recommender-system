{
 "cells": [
  {
   "cell_type": "markdown",
   "id": "121ff089-1dd3-4d8f-8058-08494bf098f6",
   "metadata": {},
   "source": [
    "<div style=\"background-color:moccasin; color:black; padding:5px; font-size:20px\">\n",
    "Setup"
   ]
  },
  {
   "cell_type": "code",
   "execution_count": 1,
   "id": "60cfc4d9-89c5-4726-b0f8-cc82dd23f10e",
   "metadata": {
    "scrolled": true
   },
   "outputs": [
    {
     "name": "stdout",
     "output_type": "stream",
     "text": [
      "Collecting hopsworks\n",
      "  Using cached hopsworks-3.4.4-py3-none-any.whl\n",
      "Collecting hsfs<3.5.0,>=3.4.0 (from hsfs[python]<3.5.0,>=3.4.0->hopsworks)\n",
      "  Using cached hsfs-3.4.7-py3-none-any.whl\n",
      "Collecting hsml<3.5.0,>=3.4.0 (from hopsworks)\n",
      "  Using cached hsml-3.4.6-py3-none-any.whl\n",
      "Collecting pyhumps==1.6.1 (from hopsworks)\n",
      "  Using cached pyhumps-1.6.1-py3-none-any.whl.metadata (3.7 kB)\n",
      "Requirement already satisfied: requests in /opt/conda/lib/python3.10/site-packages (from hopsworks) (2.31.0)\n",
      "Collecting furl (from hopsworks)\n",
      "  Using cached furl-2.1.3-py2.py3-none-any.whl.metadata (1.2 kB)\n",
      "Requirement already satisfied: boto3 in /opt/conda/lib/python3.10/site-packages (from hopsworks) (1.28.64)\n",
      "Collecting pyjks (from hopsworks)\n",
      "  Using cached pyjks-20.0.0-py2.py3-none-any.whl.metadata (1.7 kB)\n",
      "Requirement already satisfied: mock in /opt/conda/lib/python3.10/site-packages (from hopsworks) (5.1.0)\n",
      "Requirement already satisfied: tqdm in /opt/conda/lib/python3.10/site-packages (from hopsworks) (4.66.1)\n",
      "Requirement already satisfied: pandas<2.2.0 in /opt/conda/lib/python3.10/site-packages (from hsfs<3.5.0,>=3.4.0->hsfs[python]<3.5.0,>=3.4.0->hopsworks) (2.1.4)\n",
      "Requirement already satisfied: numpy<2 in /opt/conda/lib/python3.10/site-packages (from hsfs<3.5.0,>=3.4.0->hsfs[python]<3.5.0,>=3.4.0->hopsworks) (1.26.3)\n",
      "Collecting avro==1.11.0 (from hsfs<3.5.0,>=3.4.0->hsfs[python]<3.5.0,>=3.4.0->hopsworks)\n",
      "  Using cached avro-1.11.0-py2.py3-none-any.whl\n",
      "Requirement already satisfied: sqlalchemy in /opt/conda/lib/python3.10/site-packages (from hsfs<3.5.0,>=3.4.0->hsfs[python]<3.5.0,>=3.4.0->hopsworks) (1.4.49)\n",
      "Collecting PyMySQL[rsa] (from hsfs<3.5.0,>=3.4.0->hsfs[python]<3.5.0,>=3.4.0->hopsworks)\n",
      "  Using cached PyMySQL-1.1.0-py3-none-any.whl.metadata (4.4 kB)\n",
      "Collecting great-expectations==0.14.13 (from hsfs<3.5.0,>=3.4.0->hsfs[python]<3.5.0,>=3.4.0->hopsworks)\n",
      "  Using cached great_expectations-0.14.13-py3-none-any.whl.metadata (4.7 kB)\n",
      "Collecting markupsafe<2.1.0 (from hsfs<3.5.0,>=3.4.0->hsfs[python]<3.5.0,>=3.4.0->hopsworks)\n",
      "  Using cached MarkupSafe-2.0.1-cp310-cp310-manylinux_2_5_x86_64.manylinux1_x86_64.manylinux_2_12_x86_64.manylinux2010_x86_64.whl.metadata (3.2 kB)\n",
      "Collecting tzlocal (from hsfs<3.5.0,>=3.4.0->hsfs[python]<3.5.0,>=3.4.0->hopsworks)\n",
      "  Using cached tzlocal-5.2-py3-none-any.whl.metadata (7.8 kB)\n",
      "Requirement already satisfied: fsspec in /opt/conda/lib/python3.10/site-packages (from hsfs<3.5.0,>=3.4.0->hsfs[python]<3.5.0,>=3.4.0->hopsworks) (2023.6.0)\n",
      "Collecting altair<5,>=4.0.0 (from great-expectations==0.14.13->hsfs<3.5.0,>=3.4.0->hsfs[python]<3.5.0,>=3.4.0->hopsworks)\n",
      "  Using cached altair-4.2.2-py3-none-any.whl.metadata (13 kB)\n",
      "Requirement already satisfied: Click>=7.1.2 in /opt/conda/lib/python3.10/site-packages (from great-expectations==0.14.13->hsfs<3.5.0,>=3.4.0->hsfs[python]<3.5.0,>=3.4.0->hopsworks) (8.1.7)\n",
      "Requirement already satisfied: colorama>=0.4.3 in /opt/conda/lib/python3.10/site-packages (from great-expectations==0.14.13->hsfs<3.5.0,>=3.4.0->hsfs[python]<3.5.0,>=3.4.0->hopsworks) (0.4.6)\n",
      "Requirement already satisfied: cryptography>=3.2 in /opt/conda/lib/python3.10/site-packages (from great-expectations==0.14.13->hsfs<3.5.0,>=3.4.0->hsfs[python]<3.5.0,>=3.4.0->hopsworks) (42.0.2)\n",
      "Requirement already satisfied: dataclasses in /opt/conda/lib/python3.10/site-packages (from great-expectations==0.14.13->hsfs<3.5.0,>=3.4.0->hsfs[python]<3.5.0,>=3.4.0->hopsworks) (0.8)\n",
      "Requirement already satisfied: importlib-metadata>=1.7.0 in /opt/conda/lib/python3.10/site-packages (from great-expectations==0.14.13->hsfs<3.5.0,>=3.4.0->hsfs[python]<3.5.0,>=3.4.0->hopsworks) (6.10.0)\n",
      "Requirement already satisfied: Ipython>=7.16.3 in /opt/conda/lib/python3.10/site-packages (from great-expectations==0.14.13->hsfs<3.5.0,>=3.4.0->hsfs[python]<3.5.0,>=3.4.0->hopsworks) (8.20.0)\n",
      "Collecting jinja2<3.1.0,>=2.10 (from great-expectations==0.14.13->hsfs<3.5.0,>=3.4.0->hsfs[python]<3.5.0,>=3.4.0->hopsworks)\n",
      "  Using cached Jinja2-3.0.3-py3-none-any.whl.metadata (3.5 kB)\n",
      "Requirement already satisfied: jsonpatch>=1.22 in /opt/conda/lib/python3.10/site-packages (from great-expectations==0.14.13->hsfs<3.5.0,>=3.4.0->hsfs[python]<3.5.0,>=3.4.0->hopsworks) (1.33)\n",
      "Requirement already satisfied: jsonschema>=2.5.1 in /opt/conda/lib/python3.10/site-packages (from great-expectations==0.14.13->hsfs<3.5.0,>=3.4.0->hsfs[python]<3.5.0,>=3.4.0->hopsworks) (4.17.3)\n",
      "Requirement already satisfied: mistune>=0.8.4 in /opt/conda/lib/python3.10/site-packages (from great-expectations==0.14.13->hsfs<3.5.0,>=3.4.0->hsfs[python]<3.5.0,>=3.4.0->hopsworks) (3.0.2)\n",
      "Requirement already satisfied: nbformat>=5.0 in /opt/conda/lib/python3.10/site-packages (from great-expectations==0.14.13->hsfs<3.5.0,>=3.4.0->hsfs[python]<3.5.0,>=3.4.0->hopsworks) (5.9.2)\n",
      "Requirement already satisfied: packaging in /opt/conda/lib/python3.10/site-packages (from great-expectations==0.14.13->hsfs<3.5.0,>=3.4.0->hsfs[python]<3.5.0,>=3.4.0->hopsworks) (23.2)\n",
      "Collecting pyparsing<3,>=2.4 (from great-expectations==0.14.13->hsfs<3.5.0,>=3.4.0->hsfs[python]<3.5.0,>=3.4.0->hopsworks)\n",
      "  Using cached pyparsing-2.4.7-py2.py3-none-any.whl.metadata (3.6 kB)\n",
      "Requirement already satisfied: python-dateutil>=2.8.1 in /opt/conda/lib/python3.10/site-packages (from great-expectations==0.14.13->hsfs<3.5.0,>=3.4.0->hsfs[python]<3.5.0,>=3.4.0->hopsworks) (2.8.2)\n",
      "Requirement already satisfied: pytz>=2021.3 in /opt/conda/lib/python3.10/site-packages (from great-expectations==0.14.13->hsfs<3.5.0,>=3.4.0->hsfs[python]<3.5.0,>=3.4.0->hopsworks) (2023.3)\n",
      "Collecting ruamel.yaml<0.17.18,>=0.16 (from great-expectations==0.14.13->hsfs<3.5.0,>=3.4.0->hsfs[python]<3.5.0,>=3.4.0->hopsworks)\n",
      "  Using cached ruamel.yaml-0.17.17-py3-none-any.whl.metadata (12 kB)\n",
      "Requirement already satisfied: scipy>=0.19.0 in /opt/conda/lib/python3.10/site-packages (from great-expectations==0.14.13->hsfs<3.5.0,>=3.4.0->hsfs[python]<3.5.0,>=3.4.0->hopsworks) (1.11.4)\n",
      "Requirement already satisfied: termcolor>=1.1.0 in /opt/conda/lib/python3.10/site-packages (from great-expectations==0.14.13->hsfs<3.5.0,>=3.4.0->hsfs[python]<3.5.0,>=3.4.0->hopsworks) (2.4.0)\n",
      "Requirement already satisfied: typing-extensions>=3.10.0.0 in /opt/conda/lib/python3.10/site-packages (from great-expectations==0.14.13->hsfs<3.5.0,>=3.4.0->hsfs[python]<3.5.0,>=3.4.0->hopsworks) (4.5.0)\n",
      "Requirement already satisfied: urllib3<1.27,>=1.25.4 in /opt/conda/lib/python3.10/site-packages (from great-expectations==0.14.13->hsfs<3.5.0,>=3.4.0->hsfs[python]<3.5.0,>=3.4.0->hopsworks) (1.26.18)\n",
      "Collecting pyhopshive[thrift] (from hsfs[python]<3.5.0,>=3.4.0->hopsworks)\n",
      "  Using cached PyHopsHive-0.6.4.1.dev0-py3-none-any.whl\n",
      "Requirement already satisfied: pyarrow>=10.0 in /opt/conda/lib/python3.10/site-packages (from hsfs[python]<3.5.0,>=3.4.0->hopsworks) (12.0.1)\n",
      "Collecting confluent-kafka<=2.3.0 (from hsfs[python]<3.5.0,>=3.4.0->hopsworks)\n",
      "  Using cached confluent_kafka-2.3.0-cp310-cp310-manylinux_2_17_x86_64.manylinux2014_x86_64.whl.metadata (2.3 kB)\n",
      "Collecting fastavro<=1.8.2,>=1.4.11 (from hsfs[python]<3.5.0,>=3.4.0->hopsworks)\n",
      "  Using cached fastavro-1.8.2-cp310-cp310-manylinux_2_17_x86_64.manylinux2014_x86_64.whl.metadata (5.5 kB)\n",
      "Requirement already satisfied: charset-normalizer<4,>=2 in /opt/conda/lib/python3.10/site-packages (from requests->hopsworks) (3.3.2)\n",
      "Requirement already satisfied: idna<4,>=2.5 in /opt/conda/lib/python3.10/site-packages (from requests->hopsworks) (3.6)\n",
      "Requirement already satisfied: certifi>=2017.4.17 in /opt/conda/lib/python3.10/site-packages (from requests->hopsworks) (2023.11.17)\n",
      "Requirement already satisfied: botocore<1.32.0,>=1.31.64 in /opt/conda/lib/python3.10/site-packages (from boto3->hopsworks) (1.31.64)\n",
      "Requirement already satisfied: jmespath<2.0.0,>=0.7.1 in /opt/conda/lib/python3.10/site-packages (from boto3->hopsworks) (1.0.1)\n",
      "Requirement already satisfied: s3transfer<0.8.0,>=0.7.0 in /opt/conda/lib/python3.10/site-packages (from boto3->hopsworks) (0.7.0)\n",
      "Requirement already satisfied: six>=1.8.0 in /opt/conda/lib/python3.10/site-packages (from furl->hopsworks) (1.16.0)\n",
      "Collecting orderedmultidict>=1.0.1 (from furl->hopsworks)\n",
      "  Downloading orderedmultidict-1.0.1-py2.py3-none-any.whl.metadata (1.3 kB)\n",
      "Collecting javaobj-py3 (from pyjks->hopsworks)\n",
      "  Using cached javaobj_py3-0.4.3-py2.py3-none-any.whl.metadata (17 kB)\n",
      "Requirement already satisfied: pyasn1>=0.3.5 in /opt/conda/lib/python3.10/site-packages (from pyjks->hopsworks) (0.5.1)\n",
      "Requirement already satisfied: pyasn1-modules in /opt/conda/lib/python3.10/site-packages (from pyjks->hopsworks) (0.3.0)\n",
      "Collecting pycryptodomex (from pyjks->hopsworks)\n",
      "  Using cached pycryptodomex-3.20.0-cp35-abi3-manylinux_2_17_x86_64.manylinux2014_x86_64.whl.metadata (3.4 kB)\n",
      "Collecting twofish (from pyjks->hopsworks)\n",
      "  Using cached twofish-0.3.0-cp310-cp310-linux_x86_64.whl\n",
      "Requirement already satisfied: tzdata>=2022.1 in /opt/conda/lib/python3.10/site-packages (from pandas<2.2.0->hsfs<3.5.0,>=3.4.0->hsfs[python]<3.5.0,>=3.4.0->hopsworks) (2023.4)\n",
      "Requirement already satisfied: future in /opt/conda/lib/python3.10/site-packages (from pyhopshive[thrift]; extra == \"python\"->hsfs[python]<3.5.0,>=3.4.0->hopsworks) (0.18.3)\n",
      "Requirement already satisfied: thrift>=0.10.0 in /opt/conda/lib/python3.10/site-packages (from pyhopshive[thrift]; extra == \"python\"->hsfs[python]<3.5.0,>=3.4.0->hopsworks) (0.19.0)\n",
      "Requirement already satisfied: greenlet!=0.4.17 in /opt/conda/lib/python3.10/site-packages (from sqlalchemy->hsfs<3.5.0,>=3.4.0->hsfs[python]<3.5.0,>=3.4.0->hopsworks) (3.0.1)\n",
      "Requirement already satisfied: entrypoints in /opt/conda/lib/python3.10/site-packages (from altair<5,>=4.0.0->great-expectations==0.14.13->hsfs<3.5.0,>=3.4.0->hsfs[python]<3.5.0,>=3.4.0->hopsworks) (0.4)\n",
      "Requirement already satisfied: toolz in /opt/conda/lib/python3.10/site-packages (from altair<5,>=4.0.0->great-expectations==0.14.13->hsfs<3.5.0,>=3.4.0->hsfs[python]<3.5.0,>=3.4.0->hopsworks) (0.12.1)\n",
      "Requirement already satisfied: cffi>=1.12 in /opt/conda/lib/python3.10/site-packages (from cryptography>=3.2->great-expectations==0.14.13->hsfs<3.5.0,>=3.4.0->hsfs[python]<3.5.0,>=3.4.0->hopsworks) (1.16.0)\n",
      "Requirement already satisfied: zipp>=0.5 in /opt/conda/lib/python3.10/site-packages (from importlib-metadata>=1.7.0->great-expectations==0.14.13->hsfs<3.5.0,>=3.4.0->hsfs[python]<3.5.0,>=3.4.0->hopsworks) (3.17.0)\n",
      "Requirement already satisfied: decorator in /opt/conda/lib/python3.10/site-packages (from Ipython>=7.16.3->great-expectations==0.14.13->hsfs<3.5.0,>=3.4.0->hsfs[python]<3.5.0,>=3.4.0->hopsworks) (5.1.1)\n",
      "Requirement already satisfied: jedi>=0.16 in /opt/conda/lib/python3.10/site-packages (from Ipython>=7.16.3->great-expectations==0.14.13->hsfs<3.5.0,>=3.4.0->hsfs[python]<3.5.0,>=3.4.0->hopsworks) (0.19.1)\n",
      "Requirement already satisfied: matplotlib-inline in /opt/conda/lib/python3.10/site-packages (from Ipython>=7.16.3->great-expectations==0.14.13->hsfs<3.5.0,>=3.4.0->hsfs[python]<3.5.0,>=3.4.0->hopsworks) (0.1.6)\n",
      "Requirement already satisfied: prompt-toolkit<3.1.0,>=3.0.41 in /opt/conda/lib/python3.10/site-packages (from Ipython>=7.16.3->great-expectations==0.14.13->hsfs<3.5.0,>=3.4.0->hsfs[python]<3.5.0,>=3.4.0->hopsworks) (3.0.42)\n",
      "Requirement already satisfied: pygments>=2.4.0 in /opt/conda/lib/python3.10/site-packages (from Ipython>=7.16.3->great-expectations==0.14.13->hsfs<3.5.0,>=3.4.0->hsfs[python]<3.5.0,>=3.4.0->hopsworks) (2.17.2)\n",
      "Requirement already satisfied: stack-data in /opt/conda/lib/python3.10/site-packages (from Ipython>=7.16.3->great-expectations==0.14.13->hsfs<3.5.0,>=3.4.0->hsfs[python]<3.5.0,>=3.4.0->hopsworks) (0.6.2)\n",
      "Requirement already satisfied: traitlets>=5 in /opt/conda/lib/python3.10/site-packages (from Ipython>=7.16.3->great-expectations==0.14.13->hsfs<3.5.0,>=3.4.0->hsfs[python]<3.5.0,>=3.4.0->hopsworks) (5.14.1)\n",
      "Requirement already satisfied: exceptiongroup in /opt/conda/lib/python3.10/site-packages (from Ipython>=7.16.3->great-expectations==0.14.13->hsfs<3.5.0,>=3.4.0->hsfs[python]<3.5.0,>=3.4.0->hopsworks) (1.2.0)\n",
      "Requirement already satisfied: pexpect>4.3 in /opt/conda/lib/python3.10/site-packages (from Ipython>=7.16.3->great-expectations==0.14.13->hsfs<3.5.0,>=3.4.0->hsfs[python]<3.5.0,>=3.4.0->hopsworks) (4.9.0)\n",
      "Requirement already satisfied: jsonpointer>=1.9 in /opt/conda/lib/python3.10/site-packages (from jsonpatch>=1.22->great-expectations==0.14.13->hsfs<3.5.0,>=3.4.0->hsfs[python]<3.5.0,>=3.4.0->hopsworks) (2.4)\n",
      "Requirement already satisfied: attrs>=17.4.0 in /opt/conda/lib/python3.10/site-packages (from jsonschema>=2.5.1->great-expectations==0.14.13->hsfs<3.5.0,>=3.4.0->hsfs[python]<3.5.0,>=3.4.0->hopsworks) (23.2.0)\n",
      "Requirement already satisfied: pyrsistent!=0.17.0,!=0.17.1,!=0.17.2,>=0.14.0 in /opt/conda/lib/python3.10/site-packages (from jsonschema>=2.5.1->great-expectations==0.14.13->hsfs<3.5.0,>=3.4.0->hsfs[python]<3.5.0,>=3.4.0->hopsworks) (0.20.0)\n",
      "Requirement already satisfied: fastjsonschema in /opt/conda/lib/python3.10/site-packages (from nbformat>=5.0->great-expectations==0.14.13->hsfs<3.5.0,>=3.4.0->hsfs[python]<3.5.0,>=3.4.0->hopsworks) (2.19.1)\n",
      "Requirement already satisfied: jupyter-core in /opt/conda/lib/python3.10/site-packages (from nbformat>=5.0->great-expectations==0.14.13->hsfs<3.5.0,>=3.4.0->hsfs[python]<3.5.0,>=3.4.0->hopsworks) (5.7.1)\n",
      "Requirement already satisfied: pycparser in /opt/conda/lib/python3.10/site-packages (from cffi>=1.12->cryptography>=3.2->great-expectations==0.14.13->hsfs<3.5.0,>=3.4.0->hsfs[python]<3.5.0,>=3.4.0->hopsworks) (2.21)\n",
      "Requirement already satisfied: parso<0.9.0,>=0.8.3 in /opt/conda/lib/python3.10/site-packages (from jedi>=0.16->Ipython>=7.16.3->great-expectations==0.14.13->hsfs<3.5.0,>=3.4.0->hsfs[python]<3.5.0,>=3.4.0->hopsworks) (0.8.3)\n",
      "Requirement already satisfied: ptyprocess>=0.5 in /opt/conda/lib/python3.10/site-packages (from pexpect>4.3->Ipython>=7.16.3->great-expectations==0.14.13->hsfs<3.5.0,>=3.4.0->hsfs[python]<3.5.0,>=3.4.0->hopsworks) (0.7.0)\n",
      "Requirement already satisfied: wcwidth in /opt/conda/lib/python3.10/site-packages (from prompt-toolkit<3.1.0,>=3.0.41->Ipython>=7.16.3->great-expectations==0.14.13->hsfs<3.5.0,>=3.4.0->hsfs[python]<3.5.0,>=3.4.0->hopsworks) (0.2.13)\n",
      "Requirement already satisfied: platformdirs>=2.5 in /opt/conda/lib/python3.10/site-packages (from jupyter-core->nbformat>=5.0->great-expectations==0.14.13->hsfs<3.5.0,>=3.4.0->hsfs[python]<3.5.0,>=3.4.0->hopsworks) (4.2.0)\n",
      "Requirement already satisfied: executing>=1.2.0 in /opt/conda/lib/python3.10/site-packages (from stack-data->Ipython>=7.16.3->great-expectations==0.14.13->hsfs<3.5.0,>=3.4.0->hsfs[python]<3.5.0,>=3.4.0->hopsworks) (2.0.1)\n",
      "Requirement already satisfied: asttokens>=2.1.0 in /opt/conda/lib/python3.10/site-packages (from stack-data->Ipython>=7.16.3->great-expectations==0.14.13->hsfs<3.5.0,>=3.4.0->hsfs[python]<3.5.0,>=3.4.0->hopsworks) (2.4.1)\n",
      "Requirement already satisfied: pure-eval in /opt/conda/lib/python3.10/site-packages (from stack-data->Ipython>=7.16.3->great-expectations==0.14.13->hsfs<3.5.0,>=3.4.0->hsfs[python]<3.5.0,>=3.4.0->hopsworks) (0.2.2)\n",
      "Using cached pyhumps-1.6.1-py3-none-any.whl (5.0 kB)\n",
      "Using cached great_expectations-0.14.13-py3-none-any.whl (5.0 MB)\n",
      "Using cached furl-2.1.3-py2.py3-none-any.whl (20 kB)\n",
      "Using cached pyjks-20.0.0-py2.py3-none-any.whl (45 kB)\n",
      "Using cached confluent_kafka-2.3.0-cp310-cp310-manylinux_2_17_x86_64.manylinux2014_x86_64.whl (4.0 MB)\n",
      "Using cached fastavro-1.8.2-cp310-cp310-manylinux_2_17_x86_64.manylinux2014_x86_64.whl (2.7 MB)\n",
      "Using cached MarkupSafe-2.0.1-cp310-cp310-manylinux_2_5_x86_64.manylinux1_x86_64.manylinux_2_12_x86_64.manylinux2010_x86_64.whl (30 kB)\n",
      "Using cached orderedmultidict-1.0.1-py2.py3-none-any.whl (11 kB)\n",
      "Using cached tzlocal-5.2-py3-none-any.whl (17 kB)\n",
      "Using cached javaobj_py3-0.4.3-py2.py3-none-any.whl (57 kB)\n",
      "Using cached pycryptodomex-3.20.0-cp35-abi3-manylinux_2_17_x86_64.manylinux2014_x86_64.whl (2.1 MB)\n",
      "Using cached altair-4.2.2-py3-none-any.whl (813 kB)\n",
      "Using cached Jinja2-3.0.3-py3-none-any.whl (133 kB)\n",
      "Using cached pyparsing-2.4.7-py2.py3-none-any.whl (67 kB)\n",
      "Using cached ruamel.yaml-0.17.17-py3-none-any.whl (109 kB)\n",
      "Using cached PyMySQL-1.1.0-py3-none-any.whl (44 kB)\n",
      "Installing collected packages: twofish, pyhumps, javaobj-py3, confluent-kafka, tzlocal, ruamel.yaml, pyparsing, PyMySQL, pycryptodomex, orderedmultidict, markupsafe, fastavro, avro, pyjks, jinja2, furl, pyhopshive, altair, great-expectations, hsml, hsfs, hopsworks\n",
      "  Attempting uninstall: ruamel.yaml\n",
      "    Found existing installation: ruamel.yaml 0.18.5\n",
      "    Uninstalling ruamel.yaml-0.18.5:\n",
      "      Successfully uninstalled ruamel.yaml-0.18.5\n",
      "  Attempting uninstall: pyparsing\n",
      "    Found existing installation: pyparsing 3.1.1\n",
      "    Uninstalling pyparsing-3.1.1:\n",
      "      Successfully uninstalled pyparsing-3.1.1\n",
      "  Attempting uninstall: markupsafe\n",
      "    Found existing installation: MarkupSafe 2.1.4\n",
      "    Uninstalling MarkupSafe-2.1.4:\n",
      "      Successfully uninstalled MarkupSafe-2.1.4\n",
      "  Attempting uninstall: jinja2\n",
      "    Found existing installation: Jinja2 3.1.3\n",
      "    Uninstalling Jinja2-3.1.3:\n",
      "      Successfully uninstalled Jinja2-3.1.3\n",
      "  Attempting uninstall: altair\n",
      "    Found existing installation: altair 5.2.0\n",
      "    Uninstalling altair-5.2.0:\n",
      "      Successfully uninstalled altair-5.2.0\n",
      "\u001b[31mERROR: pip's dependency resolver does not currently take into account all the packages that are installed. This behaviour is the source of the following dependency conflicts.\n",
      "flask 3.0.1 requires Jinja2>=3.1.2, but you have jinja2 3.0.3 which is incompatible.\n",
      "sparkmagic 0.21.0 requires pandas<2.0.0,>=0.17.1, but you have pandas 2.1.4 which is incompatible.\n",
      "werkzeug 3.0.1 requires MarkupSafe>=2.1.1, but you have markupsafe 2.0.1 which is incompatible.\u001b[0m\u001b[31m\n",
      "\u001b[0mSuccessfully installed PyMySQL-1.1.0 altair-4.2.2 avro-1.11.0 confluent-kafka-2.3.0 fastavro-1.8.2 furl-2.1.3 great-expectations-0.14.13 hopsworks-3.4.4 hsfs-3.4.7 hsml-3.4.6 javaobj-py3-0.4.3 jinja2-3.0.3 markupsafe-2.0.1 orderedmultidict-1.0.1 pycryptodomex-3.20.0 pyhopshive-0.6.4.1.dev0 pyhumps-1.6.1 pyjks-20.0.0 pyparsing-2.4.7 ruamel.yaml-0.17.17 twofish-0.3.0 tzlocal-5.2\n"
     ]
    }
   ],
   "source": [
    "!pip install hopsworks"
   ]
  },
  {
   "cell_type": "code",
   "execution_count": null,
   "id": "34f2a2fe-3baa-47fb-8147-64740f6a4bcd",
   "metadata": {
    "collapsed": true,
    "jupyter": {
     "outputs_hidden": true
    }
   },
   "outputs": [],
   "source": [
    "!pip install catboost==1.1.1"
   ]
  },
  {
   "cell_type": "markdown",
   "id": "d8cf674d-221a-4f01-b1b7-6018bb60aad8",
   "metadata": {},
   "source": [
    "<div style=\"background-color:teal; color:white; padding:5px; font-size:20px\">\n",
    "Imports"
   ]
  },
  {
   "cell_type": "code",
   "execution_count": 2,
   "id": "371d0625-1fee-45d5-9994-597f929a3e5d",
   "metadata": {},
   "outputs": [],
   "source": [
    "import pandas as pd\n",
    "from catboost import CatBoostClassifier, Pool\n",
    "from sklearn.metrics import classification_report, precision_recall_fscore_support\n",
    "import joblib\n",
    "from catboost import CatBoostClassifier, Pool\n",
    "\n",
    "import importlib\n",
    "import sys\n",
    "sys.path.append('./scripts')"
   ]
  },
  {
   "cell_type": "code",
   "execution_count": 3,
   "id": "3caddab8-3066-4a20-908d-70b4160bcd16",
   "metadata": {},
   "outputs": [],
   "source": [
    "import boto3\n",
    "\n",
    "# Initialize a client for Systems Manager\n",
    "ssm = boto3.client('ssm', region_name='us-east-1')\n",
    "\n",
    "parameter_name = 'hopsworks-api-key'\n",
    "\n",
    "# Fetch the parameter\n",
    "response = ssm.get_parameter(Name=parameter_name, WithDecryption=True)\n",
    "\n",
    "# Extract the parameter value (API key in this case)\n",
    "hopsworks_api_key = response['Parameter']['Value']"
   ]
  },
  {
   "cell_type": "markdown",
   "id": "2318451f-156a-480b-b436-a1912801e8b5",
   "metadata": {},
   "source": [
    "<div style=\"background-color:moccasin; color:black; padding:5px; font-size:20px\">\n",
    "Hopsworks Feature Store Connection"
   ]
  },
  {
   "cell_type": "code",
   "execution_count": 5,
   "id": "c1f95755-76f8-42ea-bd5c-1cdb6840b064",
   "metadata": {
    "scrolled": true
   },
   "outputs": [
    {
     "name": "stdout",
     "output_type": "stream",
     "text": [
      "Connected. Call `.close()` to terminate connection gracefully.\n",
      "\n",
      "Logged in to project, explore it here https://c.app.hopsworks.ai:443/p/475285\n",
      "Connected. Call `.close()` to terminate connection gracefully.\n"
     ]
    }
   ],
   "source": [
    "import hopsworks\n",
    "\n",
    "project = hopsworks.login()\n",
    "\n",
    "fs = project.get_feature_store()"
   ]
  },
  {
   "cell_type": "markdown",
   "id": "c1abf562-7623-42a0-a1f3-b1b013e0b63a",
   "metadata": {},
   "source": [
    "<div style=\"background-color:moccasin; color:black; padding:5px; font-size:20px\">\n",
    "Data Import"
   ]
  },
  {
   "cell_type": "code",
   "execution_count": 6,
   "id": "d6f8981c-3250-489f-b94f-8a326908830c",
   "metadata": {},
   "outputs": [],
   "source": [
    "# Fetch Feature Groups\n",
    "\n",
    "customers_fg = fs.get_feature_group(name=\"customers\", version=1)\n",
    "\n",
    "articles_fg = fs.get_feature_group(name=\"articles\", version=1)\n",
    "\n",
    "trans_fg = fs.get_feature_group(name=\"transactions\", version=1)\n",
    "\n",
    "rank_fg = fs.get_feature_group(name=\"ranking\", version=2)"
   ]
  },
  {
   "cell_type": "code",
   "execution_count": 7,
   "id": "b3679b6d-e950-4a3a-bc73-e77bf3e9027e",
   "metadata": {},
   "outputs": [],
   "source": [
    "'''Create Feature Views'''\n",
    "\n",
    "# Customers\n",
    "selected_features_customers = customers_fg.select_all()\n",
    "\n",
    "fs.get_or_create_feature_view( \n",
    "    name='customers',\n",
    "    query=selected_features_customers,\n",
    "    version=1,\n",
    ")\n",
    "\n",
    "# Articles\n",
    "selected_features_articles = articles_fg.select_all()\n",
    "\n",
    "fs.get_or_create_feature_view(\n",
    "    name='articles',\n",
    "    query=selected_features_articles,\n",
    "    version=1,\n",
    ")\n",
    "\n",
    "# Ranking\n",
    "selected_features_ranking = rank_fg.select_except([\"customer_id\", \"article_id\"])\n",
    "\n",
    "feature_view_ranking = fs.get_or_create_feature_view(\n",
    "    name='ranking',\n",
    "    query=selected_features_ranking,\n",
    "    labels=[\"label\"],\n",
    "    version=2,\n",
    ")"
   ]
  },
  {
   "cell_type": "markdown",
   "id": "8cc82cdf-9de6-4e6c-90f2-4f498d881ffa",
   "metadata": {},
   "source": [
    "<div style=\"background-color:moccasin; color:black; padding:5px; font-size:20px\">\n",
    "Training Data"
   ]
  },
  {
   "cell_type": "code",
   "execution_count": 8,
   "id": "050adbd5-2783-473e-954d-6fe71d84b1a7",
   "metadata": {},
   "outputs": [
    {
     "name": "stdout",
     "output_type": "stream",
     "text": [
      "Finished: Reading data from Hopsworks, using ArrowFlight (117.54s) \n"
     ]
    },
    {
     "name": "stderr",
     "output_type": "stream",
     "text": [
      "VersionWarning: Incremented version to `4`.\n"
     ]
    },
    {
     "data": {
      "text/html": [
       "<div>\n",
       "<style scoped>\n",
       "    .dataframe tbody tr th:only-of-type {\n",
       "        vertical-align: middle;\n",
       "    }\n",
       "\n",
       "    .dataframe tbody tr th {\n",
       "        vertical-align: top;\n",
       "    }\n",
       "\n",
       "    .dataframe thead th {\n",
       "        text-align: right;\n",
       "    }\n",
       "</style>\n",
       "<table border=\"1\" class=\"dataframe\">\n",
       "  <thead>\n",
       "    <tr style=\"text-align: right;\">\n",
       "      <th></th>\n",
       "      <th>age</th>\n",
       "      <th>month_sin</th>\n",
       "      <th>month_cos</th>\n",
       "      <th>product_type_name</th>\n",
       "      <th>product_group_name</th>\n",
       "      <th>graphical_appearance_name</th>\n",
       "      <th>colour_group_name</th>\n",
       "      <th>perceived_colour_value_name</th>\n",
       "      <th>perceived_colour_master_name</th>\n",
       "      <th>department_name</th>\n",
       "      <th>index_name</th>\n",
       "      <th>index_group_name</th>\n",
       "      <th>section_name</th>\n",
       "      <th>garment_group_name</th>\n",
       "    </tr>\n",
       "  </thead>\n",
       "  <tbody>\n",
       "    <tr>\n",
       "      <th>0</th>\n",
       "      <td>27.0</td>\n",
       "      <td>-1.0</td>\n",
       "      <td>-1.836970e-16</td>\n",
       "      <td>Boots</td>\n",
       "      <td>Shoes</td>\n",
       "      <td>Solid</td>\n",
       "      <td>Black</td>\n",
       "      <td>Dark</td>\n",
       "      <td>Black</td>\n",
       "      <td>Divided Shoes</td>\n",
       "      <td>Divided</td>\n",
       "      <td>Divided</td>\n",
       "      <td>Divided Accessories</td>\n",
       "      <td>Shoes</td>\n",
       "    </tr>\n",
       "    <tr>\n",
       "      <th>2</th>\n",
       "      <td>22.0</td>\n",
       "      <td>-1.0</td>\n",
       "      <td>-1.836970e-16</td>\n",
       "      <td>Vest top</td>\n",
       "      <td>Garment Upper body</td>\n",
       "      <td>Solid</td>\n",
       "      <td>Black</td>\n",
       "      <td>Dark</td>\n",
       "      <td>Black</td>\n",
       "      <td>Jersey Fancy DS</td>\n",
       "      <td>Divided</td>\n",
       "      <td>Divided</td>\n",
       "      <td>Divided Selected</td>\n",
       "      <td>Jersey Fancy</td>\n",
       "    </tr>\n",
       "    <tr>\n",
       "      <th>4</th>\n",
       "      <td>36.0</td>\n",
       "      <td>-1.0</td>\n",
       "      <td>-1.836970e-16</td>\n",
       "      <td>Sweater</td>\n",
       "      <td>Garment Upper body</td>\n",
       "      <td>Solid</td>\n",
       "      <td>Black</td>\n",
       "      <td>Dark</td>\n",
       "      <td>Black</td>\n",
       "      <td>Knitwear</td>\n",
       "      <td>Ladieswear</td>\n",
       "      <td>Ladieswear</td>\n",
       "      <td>Womens Tailoring</td>\n",
       "      <td>Knitwear</td>\n",
       "    </tr>\n",
       "  </tbody>\n",
       "</table>\n",
       "</div>"
      ],
      "text/plain": [
       "    age  month_sin     month_cos product_type_name  product_group_name  \\\n",
       "0  27.0       -1.0 -1.836970e-16             Boots               Shoes   \n",
       "2  22.0       -1.0 -1.836970e-16          Vest top  Garment Upper body   \n",
       "4  36.0       -1.0 -1.836970e-16           Sweater  Garment Upper body   \n",
       "\n",
       "  graphical_appearance_name colour_group_name perceived_colour_value_name  \\\n",
       "0                     Solid             Black                        Dark   \n",
       "2                     Solid             Black                        Dark   \n",
       "4                     Solid             Black                        Dark   \n",
       "\n",
       "  perceived_colour_master_name  department_name  index_name index_group_name  \\\n",
       "0                        Black    Divided Shoes     Divided          Divided   \n",
       "2                        Black  Jersey Fancy DS     Divided          Divided   \n",
       "4                        Black         Knitwear  Ladieswear       Ladieswear   \n",
       "\n",
       "          section_name garment_group_name  \n",
       "0  Divided Accessories              Shoes  \n",
       "2     Divided Selected       Jersey Fancy  \n",
       "4     Womens Tailoring           Knitwear  "
      ]
     },
     "execution_count": 8,
     "metadata": {},
     "output_type": "execute_result"
    }
   ],
   "source": [
    "X_train, X_val, y_train, y_val = feature_view_ranking.train_test_split(\n",
    "    test_size=0.1,\n",
    "    description='Ranking training dataset',\n",
    ")\n",
    "\n",
    "X_train.head(3)"
   ]
  },
  {
   "cell_type": "code",
   "execution_count": 9,
   "id": "1d6ed2e4-b30d-4f2e-8196-53a404530dcd",
   "metadata": {},
   "outputs": [
    {
     "name": "stdout",
     "output_type": "stream",
     "text": [
      "[0 1]\n"
     ]
    },
    {
     "data": {
      "text/html": [
       "<div>\n",
       "<style scoped>\n",
       "    .dataframe tbody tr th:only-of-type {\n",
       "        vertical-align: middle;\n",
       "    }\n",
       "\n",
       "    .dataframe tbody tr th {\n",
       "        vertical-align: top;\n",
       "    }\n",
       "\n",
       "    .dataframe thead th {\n",
       "        text-align: right;\n",
       "    }\n",
       "</style>\n",
       "<table border=\"1\" class=\"dataframe\">\n",
       "  <thead>\n",
       "    <tr style=\"text-align: right;\">\n",
       "      <th></th>\n",
       "      <th>label</th>\n",
       "    </tr>\n",
       "  </thead>\n",
       "  <tbody>\n",
       "    <tr>\n",
       "      <th>0</th>\n",
       "      <td>0</td>\n",
       "    </tr>\n",
       "    <tr>\n",
       "      <th>2</th>\n",
       "      <td>0</td>\n",
       "    </tr>\n",
       "    <tr>\n",
       "      <th>4</th>\n",
       "      <td>0</td>\n",
       "    </tr>\n",
       "  </tbody>\n",
       "</table>\n",
       "</div>"
      ],
      "text/plain": [
       "   label\n",
       "0      0\n",
       "2      0\n",
       "4      0"
      ]
     },
     "execution_count": 9,
     "metadata": {},
     "output_type": "execute_result"
    }
   ],
   "source": [
    "print(y_train['label'].unique())\n",
    "y_train.head(3)"
   ]
  },
  {
   "cell_type": "markdown",
   "id": "181b8bd5-eb50-4302-bc49-d1bccc10acbc",
   "metadata": {},
   "source": [
    "<div style=\"background-color:moccasin; color:black; padding:5px; font-size:20px\">\n",
    "Model Training"
   ]
  },
  {
   "cell_type": "code",
   "execution_count": 10,
   "id": "21a23d8e-6556-4c34-8249-a67577fd6c1f",
   "metadata": {},
   "outputs": [
    {
     "name": "stdout",
     "output_type": "stream",
     "text": [
      "0:\tlearn: 0.6672984\ttest: 0.6672279\tbest: 0.6672279 (0)\ttotal: 5.68s\tremaining: 9m 22s\n",
      "1:\tlearn: 0.6484568\ttest: 0.6486039\tbest: 0.6486039 (1)\ttotal: 10s\tremaining: 8m 11s\n",
      "2:\tlearn: 0.6356744\ttest: 0.6359217\tbest: 0.6359217 (2)\ttotal: 14.1s\tremaining: 7m 37s\n",
      "3:\tlearn: 0.6254611\ttest: 0.6258056\tbest: 0.6258056 (3)\ttotal: 17.9s\tremaining: 7m 9s\n",
      "4:\tlearn: 0.6186147\ttest: 0.6189046\tbest: 0.6189046 (4)\ttotal: 21.6s\tremaining: 6m 49s\n",
      "5:\tlearn: 0.6134491\ttest: 0.6137101\tbest: 0.6137101 (5)\ttotal: 25.3s\tremaining: 6m 35s\n",
      "6:\tlearn: 0.6082789\ttest: 0.6085570\tbest: 0.6085570 (6)\ttotal: 29s\tremaining: 6m 25s\n",
      "7:\tlearn: 0.6038313\ttest: 0.6040795\tbest: 0.6040795 (7)\ttotal: 32.8s\tremaining: 6m 17s\n",
      "8:\tlearn: 0.6006690\ttest: 0.6008774\tbest: 0.6008774 (8)\ttotal: 36.5s\tremaining: 6m 8s\n",
      "9:\tlearn: 0.5982598\ttest: 0.5984656\tbest: 0.5984656 (9)\ttotal: 40.2s\tremaining: 6m 1s\n",
      "10:\tlearn: 0.5955777\ttest: 0.5956999\tbest: 0.5956999 (10)\ttotal: 43.9s\tremaining: 5m 55s\n",
      "11:\tlearn: 0.5938316\ttest: 0.5939404\tbest: 0.5939404 (11)\ttotal: 47.5s\tremaining: 5m 48s\n",
      "12:\tlearn: 0.5913403\ttest: 0.5914792\tbest: 0.5914792 (12)\ttotal: 51.2s\tremaining: 5m 42s\n",
      "13:\tlearn: 0.5891947\ttest: 0.5893336\tbest: 0.5893336 (13)\ttotal: 55s\tremaining: 5m 37s\n",
      "14:\tlearn: 0.5867233\ttest: 0.5868593\tbest: 0.5868593 (14)\ttotal: 58.7s\tremaining: 5m 32s\n",
      "15:\tlearn: 0.5846052\ttest: 0.5847638\tbest: 0.5847638 (15)\ttotal: 1m 2s\tremaining: 5m 27s\n",
      "16:\tlearn: 0.5831055\ttest: 0.5833118\tbest: 0.5833118 (16)\ttotal: 1m 6s\tremaining: 5m 23s\n",
      "17:\tlearn: 0.5817300\ttest: 0.5818982\tbest: 0.5818982 (17)\ttotal: 1m 9s\tremaining: 5m 18s\n",
      "18:\tlearn: 0.5800929\ttest: 0.5803029\tbest: 0.5803029 (18)\ttotal: 1m 13s\tremaining: 5m 14s\n",
      "19:\tlearn: 0.5790134\ttest: 0.5792756\tbest: 0.5792756 (19)\ttotal: 1m 17s\tremaining: 5m 9s\n",
      "20:\tlearn: 0.5782332\ttest: 0.5785411\tbest: 0.5785411 (20)\ttotal: 1m 21s\tremaining: 5m 4s\n",
      "21:\tlearn: 0.5765024\ttest: 0.5767931\tbest: 0.5767931 (21)\ttotal: 1m 24s\tremaining: 5m\n",
      "22:\tlearn: 0.5757706\ttest: 0.5761126\tbest: 0.5761126 (22)\ttotal: 1m 28s\tremaining: 4m 55s\n",
      "23:\tlearn: 0.5749061\ttest: 0.5752823\tbest: 0.5752823 (23)\ttotal: 1m 32s\tremaining: 4m 51s\n",
      "24:\tlearn: 0.5741776\ttest: 0.5745674\tbest: 0.5745674 (24)\ttotal: 1m 35s\tremaining: 4m 47s\n",
      "25:\tlearn: 0.5735541\ttest: 0.5739742\tbest: 0.5739742 (25)\ttotal: 1m 39s\tremaining: 4m 43s\n",
      "26:\tlearn: 0.5729648\ttest: 0.5734539\tbest: 0.5734539 (26)\ttotal: 1m 43s\tremaining: 4m 39s\n",
      "27:\tlearn: 0.5722705\ttest: 0.5727796\tbest: 0.5727796 (27)\ttotal: 1m 46s\tremaining: 4m 34s\n",
      "28:\tlearn: 0.5717225\ttest: 0.5722447\tbest: 0.5722447 (28)\ttotal: 1m 50s\tremaining: 4m 30s\n",
      "29:\tlearn: 0.5708203\ttest: 0.5713730\tbest: 0.5713730 (29)\ttotal: 1m 54s\tremaining: 4m 26s\n",
      "30:\tlearn: 0.5700903\ttest: 0.5706611\tbest: 0.5706611 (30)\ttotal: 1m 57s\tremaining: 4m 22s\n",
      "31:\tlearn: 0.5694255\ttest: 0.5700272\tbest: 0.5700272 (31)\ttotal: 2m 1s\tremaining: 4m 18s\n",
      "32:\tlearn: 0.5688920\ttest: 0.5695237\tbest: 0.5695237 (32)\ttotal: 2m 5s\tremaining: 4m 14s\n",
      "33:\tlearn: 0.5681214\ttest: 0.5687938\tbest: 0.5687938 (33)\ttotal: 2m 9s\tremaining: 4m 10s\n",
      "34:\tlearn: 0.5673173\ttest: 0.5679960\tbest: 0.5679960 (34)\ttotal: 2m 12s\tremaining: 4m 6s\n",
      "35:\tlearn: 0.5668730\ttest: 0.5675770\tbest: 0.5675770 (35)\ttotal: 2m 16s\tremaining: 4m 2s\n",
      "36:\tlearn: 0.5662833\ttest: 0.5670106\tbest: 0.5670106 (36)\ttotal: 2m 20s\tremaining: 3m 58s\n",
      "37:\tlearn: 0.5658534\ttest: 0.5665682\tbest: 0.5665682 (37)\ttotal: 2m 23s\tremaining: 3m 54s\n",
      "38:\tlearn: 0.5652545\ttest: 0.5659707\tbest: 0.5659707 (38)\ttotal: 2m 27s\tremaining: 3m 50s\n",
      "39:\tlearn: 0.5647687\ttest: 0.5654937\tbest: 0.5654937 (39)\ttotal: 2m 31s\tremaining: 3m 46s\n",
      "40:\tlearn: 0.5639789\ttest: 0.5647323\tbest: 0.5647323 (40)\ttotal: 2m 34s\tremaining: 3m 42s\n",
      "41:\tlearn: 0.5635956\ttest: 0.5643209\tbest: 0.5643209 (41)\ttotal: 2m 38s\tremaining: 3m 38s\n",
      "42:\tlearn: 0.5630788\ttest: 0.5637980\tbest: 0.5637980 (42)\ttotal: 2m 42s\tremaining: 3m 34s\n",
      "43:\tlearn: 0.5621604\ttest: 0.5628404\tbest: 0.5628404 (43)\ttotal: 2m 45s\tremaining: 3m 31s\n",
      "44:\tlearn: 0.5616265\ttest: 0.5623418\tbest: 0.5623418 (44)\ttotal: 2m 49s\tremaining: 3m 27s\n",
      "45:\tlearn: 0.5611543\ttest: 0.5618893\tbest: 0.5618893 (45)\ttotal: 2m 53s\tremaining: 3m 23s\n",
      "46:\tlearn: 0.5608273\ttest: 0.5615711\tbest: 0.5615711 (46)\ttotal: 2m 56s\tremaining: 3m 19s\n",
      "47:\tlearn: 0.5604826\ttest: 0.5612480\tbest: 0.5612480 (47)\ttotal: 3m\tremaining: 3m 15s\n",
      "48:\tlearn: 0.5600085\ttest: 0.5607895\tbest: 0.5607895 (48)\ttotal: 3m 4s\tremaining: 3m 11s\n",
      "49:\tlearn: 0.5596800\ttest: 0.5605071\tbest: 0.5605071 (49)\ttotal: 3m 7s\tremaining: 3m 7s\n",
      "50:\tlearn: 0.5591431\ttest: 0.5600018\tbest: 0.5600018 (50)\ttotal: 3m 11s\tremaining: 3m 4s\n",
      "51:\tlearn: 0.5588011\ttest: 0.5596729\tbest: 0.5596729 (51)\ttotal: 3m 15s\tremaining: 3m\n",
      "52:\tlearn: 0.5584121\ttest: 0.5592709\tbest: 0.5592709 (52)\ttotal: 3m 19s\tremaining: 2m 56s\n",
      "53:\tlearn: 0.5582311\ttest: 0.5590849\tbest: 0.5590849 (53)\ttotal: 3m 22s\tremaining: 2m 52s\n",
      "54:\tlearn: 0.5580321\ttest: 0.5589156\tbest: 0.5589156 (54)\ttotal: 3m 26s\tremaining: 2m 48s\n",
      "55:\tlearn: 0.5573556\ttest: 0.5582737\tbest: 0.5582737 (55)\ttotal: 3m 30s\tremaining: 2m 45s\n",
      "56:\tlearn: 0.5569936\ttest: 0.5580307\tbest: 0.5580307 (56)\ttotal: 3m 33s\tremaining: 2m 41s\n",
      "57:\tlearn: 0.5567404\ttest: 0.5578020\tbest: 0.5578020 (57)\ttotal: 3m 37s\tremaining: 2m 37s\n",
      "58:\tlearn: 0.5565361\ttest: 0.5576371\tbest: 0.5576371 (58)\ttotal: 3m 41s\tremaining: 2m 33s\n",
      "59:\tlearn: 0.5562352\ttest: 0.5573753\tbest: 0.5573753 (59)\ttotal: 3m 44s\tremaining: 2m 29s\n",
      "60:\tlearn: 0.5559625\ttest: 0.5571184\tbest: 0.5571184 (60)\ttotal: 3m 48s\tremaining: 2m 26s\n",
      "61:\tlearn: 0.5554058\ttest: 0.5565998\tbest: 0.5565998 (61)\ttotal: 3m 52s\tremaining: 2m 22s\n",
      "62:\tlearn: 0.5552268\ttest: 0.5564542\tbest: 0.5564542 (62)\ttotal: 3m 55s\tremaining: 2m 18s\n",
      "63:\tlearn: 0.5547104\ttest: 0.5559976\tbest: 0.5559976 (63)\ttotal: 3m 59s\tremaining: 2m 14s\n",
      "64:\tlearn: 0.5545147\ttest: 0.5557737\tbest: 0.5557737 (64)\ttotal: 4m 3s\tremaining: 2m 10s\n",
      "65:\tlearn: 0.5544192\ttest: 0.5556831\tbest: 0.5556831 (65)\ttotal: 4m 6s\tremaining: 2m 7s\n",
      "66:\tlearn: 0.5539496\ttest: 0.5552473\tbest: 0.5552473 (66)\ttotal: 4m 10s\tremaining: 2m 3s\n",
      "67:\tlearn: 0.5536012\ttest: 0.5549046\tbest: 0.5549046 (67)\ttotal: 4m 14s\tremaining: 1m 59s\n",
      "68:\tlearn: 0.5535035\ttest: 0.5548178\tbest: 0.5548178 (68)\ttotal: 4m 17s\tremaining: 1m 55s\n",
      "69:\tlearn: 0.5532179\ttest: 0.5545596\tbest: 0.5545596 (69)\ttotal: 4m 21s\tremaining: 1m 52s\n",
      "70:\tlearn: 0.5528866\ttest: 0.5542207\tbest: 0.5542207 (70)\ttotal: 4m 25s\tremaining: 1m 48s\n",
      "71:\tlearn: 0.5527434\ttest: 0.5540980\tbest: 0.5540980 (71)\ttotal: 4m 28s\tremaining: 1m 44s\n",
      "72:\tlearn: 0.5527012\ttest: 0.5540635\tbest: 0.5540635 (72)\ttotal: 4m 32s\tremaining: 1m 40s\n",
      "73:\tlearn: 0.5525587\ttest: 0.5539294\tbest: 0.5539294 (73)\ttotal: 4m 36s\tremaining: 1m 37s\n",
      "74:\tlearn: 0.5523489\ttest: 0.5537448\tbest: 0.5537448 (74)\ttotal: 4m 39s\tremaining: 1m 33s\n",
      "75:\tlearn: 0.5521300\ttest: 0.5535696\tbest: 0.5535696 (75)\ttotal: 4m 43s\tremaining: 1m 29s\n",
      "76:\tlearn: 0.5519713\ttest: 0.5534528\tbest: 0.5534528 (76)\ttotal: 4m 47s\tremaining: 1m 25s\n",
      "77:\tlearn: 0.5516559\ttest: 0.5531607\tbest: 0.5531607 (77)\ttotal: 4m 51s\tremaining: 1m 22s\n",
      "78:\tlearn: 0.5512420\ttest: 0.5527758\tbest: 0.5527758 (78)\ttotal: 4m 54s\tremaining: 1m 18s\n",
      "79:\tlearn: 0.5509703\ttest: 0.5525172\tbest: 0.5525172 (79)\ttotal: 4m 58s\tremaining: 1m 14s\n",
      "80:\tlearn: 0.5506856\ttest: 0.5522589\tbest: 0.5522589 (80)\ttotal: 5m 2s\tremaining: 1m 10s\n",
      "81:\tlearn: 0.5503157\ttest: 0.5518968\tbest: 0.5518968 (81)\ttotal: 5m 5s\tremaining: 1m 7s\n",
      "82:\tlearn: 0.5501737\ttest: 0.5517734\tbest: 0.5517734 (82)\ttotal: 5m 9s\tremaining: 1m 3s\n",
      "83:\tlearn: 0.5498582\ttest: 0.5514736\tbest: 0.5514736 (83)\ttotal: 5m 13s\tremaining: 59.6s\n",
      "84:\tlearn: 0.5494616\ttest: 0.5511480\tbest: 0.5511480 (84)\ttotal: 5m 16s\tremaining: 55.9s\n",
      "85:\tlearn: 0.5492961\ttest: 0.5509936\tbest: 0.5509936 (85)\ttotal: 5m 20s\tremaining: 52.2s\n",
      "86:\tlearn: 0.5488934\ttest: 0.5506430\tbest: 0.5506430 (86)\ttotal: 5m 24s\tremaining: 48.4s\n",
      "87:\tlearn: 0.5488066\ttest: 0.5505905\tbest: 0.5505905 (87)\ttotal: 5m 27s\tremaining: 44.7s\n",
      "88:\tlearn: 0.5486087\ttest: 0.5504189\tbest: 0.5504189 (88)\ttotal: 5m 31s\tremaining: 41s\n",
      "89:\tlearn: 0.5484096\ttest: 0.5502734\tbest: 0.5502734 (89)\ttotal: 5m 35s\tremaining: 37.3s\n",
      "90:\tlearn: 0.5482940\ttest: 0.5501854\tbest: 0.5501854 (90)\ttotal: 5m 38s\tremaining: 33.5s\n",
      "91:\tlearn: 0.5481044\ttest: 0.5500249\tbest: 0.5500249 (91)\ttotal: 5m 42s\tremaining: 29.8s\n",
      "92:\tlearn: 0.5478029\ttest: 0.5497307\tbest: 0.5497307 (92)\ttotal: 5m 46s\tremaining: 26.1s\n",
      "93:\tlearn: 0.5476648\ttest: 0.5496271\tbest: 0.5496271 (93)\ttotal: 5m 50s\tremaining: 22.4s\n",
      "94:\tlearn: 0.5474727\ttest: 0.5494363\tbest: 0.5494363 (94)\ttotal: 5m 54s\tremaining: 18.6s\n",
      "95:\tlearn: 0.5473946\ttest: 0.5493714\tbest: 0.5493714 (95)\ttotal: 5m 57s\tremaining: 14.9s\n",
      "96:\tlearn: 0.5471393\ttest: 0.5491447\tbest: 0.5491447 (96)\ttotal: 6m 1s\tremaining: 11.2s\n",
      "97:\tlearn: 0.5469607\ttest: 0.5489736\tbest: 0.5489736 (97)\ttotal: 6m 5s\tremaining: 7.45s\n",
      "98:\tlearn: 0.5467197\ttest: 0.5487711\tbest: 0.5487711 (98)\ttotal: 6m 8s\tremaining: 3.73s\n",
      "99:\tlearn: 0.5466143\ttest: 0.5486713\tbest: 0.5486713 (99)\ttotal: 6m 12s\tremaining: 0us\n",
      "\n",
      "bestTest = 0.548671289\n",
      "bestIteration = 99\n",
      "\n"
     ]
    },
    {
     "data": {
      "text/plain": [
       "<catboost.core.CatBoostClassifier at 0x7f5126f761d0>"
      ]
     },
     "execution_count": 10,
     "metadata": {},
     "output_type": "execute_result"
    }
   ],
   "source": [
    "# Get Feature Cols\n",
    "cat_features = list(\n",
    "    X_train.select_dtypes(include=['string', 'object']).columns\n",
    ")\n",
    "\n",
    "# Convert to Catboost-optmized data structure\n",
    "pool_train = Pool(X_train, y_train, cat_features=cat_features)\n",
    "pool_val = Pool(X_val, y_val, cat_features=cat_features)\n",
    "\n",
    "model = CatBoostClassifier(\n",
    "    learning_rate=0.2,\n",
    "    iterations=100,\n",
    "    depth=10,\n",
    "    scale_pos_weight=10,\n",
    "    early_stopping_rounds=5,\n",
    "    use_best_model=True,\n",
    ")\n",
    "\n",
    "model.fit(\n",
    "    pool_train, \n",
    "    eval_set=pool_val,\n",
    ")"
   ]
  },
  {
   "cell_type": "markdown",
   "id": "e637b0cb-5b1b-485a-aac9-10bef3e76ddb",
   "metadata": {},
   "source": [
    "<div style=\"background-color:moccasin; color:black; padding:5px; font-size:20px\">\n",
    "Model Validation"
   ]
  },
  {
   "cell_type": "code",
   "execution_count": 11,
   "id": "52147734-be8a-4a2f-9661-cbbe9f7eeaff",
   "metadata": {},
   "outputs": [
    {
     "name": "stdout",
     "output_type": "stream",
     "text": [
      "              precision    recall  f1-score   support\n",
      "\n",
      "           0       0.96      0.65      0.78    445900\n",
      "           1       0.21      0.78      0.33     52537\n",
      "\n",
      "    accuracy                           0.66    498437\n",
      "   macro avg       0.59      0.72      0.55    498437\n",
      "weighted avg       0.88      0.66      0.73    498437\n",
      "\n"
     ]
    }
   ],
   "source": [
    "preds = model.predict(pool_val)\n",
    "\n",
    "precision, recall, fscore, _ = precision_recall_fscore_support(y_val, preds, average=\"binary\")\n",
    "\n",
    "metrics = {\n",
    "    \"precision\" : precision,\n",
    "    \"recall\" : recall,\n",
    "    \"fscore\" : fscore,\n",
    "}\n",
    "print(classification_report(y_val, preds))"
   ]
  },
  {
   "cell_type": "markdown",
   "id": "8978ba7c-cb2a-425b-bfec-bf298efd6414",
   "metadata": {},
   "source": [
    "FEATURE IMPORTANCE"
   ]
  },
  {
   "cell_type": "code",
   "execution_count": 12,
   "id": "180af52b-ee48-435d-bfea-67034d3cccdf",
   "metadata": {},
   "outputs": [
    {
     "data": {
      "text/plain": [
       "{'age': 13.505568491622682,\n",
       " 'section_name': 12.532571454715532,\n",
       " 'index_group_name': 11.571737528360387,\n",
       " 'department_name': 9.089974856665528,\n",
       " 'graphical_appearance_name': 8.692475054793492,\n",
       " 'garment_group_name': 8.488023545500859,\n",
       " 'product_type_name': 8.487487768947958,\n",
       " 'perceived_colour_value_name': 6.649502564750725,\n",
       " 'product_group_name': 6.180066914616397,\n",
       " 'colour_group_name': 6.045853099100066,\n",
       " 'perceived_colour_master_name': 5.168143576791541,\n",
       " 'index_name': 3.571679652831134,\n",
       " 'month_sin': 0.010395166513608067,\n",
       " 'month_cos': 0.006520324790075298}"
      ]
     },
     "execution_count": 12,
     "metadata": {},
     "output_type": "execute_result"
    }
   ],
   "source": [
    "feat_to_score = {\n",
    "    feature: score \n",
    "    for feature, score \n",
    "    in zip(\n",
    "        X_train.columns, \n",
    "        model.feature_importances_,\n",
    "    )\n",
    "}\n",
    "\n",
    "feat_to_score = dict(\n",
    "    sorted(\n",
    "        feat_to_score.items(),\n",
    "        key=lambda item: item[1],\n",
    "        reverse=True,\n",
    "    )\n",
    ")\n",
    "feat_to_score"
   ]
  },
  {
   "cell_type": "markdown",
   "id": "ee391449-f835-4b5b-af55-d80fcd24b6ea",
   "metadata": {},
   "source": [
    "<div style=\"background-color:moccasin; color:black; padding:5px; font-size:20px\">\n",
    "Save and Upload to Registry"
   ]
  },
  {
   "cell_type": "code",
   "execution_count": 15,
   "id": "b578a689-06af-4f67-9511-10940d0f3fb4",
   "metadata": {},
   "outputs": [
    {
     "data": {
      "text/plain": [
       "['ranking_model.pkl']"
      ]
     },
     "execution_count": 15,
     "metadata": {},
     "output_type": "execute_result"
    }
   ],
   "source": [
    "joblib.dump(model, 'ranking_model.pkl')"
   ]
  },
  {
   "cell_type": "code",
   "execution_count": 13,
   "id": "299680c7-e3b1-4c29-9ce4-7a950856820d",
   "metadata": {},
   "outputs": [
    {
     "name": "stdout",
     "output_type": "stream",
     "text": [
      "Connected. Call `.close()` to terminate connection gracefully.\n"
     ]
    }
   ],
   "source": [
    "# Connect to Hopsworks Model Registry\n",
    "mr = project.get_model_registry()"
   ]
  },
  {
   "cell_type": "code",
   "execution_count": 16,
   "id": "18801817-fa9e-4cbc-b1cd-8b0bf11f69b1",
   "metadata": {},
   "outputs": [
    {
     "data": {
      "application/vnd.jupyter.widget-view+json": {
       "model_id": "0ed30cf8f6c84e129e06e3105713b9be",
       "version_major": 2,
       "version_minor": 0
      },
      "text/plain": [
       "  0%|          | 0/6 [00:00<?, ?it/s]"
      ]
     },
     "metadata": {},
     "output_type": "display_data"
    },
    {
     "data": {
      "application/vnd.jupyter.widget-view+json": {
       "model_id": "746e82da540246098f53027f263b0813",
       "version_major": 2,
       "version_minor": 0
      },
      "text/plain": [
       "Uploading: 0.000%|          | 0/6186039 elapsed<00:00 remaining<?"
      ]
     },
     "metadata": {},
     "output_type": "display_data"
    },
    {
     "data": {
      "application/vnd.jupyter.widget-view+json": {
       "model_id": "5fa8139e1c7a40fc9b0f7a746d868d89",
       "version_major": 2,
       "version_minor": 0
      },
      "text/plain": [
       "Uploading: 0.000%|          | 0/477 elapsed<00:00 remaining<?"
      ]
     },
     "metadata": {},
     "output_type": "display_data"
    },
    {
     "data": {
      "application/vnd.jupyter.widget-view+json": {
       "model_id": "10a0556105f744b08db596aa716df92c",
       "version_major": 2,
       "version_minor": 0
      },
      "text/plain": [
       "Uploading: 0.000%|          | 0/1274 elapsed<00:00 remaining<?"
      ]
     },
     "metadata": {},
     "output_type": "display_data"
    },
    {
     "name": "stdout",
     "output_type": "stream",
     "text": [
      "Model created, explore it at https://c.app.hopsworks.ai:443/p/475285/models/ranking_model/1\n"
     ]
    },
    {
     "data": {
      "text/plain": [
       "Model(name: 'ranking_model', version: 1)"
      ]
     },
     "execution_count": 16,
     "metadata": {},
     "output_type": "execute_result"
    }
   ],
   "source": [
    "from hsml.schema import Schema\n",
    "from hsml.model_schema import ModelSchema\n",
    "\n",
    "input_example = X_train.sample().to_dict(\"records\")\n",
    "input_schema = Schema(X_train)\n",
    "output_schema = Schema(y_train)\n",
    "model_schema = ModelSchema(input_schema, output_schema)\n",
    "\n",
    "ranking_model = mr.python.create_model(\n",
    "    name=\"ranking_model\", \n",
    "    metrics=metrics,\n",
    "    model_schema=model_schema,\n",
    "    input_example=input_example,\n",
    "    description=\"Ranking model that scores item candidates\",\n",
    ")\n",
    "ranking_model.save(\"model_artifacts/ranking_model.pkl\")"
   ]
  }
 ],
 "metadata": {
  "kernelspec": {
   "display_name": "Python 3 (ipykernel)",
   "language": "python",
   "name": "python3"
  },
  "language_info": {
   "codemirror_mode": {
    "name": "ipython",
    "version": 3
   },
   "file_extension": ".py",
   "mimetype": "text/x-python",
   "name": "python",
   "nbconvert_exporter": "python",
   "pygments_lexer": "ipython3",
   "version": "3.10.13"
  }
 },
 "nbformat": 4,
 "nbformat_minor": 5
}
